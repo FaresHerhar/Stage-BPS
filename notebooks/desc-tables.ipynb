{
 "cells": [
  {
   "cell_type": "code",
   "execution_count": 25,
   "id": "trained-raleigh",
   "metadata": {},
   "outputs": [],
   "source": [
    "import pandas as pd\n",
    "import matplotlib.pyplot as plt\n",
    "import squarify\n",
    "import plotly.express as px\n",
    "import math"
   ]
  },
  {
   "cell_type": "code",
   "execution_count": 4,
   "id": "aquatic-feeling",
   "metadata": {},
   "outputs": [],
   "source": [
    "df = pd.read_csv('../cleaned-data/pc-clusters.csv', encoding='iso-8859-1', sep=\"\\t\", usecols=['COMAX', 'AGE', 'COSEXE', 'CTSCPI'])"
   ]
  },
  {
   "cell_type": "code",
   "execution_count": 74,
   "id": "invalid-loading",
   "metadata": {},
   "outputs": [],
   "source": [
    "df_ = pd.read_csv('../cleaned-data/mc-clusters.csv', encoding='iso-8859-1', sep=\"\\t\", usecols=['COMAX', 'CTPE', 'CORELB'])"
   ]
  },
  {
   "cell_type": "code",
   "execution_count": 4,
   "id": "viral-cooling",
   "metadata": {},
   "outputs": [],
   "source": [
    "insee = pd.read_csv('../data/tj10.csv', encoding='iso-8859-1', sep=\";\", usecols=['CTSCPI', 'LISCPI'])"
   ]
  },
  {
   "cell_type": "code",
   "execution_count": 89,
   "id": "attractive-magazine",
   "metadata": {},
   "outputs": [],
   "source": [
    "ctr = pd.read_csv('../cleaned-data/cleaned/contracts.csv', encoding='iso-8859-1', sep=\"\\t\", usecols=['COMAX', 'COPRO'])"
   ]
  },
  {
   "cell_type": "code",
   "execution_count": 96,
   "id": "through-policy",
   "metadata": {},
   "outputs": [],
   "source": [
    "prod = pd.read_csv('../cleaned-data/cleaned/products.csv', encoding='iso-8859-1', sep=\"\\t\", usecols=['COPRO', 'COPROG'])"
   ]
  },
  {
   "cell_type": "code",
   "execution_count": 5,
   "id": "painful-spirituality",
   "metadata": {},
   "outputs": [
    {
     "name": "stdout",
     "output_type": "stream",
     "text": [
      "<class 'pandas.core.frame.DataFrame'>\n",
      "RangeIndex: 627710 entries, 0 to 627709\n",
      "Data columns (total 4 columns):\n",
      " #   Column  Non-Null Count   Dtype \n",
      "---  ------  --------------   ----- \n",
      " 0   COMAX   627710 non-null  object\n",
      " 1   AGE     627710 non-null  int64 \n",
      " 2   COSEXE  627710 non-null  int64 \n",
      " 3   CTSCPI  627710 non-null  int64 \n",
      "dtypes: int64(3), object(1)\n",
      "memory usage: 19.2+ MB\n"
     ]
    }
   ],
   "source": [
    "df.info()"
   ]
  },
  {
   "cell_type": "code",
   "execution_count": 6,
   "id": "complete-concentration",
   "metadata": {},
   "outputs": [
    {
     "data": {
      "text/plain": [
       "(627710, 4)"
      ]
     },
     "execution_count": 6,
     "metadata": {},
     "output_type": "execute_result"
    }
   ],
   "source": [
    "df.shape"
   ]
  },
  {
   "cell_type": "code",
   "execution_count": 7,
   "id": "several-plasma",
   "metadata": {},
   "outputs": [
    {
     "data": {
      "text/plain": [
       "Index(['COMAX', 'AGE', 'COSEXE', 'CTSCPI'], dtype='object')"
      ]
     },
     "execution_count": 7,
     "metadata": {},
     "output_type": "execute_result"
    }
   ],
   "source": [
    "df.columns"
   ]
  },
  {
   "cell_type": "markdown",
   "id": "private-heaven",
   "metadata": {},
   "source": [
    "# Analyse une variable"
   ]
  },
  {
   "cell_type": "markdown",
   "id": "coupled-valve",
   "metadata": {},
   "source": [
    "## Clients Morales"
   ]
  },
  {
   "cell_type": "markdown",
   "id": "harmful-commons",
   "metadata": {},
   "source": [
    "### AGE"
   ]
  },
  {
   "cell_type": "code",
   "execution_count": 8,
   "id": "controlling-picking",
   "metadata": {},
   "outputs": [
    {
     "data": {
      "text/html": [
       "<div>\n",
       "<style scoped>\n",
       "    .dataframe tbody tr th:only-of-type {\n",
       "        vertical-align: middle;\n",
       "    }\n",
       "\n",
       "    .dataframe tbody tr th {\n",
       "        vertical-align: top;\n",
       "    }\n",
       "\n",
       "    .dataframe thead th {\n",
       "        text-align: right;\n",
       "    }\n",
       "</style>\n",
       "<table border=\"1\" class=\"dataframe\">\n",
       "  <thead>\n",
       "    <tr style=\"text-align: right;\">\n",
       "      <th></th>\n",
       "      <th>AGE</th>\n",
       "    </tr>\n",
       "  </thead>\n",
       "  <tbody>\n",
       "    <tr>\n",
       "      <th>count</th>\n",
       "      <td>627710.000000</td>\n",
       "    </tr>\n",
       "    <tr>\n",
       "      <th>mean</th>\n",
       "      <td>47.600875</td>\n",
       "    </tr>\n",
       "    <tr>\n",
       "      <th>std</th>\n",
       "      <td>23.227287</td>\n",
       "    </tr>\n",
       "    <tr>\n",
       "      <th>min</th>\n",
       "      <td>0.000000</td>\n",
       "    </tr>\n",
       "    <tr>\n",
       "      <th>25%</th>\n",
       "      <td>30.000000</td>\n",
       "    </tr>\n",
       "    <tr>\n",
       "      <th>50%</th>\n",
       "      <td>48.000000</td>\n",
       "    </tr>\n",
       "    <tr>\n",
       "      <th>75%</th>\n",
       "      <td>65.000000</td>\n",
       "    </tr>\n",
       "    <tr>\n",
       "      <th>max</th>\n",
       "      <td>124.000000</td>\n",
       "    </tr>\n",
       "  </tbody>\n",
       "</table>\n",
       "</div>"
      ],
      "text/plain": [
       "                 AGE\n",
       "count  627710.000000\n",
       "mean       47.600875\n",
       "std        23.227287\n",
       "min         0.000000\n",
       "25%        30.000000\n",
       "50%        48.000000\n",
       "75%        65.000000\n",
       "max       124.000000"
      ]
     },
     "execution_count": 8,
     "metadata": {},
     "output_type": "execute_result"
    }
   ],
   "source": [
    "pd.DataFrame(df['AGE'].describe())"
   ]
  },
  {
   "cell_type": "code",
   "execution_count": 17,
   "id": "departmental-explorer",
   "metadata": {},
   "outputs": [
    {
     "data": {
      "text/plain": [
       "array([ 55,  41,  32,  23,  13,  61,  40,  69,  44,  10,  49,  84,  58,\n",
       "        28,  31,  37,  19,   8,  56,   6,  78,  53,  46,   4,  54,  48,\n",
       "        25,  66,  42,  57,  18,  35,  63,  39,  70,  81,  76,  52,  47,\n",
       "        60,  59,  12,  51,  14,  68,  33,  67,  43,  26,  64,  74,   9,\n",
       "        62,  50,  72,  95,  65,   2,  82,  80,  17,  94,  38,  16,  71,\n",
       "        73,  34,  30,   3,  22,  36,  24,  20,  88,  83,  75,  21,  89,\n",
       "        99,  85,  91,  86,  77,   7,  45,  29,   1,  15,   5,  11,  79,\n",
       "        92,  98,  93,  87,  27,  90,  96, 100,  97, 101, 104,   0, 102,\n",
       "       106, 107, 118, 105, 108, 103, 114, 110, 109, 112, 111, 115, 117,\n",
       "       116, 113, 123, 120, 119, 121, 124])"
      ]
     },
     "execution_count": 17,
     "metadata": {},
     "output_type": "execute_result"
    }
   ],
   "source": [
    "df.AGE.unique()"
   ]
  },
  {
   "cell_type": "code",
   "execution_count": 18,
   "id": "senior-politics",
   "metadata": {},
   "outputs": [
    {
     "data": {
      "text/plain": [
       "124"
      ]
     },
     "execution_count": 18,
     "metadata": {},
     "output_type": "execute_result"
    }
   ],
   "source": [
    "df.AGE.nunique()"
   ]
  },
  {
   "cell_type": "code",
   "execution_count": 9,
   "id": "hollow-syndicate",
   "metadata": {},
   "outputs": [
    {
     "data": {
      "image/png": "[encoded data removed]",
      "text/plain": [
       "<Figure size 432x288 with 1 Axes>"
      ]
     },
     "metadata": {
      "needs_background": "light"
     },
     "output_type": "display_data"
    }
   ],
   "source": [
    "bp = plt.boxplot(df['AGE'], vert=False, patch_artist=True)\n",
    "plt.yticks([1], [''])\n",
    "\n",
    "plt.setp(bp['caps'],color='blue',alpha=1)\n",
    "plt.setp(bp['whiskers'],color='blue',alpha=1)\n",
    "plt.setp(bp['medians'],color='tomato',alpha=1,linewidth=4.0)\n",
    "plt.setp(bp['boxes'], color='blue', facecolor='lightblue',alpha=1,linewidth=0.5)\n",
    "\n",
    "plt.xlabel('AGE')\n",
    "plt.ylabel('BOX PLOT')\n",
    "plt.title('Box Plot Pour AGE', fontsize=16)\n",
    "\n",
    "plt.grid(alpha=0.5)\n",
    "plt.savefig(\"../graphs/age_box.svg\")"
   ]
  },
  {
   "cell_type": "code",
   "execution_count": 20,
   "id": "three-recording",
   "metadata": {},
   "outputs": [],
   "source": [
    "age = df['AGE'].value_counts()\n",
    "age = list(zip(age.index, age.values))\n",
    "age.sort(key=lambda x: x[0])"
   ]
  },
  {
   "cell_type": "code",
   "execution_count": 31,
   "id": "cooked-calibration",
   "metadata": {},
   "outputs": [
    {
     "name": "stdout",
     "output_type": "stream",
     "text": [
      "AGE: 0, COUNT: 438, %: 0.06977744499848657.\n",
      "AGE: 1, COUNT: 1215, %: 0.19356072071497984.\n",
      "AGE: 2, COUNT: 1798, %: 0.2864380048111389.\n",
      "AGE: 3, COUNT: 2229, %: 0.3551002851635309.\n",
      "AGE: 4, COUNT: 2687, %: 0.4280639148651447.\n",
      "AGE: 5, COUNT: 3225, %: 0.5137722833792675.\n",
      "AGE: 6, COUNT: 3819, %: 0.6084019690621465.\n",
      "AGE: 7, COUNT: 4190, %: 0.6675056953051569.\n",
      "AGE: 8, COUNT: 4677, %: 0.7450892928263051.\n",
      "AGE: 9, COUNT: 4924, %: 0.7844386739099266.\n",
      "AGE: 10, COUNT: 5215, %: 0.8307976613404279.\n",
      "AGE: 11, COUNT: 5392, %: 0.858995395963104.\n",
      "AGE: 12, COUNT: 5501, %: 0.8763601025951475.\n",
      "AGE: 13, COUNT: 5541, %: 0.882732472001402.\n",
      "AGE: 14, COUNT: 5817, %: 0.9267018209045578.\n",
      "AGE: 15, COUNT: 6185, %: 0.9853276194420991.\n",
      "AGE: 16, COUNT: 6190, %: 0.9861241656178809.\n",
      "AGE: 17, COUNT: 6430, %: 1.0243583820554079.\n",
      "AGE: 18, COUNT: 6639, %: 1.0576540122030873.\n",
      "AGE: 19, COUNT: 6635, %: 1.057016775262462.\n",
      "AGE: 20, COUNT: 7027, %: 1.119465995443756.\n",
      "AGE: 21, COUNT: 6757, %: 1.076452501951538.\n",
      "AGE: 22, COUNT: 6822, %: 1.0868076022367017.\n",
      "AGE: 23, COUNT: 6680, %: 1.0641856908444982.\n",
      "AGE: 24, COUNT: 6718, %: 1.0702394417804402.\n",
      "AGE: 25, COUNT: 6719, %: 1.0703987510155963.\n",
      "AGE: 26, COUNT: 6556, %: 1.0444313456851093.\n",
      "AGE: 27, COUNT: 6714, %: 1.0696022048398146.\n",
      "AGE: 28, COUNT: 6948, %: 1.1068805658664032.\n",
      "AGE: 29, COUNT: 7118, %: 1.1339631358429847.\n",
      "AGE: 30, COUNT: 7480, %: 1.191633078969588.\n",
      "AGE: 31, COUNT: 7538, %: 1.2008730146086568.\n",
      "AGE: 32, COUNT: 7618, %: 1.2136177534211658.\n",
      "AGE: 33, COUNT: 7801, %: 1.24277134345478.\n",
      "AGE: 34, COUNT: 7866, %: 1.2531264437399436.\n",
      "AGE: 35, COUNT: 7893, %: 1.2574277930891653.\n",
      "AGE: 36, COUNT: 7856, %: 1.25153335138838.\n",
      "AGE: 37, COUNT: 7941, %: 1.2650746363766707.\n",
      "AGE: 38, COUNT: 8655, %: 1.3788214302783133.\n",
      "AGE: 39, COUNT: 8969, %: 1.4288445301174109.\n",
      "AGE: 40, COUNT: 9254, %: 1.4742476621369742.\n",
      "AGE: 41, COUNT: 8882, %: 1.4149846266588073.\n",
      "AGE: 42, COUNT: 8672, %: 1.3815296872759715.\n",
      "AGE: 43, COUNT: 8926, %: 1.4219942330056874.\n",
      "AGE: 44, COUNT: 8309, %: 1.323700434914212.\n",
      "AGE: 45, COUNT: 8706, %: 1.3869462012712876.\n",
      "AGE: 46, COUNT: 9389, %: 1.495754408883083.\n",
      "AGE: 47, COUNT: 9924, %: 1.5809848496917367.\n",
      "AGE: 48, COUNT: 10150, %: 1.6169887368370746.\n",
      "AGE: 49, COUNT: 10190, %: 1.6233611062433289.\n",
      "AGE: 50, COUNT: 9807, %: 1.5623456691784423.\n",
      "AGE: 51, COUNT: 9607, %: 1.5304838221471697.\n",
      "AGE: 52, COUNT: 9462, %: 1.5073839830494973.\n",
      "AGE: 53, COUNT: 9513, %: 1.5155087540424719.\n",
      "AGE: 54, COUNT: 9578, %: 1.5258638543276355.\n",
      "AGE: 55, COUNT: 9506, %: 1.5143935893963774.\n",
      "AGE: 56, COUNT: 9687, %: 1.5432285609596788.\n",
      "AGE: 57, COUNT: 9425, %: 1.501489541348712.\n",
      "AGE: 58, COUNT: 8769, %: 1.3969826830861385.\n",
      "AGE: 59, COUNT: 8767, %: 1.3966640646158257.\n",
      "AGE: 60, COUNT: 8556, %: 1.3630498159978335.\n",
      "AGE: 61, COUNT: 8765, %: 1.3963454461455131.\n",
      "AGE: 62, COUNT: 8334, %: 1.327683165793121.\n",
      "AGE: 63, COUNT: 8221, %: 1.3096812222204521.\n",
      "AGE: 64, COUNT: 8265, %: 1.316690828567332.\n",
      "AGE: 65, COUNT: 8135, %: 1.295980627997005.\n",
      "AGE: 66, COUNT: 8215, %: 1.308725366809514.\n",
      "AGE: 67, COUNT: 8086, %: 1.2881744754743434.\n",
      "AGE: 68, COUNT: 8050, %: 1.2824393430087142.\n",
      "AGE: 69, COUNT: 7886, %: 1.2563126284430708.\n",
      "AGE: 70, COUNT: 8168, %: 1.301237832757165.\n",
      "AGE: 71, COUNT: 8123, %: 1.2940689171751287.\n",
      "AGE: 72, COUNT: 8128, %: 1.2948654633509105.\n",
      "AGE: 73, COUNT: 7911, %: 1.26029535932198.\n",
      "AGE: 74, COUNT: 7483, %: 1.1921110066750569.\n",
      "AGE: 75, COUNT: 5764, %: 0.9182584314412706.\n",
      "AGE: 76, COUNT: 5614, %: 0.8943620461678163.\n",
      "AGE: 77, COUNT: 5667, %: 0.9028054356311035.\n",
      "AGE: 78, COUNT: 4853, %: 0.7731277182138249.\n",
      "AGE: 79, COUNT: 4420, %: 0.7041468193911201.\n",
      "AGE: 80, COUNT: 3836, %: 0.6111102260598047.\n",
      "AGE: 81, COUNT: 3931, %: 0.626244603399659.\n",
      "AGE: 82, COUNT: 3983, %: 0.6345286836277899.\n",
      "AGE: 83, COUNT: 3720, %: 0.5926303547816667.\n",
      "AGE: 84, COUNT: 3549, %: 0.5653884755699288.\n",
      "AGE: 85, COUNT: 3462, %: 0.5515285721113253.\n",
      "AGE: 86, COUNT: 3318, %: 0.5285880422488092.\n",
      "AGE: 87, COUNT: 3244, %: 0.5167991588472384.\n",
      "AGE: 88, COUNT: 3095, %: 0.4930620828089404.\n",
      "AGE: 89, COUNT: 2951, %: 0.4701215529464243.\n",
      "AGE: 90, COUNT: 2775, %: 0.44208312755890455.\n",
      "AGE: 91, COUNT: 2555, %: 0.407035095824505.\n",
      "AGE: 92, COUNT: 2204, %: 0.3511175542846219.\n",
      "AGE: 93, COUNT: 1935, %: 0.3082633700275605.\n",
      "AGE: 94, COUNT: 1809, %: 0.28819040639785887.\n",
      "AGE: 95, COUNT: 1753, %: 0.27926908922910265.\n",
      "AGE: 96, COUNT: 1512, %: 0.24087556355641937.\n",
      "AGE: 97, COUNT: 1336, %: 0.21283713816889963.\n",
      "AGE: 98, COUNT: 1204, %: 0.19180831912825985.\n",
      "AGE: 99, COUNT: 1079, %: 0.17189466473371462.\n",
      "AGE: 100, COUNT: 902, %: 0.14369693011103854.\n",
      "AGE: 101, COUNT: 426, %: 0.06786573417661022.\n",
      "AGE: 102, COUNT: 367, %: 0.05846648930238486.\n",
      "AGE: 103, COUNT: 236, %: 0.03759697949690144.\n",
      "AGE: 104, COUNT: 153, %: 0.02437431297892339.\n",
      "AGE: 105, COUNT: 155, %: 0.024692931449236115.\n",
      "AGE: 106, COUNT: 168, %: 0.02676395150626882.\n",
      "AGE: 107, COUNT: 102, %: 0.016249541985948926.\n",
      "AGE: 108, COUNT: 92, %: 0.014656449634385305.\n",
      "AGE: 109, COUNT: 68, %: 0.010833027990632618.\n",
      "AGE: 110, COUNT: 42, %: 0.006690987876567205.\n",
      "AGE: 111, COUNT: 33, %: 0.005257204760159947.\n",
      "AGE: 112, COUNT: 36, %: 0.005735132465629032.\n",
      "AGE: 113, COUNT: 19, %: 0.0030268754679708782.\n",
      "AGE: 114, COUNT: 17, %: 0.0027082569976581545.\n",
      "AGE: 115, COUNT: 6, %: 0.0009558554109381721.\n",
      "AGE: 116, COUNT: 7, %: 0.001115164646094534.\n",
      "AGE: 117, COUNT: 6, %: 0.0009558554109381721.\n",
      "AGE: 118, COUNT: 9, %: 0.001433783116407258.\n",
      "AGE: 119, COUNT: 8, %: 0.0012744738812508962.\n",
      "AGE: 120, COUNT: 5, %: 0.0007965461757818101.\n",
      "AGE: 121, COUNT: 3, %: 0.00047792770546908604.\n",
      "AGE: 123, COUNT: 7, %: 0.001115164646094534.\n",
      "AGE: 124, COUNT: 2, %: 0.00031861847031272405.\n"
     ]
    }
   ],
   "source": [
    "for temp in age:\n",
    "    print('AGE: {}, COUNT: {}, %: {}.'.format(temp[0], temp[1], temp[1] / df.shape[0] * 100))"
   ]
  },
  {
   "cell_type": "code",
   "execution_count": 73,
   "id": "centered-dynamics",
   "metadata": {},
   "outputs": [
    {
     "data": {
      "image/png": "[encoded data removed]",
      "text/plain": [
       "<Figure size 432x288 with 1 Axes>"
      ]
     },
     "metadata": {
      "needs_background": "light"
     },
     "output_type": "display_data"
    }
   ],
   "source": [
    "bins = [i for i in range(125)]\n",
    "plt.hist(df['AGE'], bins=bins, edgecolor='black')\n",
    "plt.axvline(df.AGE.median(), color='#FC4F30', label='Median Age')\n",
    "\n",
    "plt.xlabel('Age')\n",
    "plt.ylabel('Nombre de Clients')\n",
    "plt.title(\"Histograme d'Age\", fontsize=16)\n",
    "plt.legend()\n",
    "plt.tight_layout()\n",
    "plt.savefig(\"../graphs/age_hist.svg\")"
   ]
  },
  {
   "cell_type": "markdown",
   "id": "wooden-devil",
   "metadata": {},
   "source": [
    "### SEXE"
   ]
  },
  {
   "cell_type": "code",
   "execution_count": 15,
   "id": "inside-comfort",
   "metadata": {},
   "outputs": [],
   "source": [
    "# O is for male, and 1 for female\n",
    "sex = df['COSEXE'].value_counts(normalize=True)"
   ]
  },
  {
   "cell_type": "code",
   "execution_count": 16,
   "id": "rocky-narrow",
   "metadata": {},
   "outputs": [
    {
     "data": {
      "text/plain": [
       "array([0.50457536, 0.49542464])"
      ]
     },
     "execution_count": 16,
     "metadata": {},
     "output_type": "execute_result"
    }
   ],
   "source": [
    "sex.values"
   ]
  },
  {
   "cell_type": "code",
   "execution_count": 17,
   "id": "pressed-potato",
   "metadata": {},
   "outputs": [
    {
     "data": {
      "text/plain": [
       "Int64Index([0, 1], dtype='int64')"
      ]
     },
     "execution_count": 17,
     "metadata": {},
     "output_type": "execute_result"
    }
   ],
   "source": [
    "sex.index"
   ]
  },
  {
   "cell_type": "code",
   "execution_count": 18,
   "id": "stable-merchandise",
   "metadata": {},
   "outputs": [
    {
     "data": {
      "image/png": "[encoded data removed]",
      "text/plain": [
       "<Figure size 432x288 with 1 Axes>"
      ]
     },
     "metadata": {},
     "output_type": "display_data"
    }
   ],
   "source": [
    "colors = ['#66b3ff', '#ff9999']\n",
    "labels = ['MALE', 'FEMELLE']\n",
    "explode = [0.025, 0.025]\n",
    "plt.pie(sex.values, labels=labels, explode=explode, colors=colors, autopct='%1.1f%%', shadow=True, startangle=45)\n",
    "\n",
    "plt.title('Pie Plot Pour SEXE')\n",
    "plt.savefig(\"../graphs/sexe.svg\")"
   ]
  },
  {
   "cell_type": "markdown",
   "id": "abstract-balloon",
   "metadata": {},
   "source": [
    "### CTSCPI"
   ]
  },
  {
   "cell_type": "code",
   "execution_count": 51,
   "id": "atlantic-venezuela",
   "metadata": {},
   "outputs": [
    {
     "data": {
      "text/plain": [
       "array([4600, 4700, 3500, 8400, 6200, 8600, 8500, 7600, 6300, 5400, 2300,\n",
       "       3700, 4200, 4300, 6400, 3100, 3300, 4800, 5200, 7300, 5600, 3400,\n",
       "       2200, 5500, 5300, 4500, 1100, 2100, 7200, 6800, 6700, 8100, 7700,\n",
       "       7100, 6500, 3800, 7500, 6900, 7400, 1200, 8200, 3600, 7800, 4400,\n",
       "       1300, 5100, 8300, 6600, 1000, 6100])"
      ]
     },
     "execution_count": 51,
     "metadata": {},
     "output_type": "execute_result"
    }
   ],
   "source": [
    "df.CTSCPI.unique()"
   ]
  },
  {
   "cell_type": "code",
   "execution_count": 52,
   "id": "precious-parameter",
   "metadata": {},
   "outputs": [
    {
     "data": {
      "text/plain": [
       "50"
      ]
     },
     "execution_count": 52,
     "metadata": {},
     "output_type": "execute_result"
    }
   ],
   "source": [
    "df.CTSCPI.nunique()"
   ]
  },
  {
   "cell_type": "code",
   "execution_count": 57,
   "id": "certain-response",
   "metadata": {},
   "outputs": [],
   "source": [
    "ctscpi = df['CTSCPI'].value_counts()\n",
    "ctscpi = list(zip(ctscpi.index, ctscpi.values))"
   ]
  },
  {
   "cell_type": "code",
   "execution_count": 58,
   "id": "available-terminal",
   "metadata": {},
   "outputs": [
    {
     "name": "stdout",
     "output_type": "stream",
     "text": [
      "INSEE: 8400, COUNT: 109127, %: 17.384938904908317.\n",
      "INSEE: 7600, COUNT: 67948, %: 10.824743910404486.\n",
      "INSEE: 8500, COUNT: 46771, %: 7.451052237498208.\n",
      "INSEE: 8600, COUNT: 33876, %: 5.39675965015692.\n",
      "INSEE: 5400, COUNT: 33090, %: 5.271542591324019.\n",
      "INSEE: 7300, COUNT: 31356, %: 4.995300377562888.\n",
      "INSEE: 5200, COUNT: 30174, %: 4.806996861608067.\n",
      "INSEE: 5500, COUNT: 22273, %: 3.5482945946376514.\n",
      "INSEE: 2300, COUNT: 17449, %: 2.7797868442433606.\n",
      "INSEE: 4200, COUNT: 17261, %: 2.749836708033965.\n",
      "INSEE: 7200, COUNT: 15968, %: 2.543849866976789.\n",
      "INSEE: 5600, COUNT: 15812, %: 2.5189976262923963.\n",
      "INSEE: 4300, COUNT: 14949, %: 2.3815137563524558.\n",
      "INSEE: 6300, COUNT: 13536, %: 2.1564098070765163.\n",
      "INSEE: 3700, COUNT: 13038, %: 2.077073807968648.\n",
      "INSEE: 2100, COUNT: 12934, %: 2.0605056475123864.\n",
      "INSEE: 4600, COUNT: 12814, %: 2.0413885392936226.\n",
      "INSEE: 4700, COUNT: 12748, %: 2.030874129773303.\n",
      "INSEE: 3400, COUNT: 12678, %: 2.0197224833123575.\n",
      "INSEE: 8100, COUNT: 11344, %: 1.8072039636137707.\n",
      "INSEE: 3100, COUNT: 10071, %: 1.604403307259722.\n",
      "INSEE: 2200, COUNT: 9818, %: 1.5640980707651624.\n",
      "INSEE: 5300, COUNT: 7904, %: 1.2591801946758854.\n",
      "INSEE: 6200, COUNT: 7152, %: 1.139379649838301.\n",
      "INSEE: 6400, COUNT: 5306, %: 0.8452948017396569.\n",
      "INSEE: 3300, COUNT: 5060, %: 0.8061047298911918.\n",
      "INSEE: 1100, COUNT: 4168, %: 0.6640008921317169.\n",
      "INSEE: 7500, COUNT: 4013, %: 0.6393079606824807.\n",
      "INSEE: 6900, COUNT: 3457, %: 0.5507320259355435.\n",
      "INSEE: 6800, COUNT: 3253, %: 0.5182329419636456.\n",
      "INSEE: 4500, COUNT: 3207, %: 0.5109047171464529.\n",
      "INSEE: 6700, COUNT: 3155, %: 0.5026206369183222.\n",
      "INSEE: 3800, COUNT: 2993, %: 0.4768125408229915.\n",
      "INSEE: 4800, COUNT: 2877, %: 0.4583326695448535.\n",
      "INSEE: 7100, COUNT: 2407, %: 0.38345732902136337.\n",
      "INSEE: 3500, COUNT: 2141, %: 0.3410810724697711.\n",
      "INSEE: 7700, COUNT: 1816, %: 0.28930557104395344.\n",
      "INSEE: 1200, COUNT: 1384, %: 0.22048398145640505.\n",
      "INSEE: 6500, COUNT: 980, %: 0.15612305045323477.\n",
      "INSEE: 3600, COUNT: 530, %: 0.08443389463287186.\n",
      "INSEE: 7400, COUNT: 391, %: 0.062289910946137554.\n",
      "INSEE: 7800, COUNT: 209, %: 0.03329563014767966.\n",
      "INSEE: 1300, COUNT: 146, %: 0.023259148332828855.\n",
      "INSEE: 4400, COUNT: 77, %: 0.012266811107039874.\n",
      "INSEE: 8300, COUNT: 26, %: 0.004142040114065412.\n",
      "INSEE: 8200, COUNT: 7, %: 0.001115164646094534.\n",
      "INSEE: 6600, COUNT: 5, %: 0.0007965461757818101.\n",
      "INSEE: 6100, COUNT: 5, %: 0.0007965461757818101.\n",
      "INSEE: 5100, COUNT: 3, %: 0.00047792770546908604.\n",
      "INSEE: 1000, COUNT: 3, %: 0.00047792770546908604.\n"
     ]
    }
   ],
   "source": [
    "for temp in ctscpi:\n",
    "    print('INSEE: {}, COUNT: {}, %: {}.'.format(temp[0], temp[1], temp[1] / df.shape[0] * 100))"
   ]
  },
  {
   "cell_type": "markdown",
   "id": "valid-decision",
   "metadata": {},
   "source": [
    "## Clients Morales"
   ]
  },
  {
   "cell_type": "markdown",
   "id": "intense-repository",
   "metadata": {},
   "source": [
    "### CTPE"
   ]
  },
  {
   "cell_type": "code",
   "execution_count": 75,
   "id": "clinical-ultimate",
   "metadata": {},
   "outputs": [
    {
     "data": {
      "text/plain": [
       "array([1, 2])"
      ]
     },
     "execution_count": 75,
     "metadata": {},
     "output_type": "execute_result"
    }
   ],
   "source": [
    "df_['CTPE'].unique()"
   ]
  },
  {
   "cell_type": "code",
   "execution_count": 76,
   "id": "separated-family",
   "metadata": {},
   "outputs": [
    {
     "data": {
      "text/plain": [
       "2"
      ]
     },
     "execution_count": 76,
     "metadata": {},
     "output_type": "execute_result"
    }
   ],
   "source": [
    "df_['CTPE'].nunique()"
   ]
  },
  {
   "cell_type": "code",
   "execution_count": 77,
   "id": "aging-blues",
   "metadata": {},
   "outputs": [
    {
     "data": {
      "text/plain": [
       "1    2793416\n",
       "2     185730\n",
       "Name: CTPE, dtype: int64"
      ]
     },
     "execution_count": 77,
     "metadata": {},
     "output_type": "execute_result"
    }
   ],
   "source": [
    "df_['CTPE'].value_counts()"
   ]
  },
  {
   "cell_type": "code",
   "execution_count": 78,
   "id": "suburban-entrance",
   "metadata": {},
   "outputs": [
    {
     "data": {
      "text/plain": [
       "1    0.937657\n",
       "2    0.062343\n",
       "Name: CTPE, dtype: float64"
      ]
     },
     "execution_count": 78,
     "metadata": {},
     "output_type": "execute_result"
    }
   ],
   "source": [
    "ctpe = df_['CTPE'].value_counts(normalize=True)\n",
    "ctpe"
   ]
  },
  {
   "cell_type": "code",
   "execution_count": 81,
   "id": "proud-methodology",
   "metadata": {},
   "outputs": [
    {
     "data": {
      "image/png": "[encoded data removed]",
      "text/plain": [
       "<Figure size 432x288 with 1 Axes>"
      ]
     },
     "metadata": {},
     "output_type": "display_data"
    }
   ],
   "source": [
    "colors = ['#D8DFCB', '#6D7D7B']\n",
    "labels = ['Categorie 1', 'Categorie 2']\n",
    "explode = [0.025, 0.025]\n",
    "plt.pie(ctpe.values, labels=labels, explode=explode, colors=colors, autopct='%1.1f%%', shadow=True, startangle=45)\n",
    "\n",
    "plt.title('Pie Plot Pour CTPE')\n",
    "plt.savefig(\"../graphs/ctpe.svg\")"
   ]
  },
  {
   "cell_type": "markdown",
   "id": "freelance-monkey",
   "metadata": {},
   "source": [
    "### CORELB"
   ]
  },
  {
   "cell_type": "code",
   "execution_count": 82,
   "id": "fifth-motivation",
   "metadata": {},
   "outputs": [
    {
     "data": {
      "text/plain": [
       "array([1, 4])"
      ]
     },
     "execution_count": 82,
     "metadata": {},
     "output_type": "execute_result"
    }
   ],
   "source": [
    "df_['CORELB'].unique()"
   ]
  },
  {
   "cell_type": "code",
   "execution_count": 83,
   "id": "tough-wings",
   "metadata": {},
   "outputs": [
    {
     "data": {
      "text/plain": [
       "2"
      ]
     },
     "execution_count": 83,
     "metadata": {},
     "output_type": "execute_result"
    }
   ],
   "source": [
    "df_['CORELB'].nunique()"
   ]
  },
  {
   "cell_type": "code",
   "execution_count": 84,
   "id": "returning-kingston",
   "metadata": {},
   "outputs": [
    {
     "data": {
      "text/plain": [
       "1    2626102\n",
       "4     353044\n",
       "Name: CORELB, dtype: int64"
      ]
     },
     "execution_count": 84,
     "metadata": {},
     "output_type": "execute_result"
    }
   ],
   "source": [
    "df_['CORELB'].value_counts()"
   ]
  },
  {
   "cell_type": "code",
   "execution_count": 86,
   "id": "digital-algeria",
   "metadata": {},
   "outputs": [
    {
     "data": {
      "text/plain": [
       "1    0.881495\n",
       "4    0.118505\n",
       "Name: CORELB, dtype: float64"
      ]
     },
     "execution_count": 86,
     "metadata": {},
     "output_type": "execute_result"
    }
   ],
   "source": [
    "corelb = df_['CORELB'].value_counts(normalize=True)\n",
    "corelb"
   ]
  },
  {
   "cell_type": "code",
   "execution_count": 88,
   "id": "fossil-remainder",
   "metadata": {},
   "outputs": [
    {
     "data": {
      "image/png": "[encoded data removed]",
      "text/plain": [
       "<Figure size 432x288 with 1 Axes>"
      ]
     },
     "metadata": {},
     "output_type": "display_data"
    }
   ],
   "source": [
    "colors = ['#91bdff', '#558fe6']\n",
    "labels = ['Categorie 1', 'Categorie 4']\n",
    "explode = [0.025, 0.025]\n",
    "plt.pie(corelb.values, labels=labels, explode=explode, colors=colors, autopct='%1.1f%%', shadow=True, startangle=45)\n",
    "\n",
    "plt.title('Pie Plot Pour CORELB')\n",
    "plt.savefig(\"../graphs/corelb.svg\")"
   ]
  },
  {
   "cell_type": "markdown",
   "id": "chicken-anaheim",
   "metadata": {},
   "source": [
    "## Contracts"
   ]
  },
  {
   "cell_type": "code",
   "execution_count": 92,
   "id": "imperial-hampton",
   "metadata": {},
   "outputs": [
    {
     "data": {
      "text/plain": [
       "37"
      ]
     },
     "execution_count": 92,
     "metadata": {},
     "output_type": "execute_result"
    }
   ],
   "source": [
    "# PRODUITS\n",
    "ctr['COPRO'].nunique()"
   ]
  },
  {
   "cell_type": "code",
   "execution_count": 93,
   "id": "bound-territory",
   "metadata": {},
   "outputs": [
    {
     "data": {
      "text/plain": [
       "637143"
      ]
     },
     "execution_count": 93,
     "metadata": {},
     "output_type": "execute_result"
    }
   ],
   "source": [
    "# CLIENTS\n",
    "ctr['COMAX'].nunique()"
   ]
  },
  {
   "cell_type": "code",
   "execution_count": 94,
   "id": "facial-lecture",
   "metadata": {},
   "outputs": [
    {
     "data": {
      "text/plain": [
       "28685139"
      ]
     },
     "execution_count": 94,
     "metadata": {},
     "output_type": "execute_result"
    }
   ],
   "source": [
    "# CONTRACTS TITAL\n",
    "ctr['COMAX'].count()"
   ]
  },
  {
   "cell_type": "markdown",
   "id": "descending-somerset",
   "metadata": {},
   "source": [
    "## Produits"
   ]
  },
  {
   "cell_type": "code",
   "execution_count": 97,
   "id": "improved-denmark",
   "metadata": {},
   "outputs": [
    {
     "name": "stdout",
     "output_type": "stream",
     "text": [
      "<class 'pandas.core.frame.DataFrame'>\n",
      "RangeIndex: 2341 entries, 0 to 2340\n",
      "Data columns (total 2 columns):\n",
      " #   Column  Non-Null Count  Dtype \n",
      "---  ------  --------------  ----- \n",
      " 0   COPRO   2341 non-null   int64 \n",
      " 1   COPROG  2341 non-null   object\n",
      "dtypes: int64(1), object(1)\n",
      "memory usage: 36.7+ KB\n"
     ]
    }
   ],
   "source": [
    "prod.info()"
   ]
  },
  {
   "cell_type": "markdown",
   "id": "cross-samoa",
   "metadata": {},
   "source": [
    "### COPRO"
   ]
  },
  {
   "cell_type": "code",
   "execution_count": 98,
   "id": "fresh-gravity",
   "metadata": {},
   "outputs": [
    {
     "data": {
      "text/plain": [
       "array([7018, 2116, 2019, ...,  692,  653,  872])"
      ]
     },
     "execution_count": 98,
     "metadata": {},
     "output_type": "execute_result"
    }
   ],
   "source": [
    "prod.COPRO.unique()"
   ]
  },
  {
   "cell_type": "code",
   "execution_count": 103,
   "id": "lonely-encoding",
   "metadata": {},
   "outputs": [
    {
     "data": {
      "text/plain": [
       "2341"
      ]
     },
     "execution_count": 103,
     "metadata": {},
     "output_type": "execute_result"
    }
   ],
   "source": [
    "# Nombre de produits\n",
    "prod.COPRO.nunique()"
   ]
  },
  {
   "cell_type": "markdown",
   "id": "corporate-marijuana",
   "metadata": {},
   "source": [
    "### COPROG"
   ]
  },
  {
   "cell_type": "code",
   "execution_count": 100,
   "id": "absent-nursery",
   "metadata": {},
   "outputs": [
    {
     "data": {
      "text/plain": [
       "array(['I1221', 'G1311', 'G331B', 'G4115', 'I9114', 'D1216', 'B3411',\n",
       "       'F2213', 'M1211', 'I2146', 'L2412', 'I2421', 'G8211', 'I4213',\n",
       "       'I1219', 'G8111', 'I3231', 'I9113', 'H5212', 'I7231', 'G5515',\n",
       "       'B2211', 'I2174', 'B1213', 'I4112', 'G3111', 'I2163', 'B2214',\n",
       "       'D121H', 'G1412', 'D1217', 'H5522', 'D1232', 'I2312', 'L3162',\n",
       "       'G1511', 'Z1151', 'K1912', 'D1231', 'D1414', 'K3111', 'H1211',\n",
       "       'F2221', 'L3171', 'I3214', 'B2113', 'G4316', 'I3313', 'D1219',\n",
       "       'G1112', 'I4511', 'G1414', 'D1415', 'M1213', 'I2155', 'D1212',\n",
       "       'Y7129', 'I121B', 'M9211', 'Z1152', 'I2162', 'B3317', 'I1311',\n",
       "       'B3311', 'H4642', 'H5511', 'D1131', 'I3315', 'I6111', 'B1113',\n",
       "       'F1437', 'H5512', 'D2121', 'H2512', 'I2173', 'I3A21', 'I4211',\n",
       "       'I2122', 'Z1141', 'D1411', 'I3212', 'G331A', 'I3411', 'D1122',\n",
       "       'F1414', 'I7111', 'I3A22', 'F1313', 'M2121', 'G5513', 'I2951',\n",
       "       'M2112', 'K3114', 'I2114', 'K3115', 'G3322', 'I2412', 'B3213',\n",
       "       'B1919', 'D2222', 'I4311', 'G3331', 'F2113', 'G4113', 'D1311',\n",
       "       'I2221', 'D1241', 'I3612', 'F1122', 'I911D', 'B1312', 'F2211',\n",
       "       'B1211', 'B1215', 'Z1115', 'M1113', 'Z1122', 'G4313', 'B3212',\n",
       "       'I5111', 'H5214', 'I2911', 'D2221', 'B2121', 'I2145', 'D121B',\n",
       "       'K1111', 'H5521', 'F2222', 'I4111', 'I4215', 'I9111', 'I2222',\n",
       "       'D121G', 'G6211', 'I2143', 'J5111', 'B1111', 'H1214', 'D1218',\n",
       "       'D1417', 'F9111', 'H2111', 'K1312', 'D1225', 'I1211', 'G5519',\n",
       "       'F1492', 'B2114', 'D1413', 'B2111', 'I9118', 'I3A23', 'F1321',\n",
       "       'H4633', 'F1112', 'M1111', 'Z9991', 'B3511', 'F1435', 'D121D',\n",
       "       'I2941', 'I7213', 'Z9999', 'H5213', 'B2212', 'K1911', 'D1312',\n",
       "       'I1212', 'D1224', 'D121F', 'H2416', 'I2123', 'G5312', 'D121C',\n",
       "       'I7119', 'I2132', 'Z1131', 'I2175', 'G3312', 'I7211', 'I2931',\n",
       "       'J1114', 'I1411', 'I9312', 'D1319', 'H2411', 'F2111', 'I2224',\n",
       "       'B3112', 'H2511', 'G3319', 'G1411', 'D1113', 'D1215', 'B3412',\n",
       "       'I6121', 'G5412', 'I1229', 'I2121', 'D2132', 'I9411', 'I2232',\n",
       "       'B3313', 'I9119', 'L2111', 'I911F', 'K1913', 'G1421', 'B1112',\n",
       "       'H2514', 'D1111', 'D2111', 'I2223', 'J1212', 'L2411', 'B2217',\n",
       "       'F1439', 'I911E', 'G3113', 'B2161', 'G5211', 'E1111', 'G8311',\n",
       "       'K3113', 'G1514', 'H2413', 'I2513', 'G5114', 'B331A', 'I8111',\n",
       "       'G3317', 'B1218', 'G3411', 'G4319', 'G3321', 'K2113', 'I3423',\n",
       "       'I9314', 'I9115', 'I1241', 'D2123', 'F1412', 'F1121', 'G5514',\n",
       "       'I1112', 'F2215', 'B9111', 'B1216', 'L2213', 'H5523', 'B1911',\n",
       "       'I3232', 'B2112', 'H1213', 'F1312', 'Z1159', 'I3314', 'I2141',\n",
       "       'I2154', 'I3319', 'H1112', 'M1214', 'B3512', 'J1111', 'D1226',\n",
       "       'I2531', 'B3111', 'H2513', 'M1215', 'F1433', 'D1221', 'G1519',\n",
       "       'G5511', 'B1912', 'B3319', 'M2111', 'I4516', 'I2522', 'F1411',\n",
       "       'G8131', 'L3112', 'H464B', 'H5591', 'I2171', 'K2114', 'B331C',\n",
       "       'G3112', 'I7212', 'H4632', 'H5524', 'I2152', 'D1114', 'F2112',\n",
       "       'B1812', 'I1113', 'I4519', 'B1311', 'H1212', 'G3351', 'B3318',\n",
       "       'B3911', 'B3316', 'G4311', 'G2111', 'F2212', 'D1421', 'I6122',\n",
       "       'I2172', 'H1111', 'I3421', 'I2176', 'I2157', 'K9111', 'I2161',\n",
       "       'F1431', 'B2216', 'K2111', 'M1212', 'I2144', 'F1211', 'F1111',\n",
       "       'F2231', 'B3211', 'D1239', 'D2131', 'I1216', 'H5211', 'F2311',\n",
       "       'I1131', 'F1421', 'G4112', 'G3311', 'G4312', 'D1416', 'K2112',\n",
       "       'K2121', 'G4111', 'G5111', 'G3332', 'I3711', 'B3315', 'I2151',\n",
       "       'H2711', 'K1311', 'I2231', 'G5411', 'I2511', 'I2413', 'J2111',\n",
       "       'D2231', 'M1112', 'D2211', 'G4419', 'K1211', 'F1212', 'F1491',\n",
       "       'D1112', 'D9991', 'G1319', 'L2112', 'D1419', 'F2216', 'D1214',\n",
       "       'J1211', 'F1434', 'G1413', 'F143A', 'I9311', 'H2315', 'I2521',\n",
       "       'K1321', 'D1222', 'D1211', 'B1219', 'F1493', 'I2424', 'F2232',\n",
       "       'I9121', 'I2921', 'I1215', 'G5112', 'F2214', 'G4211', 'I3215',\n",
       "       'G7111', 'G4114', 'G1211', 'G1111', 'Z9998', 'F1322', 'B1217',\n",
       "       'I3211', 'G4119', 'K1212', 'I2431', 'G3341', 'H2415', 'M1216',\n",
       "       'D2122', 'G4391', 'F1413', 'I4216', 'H1515', 'I2411', 'D1129',\n",
       "       'D1223', 'F2219', 'I2112', 'G5319', 'G5113', 'Z1111', 'H2611',\n",
       "       'Z1113', 'J1214', 'G4315', 'D1121', 'D1119', 'K3112', 'I3213',\n",
       "       'I2113', 'G5311', 'J1217', 'G4213', 'I4412', 'B1313', 'B1212',\n",
       "       'I9112', 'I2514', 'Y7121', 'I4214', 'H5525', 'I2532', 'B3113',\n",
       "       'D1313', 'J5211', 'I2131', 'I2164', 'G3119', 'B3312', 'I2142',\n",
       "       'I4512', 'H5599', 'I4513', 'I1224', 'D1213', 'D2223', 'I5112',\n",
       "       'M1114', 'D121E', 'L2214', 'G3318', 'B2215', 'D1412', 'I3611',\n",
       "       'I2211'], dtype=object)"
      ]
     },
     "execution_count": 100,
     "metadata": {},
     "output_type": "execute_result"
    }
   ],
   "source": [
    "COPROprod.COPROG.unique()"
   ]
  },
  {
   "cell_type": "code",
   "execution_count": 102,
   "id": "falling-british",
   "metadata": {},
   "outputs": [
    {
     "data": {
      "text/plain": [
       "456"
      ]
     },
     "execution_count": 102,
     "metadata": {},
     "output_type": "execute_result"
    }
   ],
   "source": [
    "# Nmbre de groupe de produits\n",
    "prod.COPROG.nunique()"
   ]
  },
  {
   "cell_type": "markdown",
   "id": "mexican-registrar",
   "metadata": {},
   "source": [
    "# Analyse deux variables"
   ]
  },
  {
   "cell_type": "code",
   "execution_count": 28,
   "id": "specified-vietnamese",
   "metadata": {},
   "outputs": [
    {
     "data": {
      "text/html": [
       "<div>\n",
       "<style scoped>\n",
       "    .dataframe tbody tr th:only-of-type {\n",
       "        vertical-align: middle;\n",
       "    }\n",
       "\n",
       "    .dataframe tbody tr th {\n",
       "        vertical-align: top;\n",
       "    }\n",
       "\n",
       "    .dataframe thead th {\n",
       "        text-align: right;\n",
       "    }\n",
       "</style>\n",
       "<table border=\"1\" class=\"dataframe\">\n",
       "  <thead>\n",
       "    <tr style=\"text-align: right;\">\n",
       "      <th></th>\n",
       "      <th>CTSCPI</th>\n",
       "      <th>LISCPI</th>\n",
       "    </tr>\n",
       "  </thead>\n",
       "  <tbody>\n",
       "    <tr>\n",
       "      <th>0</th>\n",
       "      <td>6600</td>\n",
       "      <td>OUVRIERS NON QUALITES</td>\n",
       "    </tr>\n",
       "    <tr>\n",
       "      <th>1</th>\n",
       "      <td>6100</td>\n",
       "      <td>OUVRIER QUALIFIE</td>\n",
       "    </tr>\n",
       "    <tr>\n",
       "      <th>2</th>\n",
       "      <td>8200</td>\n",
       "      <td>INACTIFS DIVERS NON RETRAITES</td>\n",
       "    </tr>\n",
       "    <tr>\n",
       "      <th>3</th>\n",
       "      <td>1300</td>\n",
       "      <td>AGRICULTEUR GRANDE EXPLOITATION</td>\n",
       "    </tr>\n",
       "    <tr>\n",
       "      <th>4</th>\n",
       "      <td>6500</td>\n",
       "      <td>OUV QUAL MANUT MAGASIN TRANSPORT</td>\n",
       "    </tr>\n",
       "  </tbody>\n",
       "</table>\n",
       "</div>"
      ],
      "text/plain": [
       "   CTSCPI                            LISCPI\n",
       "0    6600  OUVRIERS NON QUALITES           \n",
       "1    6100  OUVRIER QUALIFIE                \n",
       "2    8200  INACTIFS DIVERS NON RETRAITES   \n",
       "3    1300  AGRICULTEUR GRANDE EXPLOITATION \n",
       "4    6500  OUV QUAL MANUT MAGASIN TRANSPORT"
      ]
     },
     "execution_count": 28,
     "metadata": {},
     "output_type": "execute_result"
    }
   ],
   "source": [
    "insee.head()"
   ]
  },
  {
   "cell_type": "code",
   "execution_count": 29,
   "id": "representative-reviewer",
   "metadata": {},
   "outputs": [
    {
     "data": {
      "text/html": [
       "<div>\n",
       "<style scoped>\n",
       "    .dataframe tbody tr th:only-of-type {\n",
       "        vertical-align: middle;\n",
       "    }\n",
       "\n",
       "    .dataframe tbody tr th {\n",
       "        vertical-align: top;\n",
       "    }\n",
       "\n",
       "    .dataframe thead th {\n",
       "        text-align: right;\n",
       "    }\n",
       "</style>\n",
       "<table border=\"1\" class=\"dataframe\">\n",
       "  <thead>\n",
       "    <tr style=\"text-align: right;\">\n",
       "      <th></th>\n",
       "      <th>COMAX</th>\n",
       "      <th>AGE</th>\n",
       "      <th>COSEXE</th>\n",
       "      <th>CTSCPI</th>\n",
       "    </tr>\n",
       "  </thead>\n",
       "  <tbody>\n",
       "    <tr>\n",
       "      <th>0</th>\n",
       "      <td>6e3a2b9fa1</td>\n",
       "      <td>55</td>\n",
       "      <td>1</td>\n",
       "      <td>4600</td>\n",
       "    </tr>\n",
       "    <tr>\n",
       "      <th>1</th>\n",
       "      <td>1b44a67f61</td>\n",
       "      <td>41</td>\n",
       "      <td>0</td>\n",
       "      <td>4700</td>\n",
       "    </tr>\n",
       "    <tr>\n",
       "      <th>2</th>\n",
       "      <td>bdf1f63a98</td>\n",
       "      <td>32</td>\n",
       "      <td>1</td>\n",
       "      <td>3500</td>\n",
       "    </tr>\n",
       "    <tr>\n",
       "      <th>3</th>\n",
       "      <td>bc9f2a4a5c</td>\n",
       "      <td>23</td>\n",
       "      <td>1</td>\n",
       "      <td>8400</td>\n",
       "    </tr>\n",
       "    <tr>\n",
       "      <th>4</th>\n",
       "      <td>deb8a278df</td>\n",
       "      <td>13</td>\n",
       "      <td>0</td>\n",
       "      <td>8400</td>\n",
       "    </tr>\n",
       "  </tbody>\n",
       "</table>\n",
       "</div>"
      ],
      "text/plain": [
       "        COMAX  AGE  COSEXE  CTSCPI\n",
       "0  6e3a2b9fa1   55       1    4600\n",
       "1  1b44a67f61   41       0    4700\n",
       "2  bdf1f63a98   32       1    3500\n",
       "3  bc9f2a4a5c   23       1    8400\n",
       "4  deb8a278df   13       0    8400"
      ]
     },
     "execution_count": 29,
     "metadata": {},
     "output_type": "execute_result"
    }
   ],
   "source": [
    "df.head()"
   ]
  },
  {
   "cell_type": "markdown",
   "id": "large-bottom",
   "metadata": {},
   "source": [
    "## AGE INSEE"
   ]
  },
  {
   "cell_type": "code",
   "execution_count": 33,
   "id": "persistent-activity",
   "metadata": {},
   "outputs": [
    {
     "data": {
      "text/plain": [
       "AGE  CTSCPI\n",
       "0    8400       352\n",
       "     8500        86\n",
       "1    8400       978\n",
       "     8500       235\n",
       "     3300         1\n",
       "     8100         1\n",
       "2    8400      1444\n",
       "     8500       351\n",
       "     5400         2\n",
       "     4700         1\n",
       "Name: CTSCPI, dtype: int64"
      ]
     },
     "execution_count": 33,
     "metadata": {},
     "output_type": "execute_result"
    }
   ],
   "source": [
    "age_insee = df.groupby('AGE')['CTSCPI'].value_counts()\n",
    "age_insee.head(10)"
   ]
  },
  {
   "cell_type": "markdown",
   "id": "satisfied-biology",
   "metadata": {},
   "source": [
    "## SEXE INSEE"
   ]
  },
  {
   "cell_type": "code",
   "execution_count": 34,
   "id": "impossible-sellers",
   "metadata": {},
   "outputs": [
    {
     "data": {
      "text/plain": [
       "COSEXE  CTSCPI\n",
       "0       8400      54269\n",
       "        7600      31629\n",
       "        8500      19239\n",
       "        7300      17837\n",
       "        2300      13188\n",
       "        6300      12580\n",
       "        5400      11471\n",
       "        7200      10982\n",
       "        5200      10918\n",
       "        2100      10384\n",
       "Name: CTSCPI, dtype: int64"
      ]
     },
     "execution_count": 34,
     "metadata": {},
     "output_type": "execute_result"
    }
   ],
   "source": [
    "sex_insee = df.groupby('COSEXE')['CTSCPI'].value_counts()\n",
    "sex_insee.head(10)"
   ]
  },
  {
   "cell_type": "code",
   "execution_count": 41,
   "id": "flying-tissue",
   "metadata": {
    "scrolled": true
   },
   "outputs": [
    {
     "data": {
      "text/html": [
       "<div>\n",
       "<style scoped>\n",
       "    .dataframe tbody tr th:only-of-type {\n",
       "        vertical-align: middle;\n",
       "    }\n",
       "\n",
       "    .dataframe tbody tr th {\n",
       "        vertical-align: top;\n",
       "    }\n",
       "\n",
       "    .dataframe thead th {\n",
       "        text-align: right;\n",
       "    }\n",
       "</style>\n",
       "<table border=\"1\" class=\"dataframe\">\n",
       "  <thead>\n",
       "    <tr style=\"text-align: right;\">\n",
       "      <th></th>\n",
       "      <th>COMAX</th>\n",
       "      <th>COPRO</th>\n",
       "    </tr>\n",
       "  </thead>\n",
       "  <tbody>\n",
       "    <tr>\n",
       "      <th>0</th>\n",
       "      <td>6de50a0fab</td>\n",
       "      <td>807</td>\n",
       "    </tr>\n",
       "    <tr>\n",
       "      <th>1</th>\n",
       "      <td>6de50a0fab</td>\n",
       "      <td>807</td>\n",
       "    </tr>\n",
       "    <tr>\n",
       "      <th>2</th>\n",
       "      <td>6de50a0fab</td>\n",
       "      <td>807</td>\n",
       "    </tr>\n",
       "    <tr>\n",
       "      <th>3</th>\n",
       "      <td>6de50a0fab</td>\n",
       "      <td>807</td>\n",
       "    </tr>\n",
       "    <tr>\n",
       "      <th>4</th>\n",
       "      <td>6de50a0fab</td>\n",
       "      <td>807</td>\n",
       "    </tr>\n",
       "  </tbody>\n",
       "</table>\n",
       "</div>"
      ],
      "text/plain": [
       "        COMAX  COPRO\n",
       "0  6de50a0fab    807\n",
       "1  6de50a0fab    807\n",
       "2  6de50a0fab    807\n",
       "3  6de50a0fab    807\n",
       "4  6de50a0fab    807"
      ]
     },
     "execution_count": 41,
     "metadata": {},
     "output_type": "execute_result"
    }
   ],
   "source": [
    "ctr.head()"
   ]
  },
  {
   "cell_type": "code",
   "execution_count": 43,
   "id": "sudden-district",
   "metadata": {},
   "outputs": [
    {
     "data": {
      "text/html": [
       "<div>\n",
       "<style scoped>\n",
       "    .dataframe tbody tr th:only-of-type {\n",
       "        vertical-align: middle;\n",
       "    }\n",
       "\n",
       "    .dataframe tbody tr th {\n",
       "        vertical-align: top;\n",
       "    }\n",
       "\n",
       "    .dataframe thead th {\n",
       "        text-align: right;\n",
       "    }\n",
       "</style>\n",
       "<table border=\"1\" class=\"dataframe\">\n",
       "  <thead>\n",
       "    <tr style=\"text-align: right;\">\n",
       "      <th></th>\n",
       "      <th>COMAX</th>\n",
       "      <th>AGE</th>\n",
       "      <th>COSEXE</th>\n",
       "      <th>CTSCPI</th>\n",
       "    </tr>\n",
       "  </thead>\n",
       "  <tbody>\n",
       "    <tr>\n",
       "      <th>0</th>\n",
       "      <td>6e3a2b9fa1</td>\n",
       "      <td>55</td>\n",
       "      <td>1</td>\n",
       "      <td>4600</td>\n",
       "    </tr>\n",
       "    <tr>\n",
       "      <th>1</th>\n",
       "      <td>1b44a67f61</td>\n",
       "      <td>41</td>\n",
       "      <td>0</td>\n",
       "      <td>4700</td>\n",
       "    </tr>\n",
       "    <tr>\n",
       "      <th>2</th>\n",
       "      <td>bdf1f63a98</td>\n",
       "      <td>32</td>\n",
       "      <td>1</td>\n",
       "      <td>3500</td>\n",
       "    </tr>\n",
       "    <tr>\n",
       "      <th>3</th>\n",
       "      <td>bc9f2a4a5c</td>\n",
       "      <td>23</td>\n",
       "      <td>1</td>\n",
       "      <td>8400</td>\n",
       "    </tr>\n",
       "    <tr>\n",
       "      <th>4</th>\n",
       "      <td>deb8a278df</td>\n",
       "      <td>13</td>\n",
       "      <td>0</td>\n",
       "      <td>8400</td>\n",
       "    </tr>\n",
       "  </tbody>\n",
       "</table>\n",
       "</div>"
      ],
      "text/plain": [
       "        COMAX  AGE  COSEXE  CTSCPI\n",
       "0  6e3a2b9fa1   55       1    4600\n",
       "1  1b44a67f61   41       0    4700\n",
       "2  bdf1f63a98   32       1    3500\n",
       "3  bc9f2a4a5c   23       1    8400\n",
       "4  deb8a278df   13       0    8400"
      ]
     },
     "execution_count": 43,
     "metadata": {},
     "output_type": "execute_result"
    }
   ],
   "source": [
    "df.head()"
   ]
  },
  {
   "cell_type": "markdown",
   "id": "communist-taylor",
   "metadata": {},
   "source": [
    "## Produits SEXE"
   ]
  },
  {
   "cell_type": "code",
   "execution_count": 64,
   "id": "abstract-interest",
   "metadata": {},
   "outputs": [],
   "source": [
    "women = df[df['COSEXE'] == 1]['COMAX']\n",
    "men = df[df['COSEXE'] == 0]['COMAX']"
   ]
  },
  {
   "cell_type": "code",
   "execution_count": 68,
   "id": "laughing-trunk",
   "metadata": {},
   "outputs": [],
   "source": [
    "women_best = ctr[ctr['COMAX'].isin(women)]['COPRO'].value_counts()"
   ]
  },
  {
   "cell_type": "code",
   "execution_count": 70,
   "id": "weird-liberty",
   "metadata": {},
   "outputs": [
    {
     "data": {
      "text/plain": [
       "812     8339042\n",
       "2076    1241693\n",
       "647      341418\n",
       "65       317691\n",
       "160      272954\n",
       "954      243331\n",
       "753      218417\n",
       "137      204714\n",
       "53       202092\n",
       "100      181310\n",
       "4545     154757\n",
       "646      142787\n",
       "1556     128976\n",
       "3        128398\n",
       "7530     128357\n",
       "7652     121746\n",
       "823      106084\n",
       "542       90013\n",
       "780       79191\n",
       "1752      78247\n",
       "411       72438\n",
       "7604      69678\n",
       "600       68667\n",
       "867       66757\n",
       "8         65491\n",
       "52        61827\n",
       "1759      54430\n",
       "807       53799\n",
       "1         52991\n",
       "2114      52858\n",
       "2350      51576\n",
       "727       50921\n",
       "97        50294\n",
       "7532      44049\n",
       "384       36579\n",
       "820       33681\n",
       "658       32972\n",
       "Name: COPRO, dtype: int64"
      ]
     },
     "execution_count": 70,
     "metadata": {},
     "output_type": "execute_result"
    }
   ],
   "source": [
    "women_best"
   ]
  },
  {
   "cell_type": "code",
   "execution_count": 72,
   "id": "sound-thesaurus",
   "metadata": {},
   "outputs": [],
   "source": [
    "men_best = ctr[ctr['COMAX'].isin(men)]['COPRO'].value_counts()"
   ]
  },
  {
   "cell_type": "code",
   "execution_count": 74,
   "id": "raising-texas",
   "metadata": {},
   "outputs": [
    {
     "data": {
      "text/plain": [
       "812     8627831\n",
       "2076    1683022\n",
       "647      396901\n",
       "65       343564\n",
       "160      327437\n",
       "753      268807\n",
       "954      252049\n",
       "137      207448\n",
       "53       193572\n",
       "100      179643\n",
       "646      170916\n",
       "4545     159635\n",
       "823      144342\n",
       "1556     144208\n",
       "7604     130617\n",
       "542      129148\n",
       "7530     120856\n",
       "3        118857\n",
       "7652     116007\n",
       "780      107566\n",
       "1752      90792\n",
       "807       88337\n",
       "658       82073\n",
       "411       81618\n",
       "867       73630\n",
       "384       70873\n",
       "600       70310\n",
       "820       68556\n",
       "1759      68019\n",
       "97        66791\n",
       "2114      66118\n",
       "1         59530\n",
       "7532      59469\n",
       "52        57167\n",
       "2350      56767\n",
       "727       52274\n",
       "8         43151\n",
       "Name: COPRO, dtype: int64"
      ]
     },
     "execution_count": 74,
     "metadata": {},
     "output_type": "execute_result"
    }
   ],
   "source": [
    "men_best"
   ]
  },
  {
   "cell_type": "markdown",
   "id": "asian-interstate",
   "metadata": {},
   "source": [
    "## Produits AGE"
   ]
  },
  {
   "cell_type": "code",
   "execution_count": 79,
   "id": "commercial-martial",
   "metadata": {},
   "outputs": [],
   "source": [
    "age = dict()\n",
    "for key in df.AGE:\n",
    "    age[key] = None"
   ]
  },
  {
   "cell_type": "code",
   "execution_count": 80,
   "id": "eight-atlas",
   "metadata": {},
   "outputs": [],
   "source": [
    "for key in age.keys():\n",
    "    temp = df[df['AGE'] == key]['COMAX']\n",
    "    age[key] = ctr[ctr['COMAX'].isin(temp)]['COPRO'].value_counts()"
   ]
  },
  {
   "cell_type": "code",
   "execution_count": 91,
   "id": "premium-syndicate",
   "metadata": {},
   "outputs": [
    {
     "data": {
      "text/plain": [
       "812     156670\n",
       "727       5664\n",
       "160       5368\n",
       "954       4767\n",
       "4545      4395\n",
       "7652      3333\n",
       "100       2939\n",
       "137       2330\n",
       "1         2257\n",
       "647       1743\n",
       "867       1173\n",
       "53        1023\n",
       "600        960\n",
       "753        598\n",
       "646        568\n",
       "7604       297\n",
       "780        258\n",
       "52         194\n",
       "3          179\n",
       "65          91\n",
       "807         51\n",
       "823         46\n",
       "1556        44\n",
       "820         42\n",
       "2076        29\n",
       "411         29\n",
       "1752        23\n",
       "542         13\n",
       "7530        12\n",
       "97           7\n",
       "384          6\n",
       "7532         3\n",
       "658          3\n",
       "8            3\n",
       "Name: COPRO, dtype: int64"
      ]
     },
     "execution_count": 91,
     "metadata": {},
     "output_type": "execute_result"
    }
   ],
   "source": [
    "age[19]"
   ]
  },
  {
   "cell_type": "markdown",
   "id": "unlikely-dietary",
   "metadata": {},
   "source": [
    "## Produits INSEE "
   ]
  },
  {
   "cell_type": "code",
   "execution_count": 83,
   "id": "wired-client",
   "metadata": {},
   "outputs": [],
   "source": [
    "insee_prod = dict()\n",
    "for key in df.CTSCPI.unique():\n",
    "    insee_prod[key] = None"
   ]
  },
  {
   "cell_type": "code",
   "execution_count": 85,
   "id": "secret-optimization",
   "metadata": {},
   "outputs": [],
   "source": [
    "for key in insee_prod.keys():\n",
    "    temp = df[df['CTSCPI'] == key]['COMAX']\n",
    "    insee_prod[key] = ctr[ctr['COMAX'].isin(temp)]['COPRO'].value_counts()"
   ]
  },
  {
   "cell_type": "code",
   "execution_count": 90,
   "id": "general-delaware",
   "metadata": {},
   "outputs": [
    {
     "data": {
      "text/plain": [
       "812     1735471\n",
       "7652      61321\n",
       "160       59407\n",
       "727       55228\n",
       "954       49101\n",
       "100       37623\n",
       "65        37353\n",
       "4545      36536\n",
       "137       33858\n",
       "53        30489\n",
       "867       27476\n",
       "647       24383\n",
       "1         22929\n",
       "753       17791\n",
       "2076      16321\n",
       "600       15447\n",
       "646       13758\n",
       "7604       8171\n",
       "780        5788\n",
       "3          4588\n",
       "52         2172\n",
       "1752       2013\n",
       "411        1971\n",
       "807        1382\n",
       "8          1019\n",
       "1556        614\n",
       "7530        527\n",
       "2350        525\n",
       "823         459\n",
       "97          454\n",
       "1759        335\n",
       "2114        334\n",
       "820         331\n",
       "542         286\n",
       "658         228\n",
       "7532        224\n",
       "384         164\n",
       "Name: COPRO, dtype: int64"
      ]
     },
     "execution_count": 90,
     "metadata": {},
     "output_type": "execute_result"
    }
   ],
   "source": [
    "insee_prod[8400]"
   ]
  },
  {
   "cell_type": "markdown",
   "id": "industrial-publisher",
   "metadata": {},
   "source": [
    "## Produits CTPE"
   ]
  },
  {
   "cell_type": "code",
   "execution_count": 104,
   "id": "cultural-seating",
   "metadata": {},
   "outputs": [],
   "source": [
    "ctpe_1 = df_[df_['CTPE'] == 1]['COMAX']\n",
    "ctpe_2 = df_[df_['CTPE'] == 2]['COMAX']"
   ]
  },
  {
   "cell_type": "markdown",
   "id": "finite-roberts",
   "metadata": {},
   "source": [
    "### Categorie 1"
   ]
  },
  {
   "cell_type": "code",
   "execution_count": 105,
   "id": "seven-behalf",
   "metadata": {},
   "outputs": [],
   "source": [
    "ctpe_1_best = ctr[ctr['COMAX'].isin(ctpe_1)]['COPRO'].value_counts()"
   ]
  },
  {
   "cell_type": "code",
   "execution_count": 106,
   "id": "fatal-communication",
   "metadata": {},
   "outputs": [
    {
     "data": {
      "text/plain": [
       "812     14876899\n",
       "2076     2622035\n",
       "647       678841\n",
       "65        631110\n",
       "160       573577\n",
       "954       473959\n",
       "753       461984\n",
       "137       393736\n",
       "53        376871\n",
       "100       344540\n",
       "4545      301352\n",
       "646       275667\n",
       "1556      258901\n",
       "7530      239907\n",
       "823       234677\n",
       "3         234480\n",
       "7652      229300\n",
       "542       198968\n",
       "7604      171526\n",
       "1752      159224\n",
       "780       150977\n",
       "411       147568\n",
       "867       138085\n",
       "600       131437\n",
       "807       129931\n",
       "1759      114706\n",
       "52        113359\n",
       "2114      111458\n",
       "97        109303\n",
       "1         106498\n",
       "8         105017\n",
       "2350      103110\n",
       "727       102701\n",
       "7532       96493\n",
       "820        94788\n",
       "384        93076\n",
       "658        68763\n",
       "Name: COPRO, dtype: int64"
      ]
     },
     "execution_count": 106,
     "metadata": {},
     "output_type": "execute_result"
    }
   ],
   "source": [
    "ctpe_1_best"
   ]
  },
  {
   "cell_type": "markdown",
   "id": "sunrise-riding",
   "metadata": {},
   "source": [
    "### Categorie 2"
   ]
  },
  {
   "cell_type": "code",
   "execution_count": 109,
   "id": "sized-transfer",
   "metadata": {},
   "outputs": [],
   "source": [
    "ctpe_2_best = ctr[ctr['COMAX'].isin(ctpe_2)]['COPRO'].value_counts()"
   ]
  },
  {
   "cell_type": "code",
   "execution_count": 110,
   "id": "interstate-planet",
   "metadata": {},
   "outputs": [
    {
     "data": {
      "text/plain": [
       "812     2893722\n",
       "2076     413606\n",
       "647       88083\n",
       "658       65319\n",
       "160       52151\n",
       "646       52010\n",
       "65        49465\n",
       "780       47340\n",
       "753       44348\n",
       "7604      42997\n",
       "954       35686\n",
       "53        32909\n",
       "542       30029\n",
       "137       29156\n",
       "100       27081\n",
       "823       26209\n",
       "384       24999\n",
       "1556      23799\n",
       "4545      23422\n",
       "3         21168\n",
       "807       19201\n",
       "7530      17269\n",
       "1752      15514\n",
       "7652      13990\n",
       "820       12541\n",
       "600       12352\n",
       "97        12114\n",
       "1759      11978\n",
       "411       11839\n",
       "7532      11824\n",
       "2114      11660\n",
       "1          9841\n",
       "52         9496\n",
       "2350       8922\n",
       "8          6956\n",
       "867        5709\n",
       "727        2158\n",
       "Name: COPRO, dtype: int64"
      ]
     },
     "execution_count": 110,
     "metadata": {},
     "output_type": "execute_result"
    }
   ],
   "source": [
    "ctpe_2_best"
   ]
  },
  {
   "cell_type": "markdown",
   "id": "serial-scroll",
   "metadata": {},
   "source": [
    "## Produits CORELB"
   ]
  },
  {
   "cell_type": "code",
   "execution_count": 112,
   "id": "skilled-mission",
   "metadata": {},
   "outputs": [],
   "source": [
    "corelb_1 = df_[df_['CORELB'] == 1]['COMAX']\n",
    "corelb_4 = df_[df_['CORELB'] == 2]['COMAX']"
   ]
  },
  {
   "cell_type": "markdown",
   "id": "civilian-wagon",
   "metadata": {},
   "source": [
    "### Categorie 1"
   ]
  },
  {
   "cell_type": "code",
   "execution_count": 117,
   "id": "hungry-jungle",
   "metadata": {},
   "outputs": [
    {
     "data": {
      "text/plain": [
       "812     16913651\n",
       "2076     2757039\n",
       "647       738476\n",
       "65        629239\n",
       "160       576147\n",
       "954       482820\n",
       "753       462051\n",
       "137       404180\n",
       "53        388528\n",
       "100       357408\n",
       "4545      315552\n",
       "646       313999\n",
       "1556      268646\n",
       "823       249635\n",
       "7530      247613\n",
       "3         240183\n",
       "7652      228206\n",
       "542       215170\n",
       "7604      198337\n",
       "780       179596\n",
       "1752      167405\n",
       "411       154171\n",
       "807       142316\n",
       "600       137992\n",
       "867       137400\n",
       "1759      121190\n",
       "2114      117786\n",
       "52        117444\n",
       "97        116032\n",
       "658       113326\n",
       "1         109630\n",
       "2350      107478\n",
       "8         105119\n",
       "384       104787\n",
       "7532      103471\n",
       "820       102014\n",
       "727       100199\n",
       "Name: COPRO, dtype: int64"
      ]
     },
     "execution_count": 117,
     "metadata": {},
     "output_type": "execute_result"
    }
   ],
   "source": [
    "corelb_1_best = ctr[ctr['COMAX'].isin(corelb_1)]['COPRO'].value_counts()\n",
    "corelb_1_best"
   ]
  },
  {
   "cell_type": "markdown",
   "id": "incorporate-christian",
   "metadata": {},
   "source": [
    "### Categorie 4"
   ]
  },
  {
   "cell_type": "code",
   "execution_count": 119,
   "id": "roman-penguin",
   "metadata": {},
   "outputs": [
    {
     "data": {
      "text/plain": [
       "Series([], Name: COPRO, dtype: int64)"
      ]
     },
     "execution_count": 119,
     "metadata": {},
     "output_type": "execute_result"
    }
   ],
   "source": [
    "corelb_4_best = ctr[ctr['COMAX'].isin(corelb_4)]['COPRO'].value_counts()\n",
    "corelb_4_best"
   ]
  },
  {
   "cell_type": "code",
   "execution_count": null,
   "id": "functioning-toilet",
   "metadata": {},
   "outputs": [],
   "source": []
  }
 ],
 "metadata": {
  "kernelspec": {
   "display_name": "Python 3",
   "language": "python",
   "name": "python3"
  },
  "language_info": {
   "codemirror_mode": {
    "name": "ipython",
    "version": 3
   },
   "file_extension": ".py",
   "mimetype": "text/x-python",
   "name": "python",
   "nbconvert_exporter": "python",
   "pygments_lexer": "ipython3",
   "version": "3.6.8"
  }
 },
 "nbformat": 4,
 "nbformat_minor": 5
}
