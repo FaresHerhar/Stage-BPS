{
 "cells": [
  {
   "cell_type": "code",
   "execution_count": 1,
   "id": "trained-raleigh",
   "metadata": {},
   "outputs": [],
   "source": [
    "import pandas as pd\n",
    "import matplotlib.pyplot as plt\n",
    "import squarify\n",
    "import plotly.express as px\n",
    "import math"
   ]
  },
  {
   "cell_type": "code",
   "execution_count": 4,
   "id": "aquatic-feeling",
   "metadata": {},
   "outputs": [],
   "source": [
    "df = pd.read_csv('../cleaned-data/pc-clusters.csv', encoding='iso-8859-1', sep=\"\\t\", usecols=['COMAX', 'AGE', 'COSEXE', 'CTSCPI', 'Cluster'])"
   ]
  },
  {
   "cell_type": "code",
   "execution_count": 5,
   "id": "invalid-loading",
   "metadata": {},
   "outputs": [],
   "source": [
    "df_ = pd.read_csv('../cleaned-data/mc-clusters.csv', encoding='iso-8859-1', sep=\"\\t\", usecols=['COMAX', 'CTPE', 'CORELB', 'Cluster'])"
   ]
  },
  {
   "cell_type": "code",
   "execution_count": 4,
   "id": "viral-cooling",
   "metadata": {},
   "outputs": [],
   "source": [
    "insee = pd.read_csv('../data/tj10.csv', encoding='iso-8859-1', sep=\";\", usecols=['CTSCPI', 'LISCPI'])"
   ]
  },
  {
   "cell_type": "code",
   "execution_count": 61,
   "id": "attractive-magazine",
   "metadata": {},
   "outputs": [],
   "source": [
    "ctr = pd.read_csv('../cleaned-data/cleaned/contracts.csv', encoding='iso-8859-1', sep=\"\\t\", usecols=['COCO', 'COMAX', 'COPRO'])"
   ]
  },
  {
   "cell_type": "code",
   "execution_count": 6,
   "id": "through-policy",
   "metadata": {},
   "outputs": [],
   "source": [
    "prod = pd.read_csv('../cleaned-data/cleaned/products.csv', encoding='iso-8859-1', sep=\"\\t\", usecols=['COPRO', 'COPROG'])"
   ]
  },
  {
   "cell_type": "code",
   "execution_count": 7,
   "id": "painful-spirituality",
   "metadata": {},
   "outputs": [
    {
     "name": "stdout",
     "output_type": "stream",
     "text": [
      "<class 'pandas.core.frame.DataFrame'>\n",
      "RangeIndex: 627710 entries, 0 to 627709\n",
      "Data columns (total 4 columns):\n",
      " #   Column  Non-Null Count   Dtype \n",
      "---  ------  --------------   ----- \n",
      " 0   COMAX   627710 non-null  object\n",
      " 1   AGE     627710 non-null  int64 \n",
      " 2   COSEXE  627710 non-null  int64 \n",
      " 3   CTSCPI  627710 non-null  int64 \n",
      "dtypes: int64(3), object(1)\n",
      "memory usage: 19.2+ MB\n"
     ]
    }
   ],
   "source": [
    "df.info()"
   ]
  },
  {
   "cell_type": "code",
   "execution_count": 8,
   "id": "complete-concentration",
   "metadata": {},
   "outputs": [
    {
     "data": {
      "text/plain": [
       "(627710, 4)"
      ]
     },
     "execution_count": 8,
     "metadata": {},
     "output_type": "execute_result"
    }
   ],
   "source": [
    "df.shape"
   ]
  },
  {
   "cell_type": "code",
   "execution_count": 9,
   "id": "several-plasma",
   "metadata": {},
   "outputs": [
    {
     "data": {
      "text/plain": [
       "Index(['COMAX', 'AGE', 'COSEXE', 'CTSCPI'], dtype='object')"
      ]
     },
     "execution_count": 9,
     "metadata": {},
     "output_type": "execute_result"
    }
   ],
   "source": [
    "df.columns"
   ]
  },
  {
   "cell_type": "markdown",
   "id": "private-heaven",
   "metadata": {},
   "source": [
    "# Analyse une variable"
   ]
  },
  {
   "cell_type": "markdown",
   "id": "coupled-valve",
   "metadata": {},
   "source": [
    "## Clients physiques"
   ]
  },
  {
   "cell_type": "markdown",
   "id": "harmful-commons",
   "metadata": {},
   "source": [
    "### AGE"
   ]
  },
  {
   "cell_type": "code",
   "execution_count": 10,
   "id": "controlling-picking",
   "metadata": {},
   "outputs": [
    {
     "data": {
      "text/html": [
       "<div>\n",
       "<style scoped>\n",
       "    .dataframe tbody tr th:only-of-type {\n",
       "        vertical-align: middle;\n",
       "    }\n",
       "\n",
       "    .dataframe tbody tr th {\n",
       "        vertical-align: top;\n",
       "    }\n",
       "\n",
       "    .dataframe thead th {\n",
       "        text-align: right;\n",
       "    }\n",
       "</style>\n",
       "<table border=\"1\" class=\"dataframe\">\n",
       "  <thead>\n",
       "    <tr style=\"text-align: right;\">\n",
       "      <th></th>\n",
       "      <th>AGE</th>\n",
       "    </tr>\n",
       "  </thead>\n",
       "  <tbody>\n",
       "    <tr>\n",
       "      <th>count</th>\n",
       "      <td>627710.000000</td>\n",
       "    </tr>\n",
       "    <tr>\n",
       "      <th>mean</th>\n",
       "      <td>47.600875</td>\n",
       "    </tr>\n",
       "    <tr>\n",
       "      <th>std</th>\n",
       "      <td>23.227287</td>\n",
       "    </tr>\n",
       "    <tr>\n",
       "      <th>min</th>\n",
       "      <td>0.000000</td>\n",
       "    </tr>\n",
       "    <tr>\n",
       "      <th>25%</th>\n",
       "      <td>30.000000</td>\n",
       "    </tr>\n",
       "    <tr>\n",
       "      <th>50%</th>\n",
       "      <td>48.000000</td>\n",
       "    </tr>\n",
       "    <tr>\n",
       "      <th>75%</th>\n",
       "      <td>65.000000</td>\n",
       "    </tr>\n",
       "    <tr>\n",
       "      <th>max</th>\n",
       "      <td>124.000000</td>\n",
       "    </tr>\n",
       "  </tbody>\n",
       "</table>\n",
       "</div>"
      ],
      "text/plain": [
       "                 AGE\n",
       "count  627710.000000\n",
       "mean       47.600875\n",
       "std        23.227287\n",
       "min         0.000000\n",
       "25%        30.000000\n",
       "50%        48.000000\n",
       "75%        65.000000\n",
       "max       124.000000"
      ]
     },
     "execution_count": 10,
     "metadata": {},
     "output_type": "execute_result"
    }
   ],
   "source": [
    "pd.DataFrame(df['AGE'].describe())"
   ]
  },
  {
   "cell_type": "code",
   "execution_count": 11,
   "id": "after-mapping",
   "metadata": {},
   "outputs": [
    {
     "name": "stdout",
     "output_type": "stream",
     "text": [
      "48.0\n",
      "0    49\n",
      "dtype: int64\n"
     ]
    }
   ],
   "source": [
    "print(df.AGE.median())\n",
    "print(df.AGE.mode())"
   ]
  },
  {
   "cell_type": "code",
   "execution_count": 12,
   "id": "departmental-explorer",
   "metadata": {},
   "outputs": [
    {
     "data": {
      "text/plain": [
       "array([ 55,  41,  32,  23,  13,  61,  40,  69,  44,  10,  49,  84,  58,\n",
       "        28,  31,  37,  19,   8,  56,   6,  78,  53,  46,   4,  54,  48,\n",
       "        25,  66,  42,  57,  18,  35,  63,  39,  70,  81,  76,  52,  47,\n",
       "        60,  59,  12,  51,  14,  68,  33,  67,  43,  26,  64,  74,   9,\n",
       "        62,  50,  72,  95,  65,   2,  82,  80,  17,  94,  38,  16,  71,\n",
       "        73,  34,  30,   3,  22,  36,  24,  20,  88,  83,  75,  21,  89,\n",
       "        99,  85,  91,  86,  77,   7,  45,  29,   1,  15,   5,  11,  79,\n",
       "        92,  98,  93,  87,  27,  90,  96, 100,  97, 101, 104,   0, 102,\n",
       "       106, 107, 118, 105, 108, 103, 114, 110, 109, 112, 111, 115, 117,\n",
       "       116, 113, 123, 120, 119, 121, 124])"
      ]
     },
     "execution_count": 12,
     "metadata": {},
     "output_type": "execute_result"
    }
   ],
   "source": [
    "df.AGE.unique()"
   ]
  },
  {
   "cell_type": "code",
   "execution_count": 13,
   "id": "senior-politics",
   "metadata": {},
   "outputs": [
    {
     "data": {
      "text/plain": [
       "124"
      ]
     },
     "execution_count": 13,
     "metadata": {},
     "output_type": "execute_result"
    }
   ],
   "source": [
    "df.AGE.nunique()"
   ]
  },
  {
   "cell_type": "code",
   "execution_count": 14,
   "id": "hollow-syndicate",
   "metadata": {},
   "outputs": [
    {
     "data": {
      "image/png": "[encoded data removed]",
      "text/plain": [
       "<Figure size 432x288 with 1 Axes>"
      ]
     },
     "metadata": {
      "needs_background": "light"
     },
     "output_type": "display_data"
    }
   ],
   "source": [
    "bp = plt.boxplot(df['AGE'], vert=False, patch_artist=True)\n",
    "plt.yticks([1], [''])\n",
    "\n",
    "plt.setp(bp['caps'],color='blue',alpha=1)\n",
    "plt.setp(bp['whiskers'],color='blue',alpha=1)\n",
    "plt.setp(bp['medians'],color='tomato',alpha=1,linewidth=4.0)\n",
    "plt.setp(bp['boxes'], color='blue', facecolor='lightblue',alpha=1,linewidth=0.5)\n",
    "\n",
    "plt.xlabel('AGE')\n",
    "plt.ylabel('BOX PLOT')\n",
    "\n",
    "plt.grid(alpha=0.5)\n",
    "plt.savefig(\"../graphs/age_box.svg\")"
   ]
  },
  {
   "cell_type": "code",
   "execution_count": 15,
   "id": "three-recording",
   "metadata": {},
   "outputs": [],
   "source": [
    "age = df['AGE'].value_counts()\n",
    "age = list(zip(age.index, age.values))\n",
    "age.sort(key=lambda x: x[0])"
   ]
  },
  {
   "cell_type": "code",
   "execution_count": 16,
   "id": "cooked-calibration",
   "metadata": {},
   "outputs": [
    {
     "name": "stdout",
     "output_type": "stream",
     "text": [
      "AGE: 0, COUNT: 438, %: 0.06977744499848657.\n",
      "AGE: 1, COUNT: 1215, %: 0.19356072071497984.\n",
      "AGE: 2, COUNT: 1798, %: 0.2864380048111389.\n",
      "AGE: 3, COUNT: 2229, %: 0.3551002851635309.\n",
      "AGE: 4, COUNT: 2687, %: 0.4280639148651447.\n",
      "AGE: 5, COUNT: 3225, %: 0.5137722833792675.\n",
      "AGE: 6, COUNT: 3819, %: 0.6084019690621465.\n",
      "AGE: 7, COUNT: 4190, %: 0.6675056953051569.\n",
      "AGE: 8, COUNT: 4677, %: 0.7450892928263051.\n",
      "AGE: 9, COUNT: 4924, %: 0.7844386739099266.\n",
      "AGE: 10, COUNT: 5215, %: 0.8307976613404279.\n",
      "AGE: 11, COUNT: 5392, %: 0.858995395963104.\n",
      "AGE: 12, COUNT: 5501, %: 0.8763601025951475.\n",
      "AGE: 13, COUNT: 5541, %: 0.882732472001402.\n",
      "AGE: 14, COUNT: 5817, %: 0.9267018209045578.\n",
      "AGE: 15, COUNT: 6185, %: 0.9853276194420991.\n",
      "AGE: 16, COUNT: 6190, %: 0.9861241656178809.\n",
      "AGE: 17, COUNT: 6430, %: 1.0243583820554079.\n",
      "AGE: 18, COUNT: 6639, %: 1.0576540122030873.\n",
      "AGE: 19, COUNT: 6635, %: 1.057016775262462.\n",
      "AGE: 20, COUNT: 7027, %: 1.119465995443756.\n",
      "AGE: 21, COUNT: 6757, %: 1.076452501951538.\n",
      "AGE: 22, COUNT: 6822, %: 1.0868076022367017.\n",
      "AGE: 23, COUNT: 6680, %: 1.0641856908444982.\n",
      "AGE: 24, COUNT: 6718, %: 1.0702394417804402.\n",
      "AGE: 25, COUNT: 6719, %: 1.0703987510155963.\n",
      "AGE: 26, COUNT: 6556, %: 1.0444313456851093.\n",
      "AGE: 27, COUNT: 6714, %: 1.0696022048398146.\n",
      "AGE: 28, COUNT: 6948, %: 1.1068805658664032.\n",
      "AGE: 29, COUNT: 7118, %: 1.1339631358429847.\n",
      "AGE: 30, COUNT: 7480, %: 1.191633078969588.\n",
      "AGE: 31, COUNT: 7538, %: 1.2008730146086568.\n",
      "AGE: 32, COUNT: 7618, %: 1.2136177534211658.\n",
      "AGE: 33, COUNT: 7801, %: 1.24277134345478.\n",
      "AGE: 34, COUNT: 7866, %: 1.2531264437399436.\n",
      "AGE: 35, COUNT: 7893, %: 1.2574277930891653.\n",
      "AGE: 36, COUNT: 7856, %: 1.25153335138838.\n",
      "AGE: 37, COUNT: 7941, %: 1.2650746363766707.\n",
      "AGE: 38, COUNT: 8655, %: 1.3788214302783133.\n",
      "AGE: 39, COUNT: 8969, %: 1.4288445301174109.\n",
      "AGE: 40, COUNT: 9254, %: 1.4742476621369742.\n",
      "AGE: 41, COUNT: 8882, %: 1.4149846266588073.\n",
      "AGE: 42, COUNT: 8672, %: 1.3815296872759715.\n",
      "AGE: 43, COUNT: 8926, %: 1.4219942330056874.\n",
      "AGE: 44, COUNT: 8309, %: 1.323700434914212.\n",
      "AGE: 45, COUNT: 8706, %: 1.3869462012712876.\n",
      "AGE: 46, COUNT: 9389, %: 1.495754408883083.\n",
      "AGE: 47, COUNT: 9924, %: 1.5809848496917367.\n",
      "AGE: 48, COUNT: 10150, %: 1.6169887368370746.\n",
      "AGE: 49, COUNT: 10190, %: 1.6233611062433289.\n",
      "AGE: 50, COUNT: 9807, %: 1.5623456691784423.\n",
      "AGE: 51, COUNT: 9607, %: 1.5304838221471697.\n",
      "AGE: 52, COUNT: 9462, %: 1.5073839830494973.\n",
      "AGE: 53, COUNT: 9513, %: 1.5155087540424719.\n",
      "AGE: 54, COUNT: 9578, %: 1.5258638543276355.\n",
      "AGE: 55, COUNT: 9506, %: 1.5143935893963774.\n",
      "AGE: 56, COUNT: 9687, %: 1.5432285609596788.\n",
      "AGE: 57, COUNT: 9425, %: 1.501489541348712.\n",
      "AGE: 58, COUNT: 8769, %: 1.3969826830861385.\n",
      "AGE: 59, COUNT: 8767, %: 1.3966640646158257.\n",
      "AGE: 60, COUNT: 8556, %: 1.3630498159978335.\n",
      "AGE: 61, COUNT: 8765, %: 1.3963454461455131.\n",
      "AGE: 62, COUNT: 8334, %: 1.327683165793121.\n",
      "AGE: 63, COUNT: 8221, %: 1.3096812222204521.\n",
      "AGE: 64, COUNT: 8265, %: 1.316690828567332.\n",
      "AGE: 65, COUNT: 8135, %: 1.295980627997005.\n",
      "AGE: 66, COUNT: 8215, %: 1.308725366809514.\n",
      "AGE: 67, COUNT: 8086, %: 1.2881744754743434.\n",
      "AGE: 68, COUNT: 8050, %: 1.2824393430087142.\n",
      "AGE: 69, COUNT: 7886, %: 1.2563126284430708.\n",
      "AGE: 70, COUNT: 8168, %: 1.301237832757165.\n",
      "AGE: 71, COUNT: 8123, %: 1.2940689171751287.\n",
      "AGE: 72, COUNT: 8128, %: 1.2948654633509105.\n",
      "AGE: 73, COUNT: 7911, %: 1.26029535932198.\n",
      "AGE: 74, COUNT: 7483, %: 1.1921110066750569.\n",
      "AGE: 75, COUNT: 5764, %: 0.9182584314412706.\n",
      "AGE: 76, COUNT: 5614, %: 0.8943620461678163.\n",
      "AGE: 77, COUNT: 5667, %: 0.9028054356311035.\n",
      "AGE: 78, COUNT: 4853, %: 0.7731277182138249.\n",
      "AGE: 79, COUNT: 4420, %: 0.7041468193911201.\n",
      "AGE: 80, COUNT: 3836, %: 0.6111102260598047.\n",
      "AGE: 81, COUNT: 3931, %: 0.626244603399659.\n",
      "AGE: 82, COUNT: 3983, %: 0.6345286836277899.\n",
      "AGE: 83, COUNT: 3720, %: 0.5926303547816667.\n",
      "AGE: 84, COUNT: 3549, %: 0.5653884755699288.\n",
      "AGE: 85, COUNT: 3462, %: 0.5515285721113253.\n",
      "AGE: 86, COUNT: 3318, %: 0.5285880422488092.\n",
      "AGE: 87, COUNT: 3244, %: 0.5167991588472384.\n",
      "AGE: 88, COUNT: 3095, %: 0.4930620828089404.\n",
      "AGE: 89, COUNT: 2951, %: 0.4701215529464243.\n",
      "AGE: 90, COUNT: 2775, %: 0.44208312755890455.\n",
      "AGE: 91, COUNT: 2555, %: 0.407035095824505.\n",
      "AGE: 92, COUNT: 2204, %: 0.3511175542846219.\n",
      "AGE: 93, COUNT: 1935, %: 0.3082633700275605.\n",
      "AGE: 94, COUNT: 1809, %: 0.28819040639785887.\n",
      "AGE: 95, COUNT: 1753, %: 0.27926908922910265.\n",
      "AGE: 96, COUNT: 1512, %: 0.24087556355641937.\n",
      "AGE: 97, COUNT: 1336, %: 0.21283713816889963.\n",
      "AGE: 98, COUNT: 1204, %: 0.19180831912825985.\n",
      "AGE: 99, COUNT: 1079, %: 0.17189466473371462.\n",
      "AGE: 100, COUNT: 902, %: 0.14369693011103854.\n",
      "AGE: 101, COUNT: 426, %: 0.06786573417661022.\n",
      "AGE: 102, COUNT: 367, %: 0.05846648930238486.\n",
      "AGE: 103, COUNT: 236, %: 0.03759697949690144.\n",
      "AGE: 104, COUNT: 153, %: 0.02437431297892339.\n",
      "AGE: 105, COUNT: 155, %: 0.024692931449236115.\n",
      "AGE: 106, COUNT: 168, %: 0.02676395150626882.\n",
      "AGE: 107, COUNT: 102, %: 0.016249541985948926.\n",
      "AGE: 108, COUNT: 92, %: 0.014656449634385305.\n",
      "AGE: 109, COUNT: 68, %: 0.010833027990632618.\n",
      "AGE: 110, COUNT: 42, %: 0.006690987876567205.\n",
      "AGE: 111, COUNT: 33, %: 0.005257204760159947.\n",
      "AGE: 112, COUNT: 36, %: 0.005735132465629032.\n",
      "AGE: 113, COUNT: 19, %: 0.0030268754679708782.\n",
      "AGE: 114, COUNT: 17, %: 0.0027082569976581545.\n",
      "AGE: 115, COUNT: 6, %: 0.0009558554109381721.\n",
      "AGE: 116, COUNT: 7, %: 0.001115164646094534.\n",
      "AGE: 117, COUNT: 6, %: 0.0009558554109381721.\n",
      "AGE: 118, COUNT: 9, %: 0.001433783116407258.\n",
      "AGE: 119, COUNT: 8, %: 0.0012744738812508962.\n",
      "AGE: 120, COUNT: 5, %: 0.0007965461757818101.\n",
      "AGE: 121, COUNT: 3, %: 0.00047792770546908604.\n",
      "AGE: 123, COUNT: 7, %: 0.001115164646094534.\n",
      "AGE: 124, COUNT: 2, %: 0.00031861847031272405.\n"
     ]
    }
   ],
   "source": [
    "for temp in age:\n",
    "    print('AGE: {}, COUNT: {}, %: {}.'.format(temp[0], temp[1], temp[1] / df.shape[0] * 100))"
   ]
  },
  {
   "cell_type": "code",
   "execution_count": 17,
   "id": "centered-dynamics",
   "metadata": {},
   "outputs": [
    {
     "data": {
      "image/png": "[encoded data removed]",
      "text/plain": [
       "<Figure size 432x288 with 1 Axes>"
      ]
     },
     "metadata": {
      "needs_background": "light"
     },
     "output_type": "display_data"
    }
   ],
   "source": [
    "bins = [i for i in range(125)]\n",
    "plt.hist(df['AGE'], bins=bins, edgecolor='black')\n",
    "plt.axvline(df.AGE.median(), color='#FC4F30', label='Median Age')\n",
    "\n",
    "plt.xlabel('Age')\n",
    "plt.ylabel('Nombre de Clients')\n",
    "plt.legend()\n",
    "plt.tight_layout()\n",
    "plt.savefig(\"../graphs/age_hist.svg\")"
   ]
  },
  {
   "cell_type": "markdown",
   "id": "wooden-devil",
   "metadata": {},
   "source": [
    "### SEXE"
   ]
  },
  {
   "cell_type": "code",
   "execution_count": 18,
   "id": "dress-eleven",
   "metadata": {},
   "outputs": [
    {
     "data": {
      "text/plain": [
       "0    316727\n",
       "1    310983\n",
       "Name: COSEXE, dtype: int64"
      ]
     },
     "execution_count": 18,
     "metadata": {},
     "output_type": "execute_result"
    }
   ],
   "source": [
    "df['COSEXE'].value_counts()"
   ]
  },
  {
   "cell_type": "code",
   "execution_count": 19,
   "id": "inside-comfort",
   "metadata": {},
   "outputs": [],
   "source": [
    "# O is for male, and 1 for female\n",
    "sex = df['COSEXE'].value_counts(normalize=True)"
   ]
  },
  {
   "cell_type": "code",
   "execution_count": 20,
   "id": "rocky-narrow",
   "metadata": {},
   "outputs": [
    {
     "data": {
      "text/plain": [
       "array([0.50457536, 0.49542464])"
      ]
     },
     "execution_count": 20,
     "metadata": {},
     "output_type": "execute_result"
    }
   ],
   "source": [
    "sex.values"
   ]
  },
  {
   "cell_type": "code",
   "execution_count": 21,
   "id": "pressed-potato",
   "metadata": {},
   "outputs": [
    {
     "data": {
      "text/plain": [
       "Int64Index([0, 1], dtype='int64')"
      ]
     },
     "execution_count": 21,
     "metadata": {},
     "output_type": "execute_result"
    }
   ],
   "source": [
    "sex.index"
   ]
  },
  {
   "cell_type": "code",
   "execution_count": 22,
   "id": "stable-merchandise",
   "metadata": {},
   "outputs": [
    {
     "data": {
      "image/png": "[encoded data removed]",
      "text/plain": [
       "<Figure size 432x288 with 1 Axes>"
      ]
     },
     "metadata": {},
     "output_type": "display_data"
    }
   ],
   "source": [
    "colors = ['#66b3ff', '#ff9999']\n",
    "labels = ['MALE', 'FEMELLE']\n",
    "explode = [0.025, 0.025]\n",
    "plt.pie(sex.values, labels=labels, explode=explode, colors=colors, autopct='%1.1f%%', shadow=True, startangle=45)\n",
    "\n",
    "plt.savefig(\"../graphs/sexe.svg\")"
   ]
  },
  {
   "cell_type": "markdown",
   "id": "abstract-balloon",
   "metadata": {},
   "source": [
    "### CTSCPI"
   ]
  },
  {
   "cell_type": "code",
   "execution_count": 23,
   "id": "atlantic-venezuela",
   "metadata": {},
   "outputs": [
    {
     "data": {
      "text/plain": [
       "array([4600, 4700, 3500, 8400, 6200, 8600, 8500, 7600, 6300, 5400, 2300,\n",
       "       3700, 4200, 4300, 6400, 3100, 3300, 4800, 5200, 7300, 5600, 3400,\n",
       "       2200, 5500, 5300, 4500, 1100, 2100, 7200, 6800, 6700, 8100, 7700,\n",
       "       7100, 6500, 3800, 7500, 6900, 7400, 1200, 8200, 3600, 7800, 4400,\n",
       "       1300, 5100, 8300, 6600, 1000, 6100])"
      ]
     },
     "execution_count": 23,
     "metadata": {},
     "output_type": "execute_result"
    }
   ],
   "source": [
    "df.CTSCPI.unique()"
   ]
  },
  {
   "cell_type": "code",
   "execution_count": 24,
   "id": "precious-parameter",
   "metadata": {},
   "outputs": [
    {
     "data": {
      "text/plain": [
       "50"
      ]
     },
     "execution_count": 24,
     "metadata": {},
     "output_type": "execute_result"
    }
   ],
   "source": [
    "df.CTSCPI.nunique()"
   ]
  },
  {
   "cell_type": "code",
   "execution_count": 25,
   "id": "certain-response",
   "metadata": {},
   "outputs": [],
   "source": [
    "ctscpi = df['CTSCPI'].value_counts()\n",
    "ctscpi = list(zip(ctscpi.index, ctscpi.values))"
   ]
  },
  {
   "cell_type": "code",
   "execution_count": 26,
   "id": "available-terminal",
   "metadata": {},
   "outputs": [
    {
     "name": "stdout",
     "output_type": "stream",
     "text": [
      "INSEE: 8400, COUNT: 109127, %: 17.4.\n",
      "INSEE: 7600, COUNT: 67948, %: 10.8.\n",
      "INSEE: 8500, COUNT: 46771, %: 7.45.\n",
      "INSEE: 8600, COUNT: 33876, %: 5.4.\n",
      "INSEE: 5400, COUNT: 33090, %: 5.27.\n",
      "INSEE: 7300, COUNT: 31356, %: 5.0.\n",
      "INSEE: 5200, COUNT: 30174, %: 4.81.\n",
      "INSEE: 5500, COUNT: 22273, %: 3.55.\n",
      "INSEE: 2300, COUNT: 17449, %: 2.78.\n",
      "INSEE: 4200, COUNT: 17261, %: 2.75.\n",
      "INSEE: 7200, COUNT: 15968, %: 2.54.\n",
      "INSEE: 5600, COUNT: 15812, %: 2.52.\n",
      "INSEE: 4300, COUNT: 14949, %: 2.38.\n",
      "INSEE: 6300, COUNT: 13536, %: 2.16.\n",
      "INSEE: 3700, COUNT: 13038, %: 2.08.\n",
      "INSEE: 2100, COUNT: 12934, %: 2.06.\n",
      "INSEE: 4600, COUNT: 12814, %: 2.04.\n",
      "INSEE: 4700, COUNT: 12748, %: 2.03.\n",
      "INSEE: 3400, COUNT: 12678, %: 2.02.\n",
      "INSEE: 8100, COUNT: 11344, %: 1.81.\n",
      "INSEE: 3100, COUNT: 10071, %: 1.6.\n",
      "INSEE: 2200, COUNT: 9818, %: 1.56.\n",
      "INSEE: 5300, COUNT: 7904, %: 1.26.\n",
      "INSEE: 6200, COUNT: 7152, %: 1.14.\n",
      "INSEE: 6400, COUNT: 5306, %: 0.845.\n",
      "INSEE: 3300, COUNT: 5060, %: 0.806.\n",
      "INSEE: 1100, COUNT: 4168, %: 0.664.\n",
      "INSEE: 7500, COUNT: 4013, %: 0.639.\n",
      "INSEE: 6900, COUNT: 3457, %: 0.551.\n",
      "INSEE: 6800, COUNT: 3253, %: 0.518.\n",
      "INSEE: 4500, COUNT: 3207, %: 0.511.\n",
      "INSEE: 6700, COUNT: 3155, %: 0.503.\n",
      "INSEE: 3800, COUNT: 2993, %: 0.477.\n",
      "INSEE: 4800, COUNT: 2877, %: 0.458.\n",
      "INSEE: 7100, COUNT: 2407, %: 0.383.\n",
      "INSEE: 3500, COUNT: 2141, %: 0.341.\n",
      "INSEE: 7700, COUNT: 1816, %: 0.289.\n",
      "INSEE: 1200, COUNT: 1384, %: 0.22.\n",
      "INSEE: 6500, COUNT: 980, %: 0.156.\n",
      "INSEE: 3600, COUNT: 530, %: 0.0844.\n",
      "INSEE: 7400, COUNT: 391, %: 0.0623.\n",
      "INSEE: 7800, COUNT: 209, %: 0.0333.\n",
      "INSEE: 1300, COUNT: 146, %: 0.0233.\n",
      "INSEE: 4400, COUNT: 77, %: 0.0123.\n",
      "INSEE: 8300, COUNT: 26, %: 0.00414.\n",
      "INSEE: 8200, COUNT: 7, %: 0.00112.\n",
      "INSEE: 6600, COUNT: 5, %: 0.000797.\n",
      "INSEE: 6100, COUNT: 5, %: 0.000797.\n",
      "INSEE: 5100, COUNT: 3, %: 0.000478.\n",
      "INSEE: 1000, COUNT: 3, %: 0.000478.\n"
     ]
    }
   ],
   "source": [
    "for temp in ctscpi:\n",
    "    print('INSEE: {}, COUNT: {}, %: {:.3}.'.format(temp[0], temp[1], temp[1] / df.shape[0] * 100))"
   ]
  },
  {
   "cell_type": "code",
   "execution_count": 11,
   "id": "prescribed-characterization",
   "metadata": {},
   "outputs": [
    {
     "data": {
      "text/plain": [
       "0    362108\n",
       "1    265602\n",
       "Name: Cluster, dtype: int64"
      ]
     },
     "execution_count": 11,
     "metadata": {},
     "output_type": "execute_result"
    }
   ],
   "source": [
    "df['Cluster'].value_counts()"
   ]
  },
  {
   "cell_type": "code",
   "execution_count": 8,
   "id": "civilian-stack",
   "metadata": {},
   "outputs": [],
   "source": [
    "pc_cluster = df['Cluster'].value_counts(normalize=True)"
   ]
  },
  {
   "cell_type": "code",
   "execution_count": 14,
   "id": "polyphonic-bishop",
   "metadata": {},
   "outputs": [
    {
     "name": "stdout",
     "output_type": "stream",
     "text": [
      "Int64Index([0, 1], dtype='int64')\n",
      "[0.57687149 0.42312851]\n"
     ]
    }
   ],
   "source": [
    "print(pc_cluster.index)\n",
    "print(pc_cluster.values)"
   ]
  },
  {
   "cell_type": "code",
   "execution_count": 16,
   "id": "broken-record",
   "metadata": {},
   "outputs": [
    {
     "data": {
      "image/png": "[encoded data removed]",
      "text/plain": [
       "<Figure size 432x288 with 1 Axes>"
      ]
     },
     "metadata": {},
     "output_type": "display_data"
    }
   ],
   "source": [
    "colors = ['#4788FF', '#AFCBFF']\n",
    "labels = ['Cluster 0', 'Cluster 1']\n",
    "explode = [0.025, 0.025]\n",
    "plt.pie(pc_cluster.values, labels=labels, explode=explode, colors=colors, autopct='%1.1f%%', shadow=True, startangle=45)\n",
    "\n",
    "plt.savefig(\"../graphs/pc_cluster.svg\")"
   ]
  },
  {
   "cell_type": "markdown",
   "id": "valid-decision",
   "metadata": {},
   "source": [
    "## Clients moraux"
   ]
  },
  {
   "cell_type": "code",
   "execution_count": 57,
   "id": "reserved-florist",
   "metadata": {},
   "outputs": [
    {
     "data": {
      "text/plain": [
       "(2979146, 3)"
      ]
     },
     "execution_count": 57,
     "metadata": {},
     "output_type": "execute_result"
    }
   ],
   "source": [
    "df_.shape"
   ]
  },
  {
   "cell_type": "markdown",
   "id": "intense-repository",
   "metadata": {},
   "source": [
    "### CTPE"
   ]
  },
  {
   "cell_type": "code",
   "execution_count": 27,
   "id": "clinical-ultimate",
   "metadata": {},
   "outputs": [
    {
     "data": {
      "text/plain": [
       "array([1, 2])"
      ]
     },
     "execution_count": 27,
     "metadata": {},
     "output_type": "execute_result"
    }
   ],
   "source": [
    "df_['CTPE'].unique()"
   ]
  },
  {
   "cell_type": "code",
   "execution_count": 28,
   "id": "separated-family",
   "metadata": {},
   "outputs": [
    {
     "data": {
      "text/plain": [
       "2"
      ]
     },
     "execution_count": 28,
     "metadata": {},
     "output_type": "execute_result"
    }
   ],
   "source": [
    "df_['CTPE'].nunique()"
   ]
  },
  {
   "cell_type": "code",
   "execution_count": 29,
   "id": "aging-blues",
   "metadata": {},
   "outputs": [
    {
     "data": {
      "text/plain": [
       "1    2793416\n",
       "2     185730\n",
       "Name: CTPE, dtype: int64"
      ]
     },
     "execution_count": 29,
     "metadata": {},
     "output_type": "execute_result"
    }
   ],
   "source": [
    "df_['CTPE'].value_counts()"
   ]
  },
  {
   "cell_type": "code",
   "execution_count": 30,
   "id": "suburban-entrance",
   "metadata": {},
   "outputs": [
    {
     "data": {
      "text/plain": [
       "1    0.937657\n",
       "2    0.062343\n",
       "Name: CTPE, dtype: float64"
      ]
     },
     "execution_count": 30,
     "metadata": {},
     "output_type": "execute_result"
    }
   ],
   "source": [
    "ctpe = df_['CTPE'].value_counts(normalize=True)\n",
    "ctpe"
   ]
  },
  {
   "cell_type": "code",
   "execution_count": 58,
   "id": "proud-methodology",
   "metadata": {},
   "outputs": [
    {
     "data": {
      "image/png": "[encoded data removed]",
      "text/plain": [
       "<Figure size 432x288 with 1 Axes>"
      ]
     },
     "metadata": {},
     "output_type": "display_data"
    }
   ],
   "source": [
    "colors = ['#D8DFCB', '#6D7D7B']\n",
    "labels = ['Categorie 1', 'Categorie 2']\n",
    "explode = [0.025, 0.025]\n",
    "plt.pie(ctpe.values, labels=labels, explode=explode, colors=colors, autopct='%1.1f%%', shadow=True, startangle=45)\n",
    "\n",
    "plt.savefig(\"../graphs/ctpe.svg\")"
   ]
  },
  {
   "cell_type": "markdown",
   "id": "freelance-monkey",
   "metadata": {},
   "source": [
    "### CORELB"
   ]
  },
  {
   "cell_type": "code",
   "execution_count": 32,
   "id": "fifth-motivation",
   "metadata": {},
   "outputs": [
    {
     "data": {
      "text/plain": [
       "array([1, 4])"
      ]
     },
     "execution_count": 32,
     "metadata": {},
     "output_type": "execute_result"
    }
   ],
   "source": [
    "df_['CORELB'].unique()"
   ]
  },
  {
   "cell_type": "code",
   "execution_count": 33,
   "id": "tough-wings",
   "metadata": {},
   "outputs": [
    {
     "data": {
      "text/plain": [
       "2"
      ]
     },
     "execution_count": 33,
     "metadata": {},
     "output_type": "execute_result"
    }
   ],
   "source": [
    "df_['CORELB'].nunique()"
   ]
  },
  {
   "cell_type": "code",
   "execution_count": 34,
   "id": "returning-kingston",
   "metadata": {},
   "outputs": [
    {
     "data": {
      "text/plain": [
       "1    2626102\n",
       "4     353044\n",
       "Name: CORELB, dtype: int64"
      ]
     },
     "execution_count": 34,
     "metadata": {},
     "output_type": "execute_result"
    }
   ],
   "source": [
    "df_['CORELB'].value_counts()"
   ]
  },
  {
   "cell_type": "code",
   "execution_count": 35,
   "id": "digital-algeria",
   "metadata": {},
   "outputs": [
    {
     "data": {
      "text/plain": [
       "1    0.881495\n",
       "4    0.118505\n",
       "Name: CORELB, dtype: float64"
      ]
     },
     "execution_count": 35,
     "metadata": {},
     "output_type": "execute_result"
    }
   ],
   "source": [
    "corelb = df_['CORELB'].value_counts(normalize=True)\n",
    "corelb"
   ]
  },
  {
   "cell_type": "code",
   "execution_count": 59,
   "id": "fossil-remainder",
   "metadata": {},
   "outputs": [
    {
     "data": {
      "image/png": "[encoded data removed]",
      "text/plain": [
       "<Figure size 432x288 with 1 Axes>"
      ]
     },
     "metadata": {},
     "output_type": "display_data"
    }
   ],
   "source": [
    "colors = ['#91bdff', '#558fe6']\n",
    "labels = ['Categorie 1', 'Categorie 4']\n",
    "explode = [0.025, 0.025]\n",
    "plt.pie(corelb.values, labels=labels, explode=explode, colors=colors, autopct='%1.1f%%', shadow=True, startangle=45)\n",
    "\n",
    "plt.savefig(\"../graphs/corelb.svg\")"
   ]
  },
  {
   "cell_type": "code",
   "execution_count": 17,
   "id": "rational-retrieval",
   "metadata": {},
   "outputs": [
    {
     "data": {
      "text/plain": [
       "0    2125812\n",
       "1     853334\n",
       "Name: Cluster, dtype: int64"
      ]
     },
     "execution_count": 17,
     "metadata": {},
     "output_type": "execute_result"
    }
   ],
   "source": [
    "df_['Cluster'].value_counts()"
   ]
  },
  {
   "cell_type": "code",
   "execution_count": 18,
   "id": "rotary-saying",
   "metadata": {},
   "outputs": [],
   "source": [
    "mc_cluster = df['Cluster'].value_counts(normalize=True)"
   ]
  },
  {
   "cell_type": "code",
   "execution_count": 19,
   "id": "parental-charity",
   "metadata": {},
   "outputs": [
    {
     "name": "stdout",
     "output_type": "stream",
     "text": [
      "Int64Index([0, 1], dtype='int64')\n",
      "[0.57687149 0.42312851]\n"
     ]
    }
   ],
   "source": [
    "print(mc_cluster.index)\n",
    "print(mc_cluster.values)"
   ]
  },
  {
   "cell_type": "code",
   "execution_count": 21,
   "id": "treated-vertex",
   "metadata": {},
   "outputs": [
    {
     "data": {
      "image/png": "[encoded data removed]",
      "text/plain": [
       "<Figure size 432x288 with 1 Axes>"
      ]
     },
     "metadata": {},
     "output_type": "display_data"
    }
   ],
   "source": [
    "colors = ['#99A1A6', '#DEE1E3']\n",
    "labels = ['Cluster 0', 'Cluster 1']\n",
    "explode = [0.025, 0.025]\n",
    "plt.pie(mc_cluster.values, labels=labels, explode=explode, colors=colors, autopct='%1.1f%%', shadow=True, startangle=45)\n",
    "\n",
    "plt.savefig(\"../graphs/mc_cluster.svg\")"
   ]
  },
  {
   "cell_type": "markdown",
   "id": "chicken-anaheim",
   "metadata": {},
   "source": [
    "## Contracts"
   ]
  },
  {
   "cell_type": "code",
   "execution_count": 37,
   "id": "imperial-hampton",
   "metadata": {},
   "outputs": [
    {
     "data": {
      "text/plain": [
       "37"
      ]
     },
     "execution_count": 37,
     "metadata": {},
     "output_type": "execute_result"
    }
   ],
   "source": [
    "# PRODUITS\n",
    "ctr['COPRO'].nunique()"
   ]
  },
  {
   "cell_type": "code",
   "execution_count": 62,
   "id": "important-chart",
   "metadata": {},
   "outputs": [
    {
     "data": {
      "text/plain": [
       "24140903"
      ]
     },
     "execution_count": 62,
     "metadata": {},
     "output_type": "execute_result"
    }
   ],
   "source": [
    "ctr['COCO'].nunique()"
   ]
  },
  {
   "cell_type": "code",
   "execution_count": 63,
   "id": "conventional-cleveland",
   "metadata": {},
   "outputs": [
    {
     "data": {
      "text/plain": [
       "(28685139, 3)"
      ]
     },
     "execution_count": 63,
     "metadata": {},
     "output_type": "execute_result"
    }
   ],
   "source": [
    "ctr.shape"
   ]
  },
  {
   "cell_type": "code",
   "execution_count": 38,
   "id": "bound-territory",
   "metadata": {},
   "outputs": [
    {
     "data": {
      "text/plain": [
       "637143"
      ]
     },
     "execution_count": 38,
     "metadata": {},
     "output_type": "execute_result"
    }
   ],
   "source": [
    "# CLIENTS\n",
    "ctr['COMAX'].nunique()"
   ]
  },
  {
   "cell_type": "code",
   "execution_count": 39,
   "id": "facial-lecture",
   "metadata": {},
   "outputs": [
    {
     "data": {
      "text/plain": [
       "28685139"
      ]
     },
     "execution_count": 39,
     "metadata": {},
     "output_type": "execute_result"
    }
   ],
   "source": [
    "# CONTRACTS TITAL\n",
    "ctr['COMAX'].count()"
   ]
  },
  {
   "cell_type": "markdown",
   "id": "descending-somerset",
   "metadata": {},
   "source": [
    "## Produits"
   ]
  },
  {
   "cell_type": "code",
   "execution_count": 40,
   "id": "improved-denmark",
   "metadata": {},
   "outputs": [
    {
     "name": "stdout",
     "output_type": "stream",
     "text": [
      "<class 'pandas.core.frame.DataFrame'>\n",
      "RangeIndex: 2341 entries, 0 to 2340\n",
      "Data columns (total 2 columns):\n",
      " #   Column  Non-Null Count  Dtype \n",
      "---  ------  --------------  ----- \n",
      " 0   COPRO   2341 non-null   int64 \n",
      " 1   COPROG  2341 non-null   object\n",
      "dtypes: int64(1), object(1)\n",
      "memory usage: 36.7+ KB\n"
     ]
    }
   ],
   "source": [
    "prod.info()"
   ]
  },
  {
   "cell_type": "markdown",
   "id": "cross-samoa",
   "metadata": {},
   "source": [
    "### COPRO"
   ]
  },
  {
   "cell_type": "code",
   "execution_count": 41,
   "id": "fresh-gravity",
   "metadata": {},
   "outputs": [
    {
     "data": {
      "text/plain": [
       "array([7018, 2116, 2019, ...,  692,  653,  872])"
      ]
     },
     "execution_count": 41,
     "metadata": {},
     "output_type": "execute_result"
    }
   ],
   "source": [
    "prod.COPRO.unique()"
   ]
  },
  {
   "cell_type": "code",
   "execution_count": 42,
   "id": "lonely-encoding",
   "metadata": {},
   "outputs": [
    {
     "data": {
      "text/plain": [
       "2341"
      ]
     },
     "execution_count": 42,
     "metadata": {},
     "output_type": "execute_result"
    }
   ],
   "source": [
    "# Nombre de produits\n",
    "prod.COPRO.nunique()"
   ]
  },
  {
   "cell_type": "markdown",
   "id": "corporate-marijuana",
   "metadata": {},
   "source": [
    "### COPROG"
   ]
  },
  {
   "cell_type": "code",
   "execution_count": 65,
   "id": "falling-british",
   "metadata": {},
   "outputs": [
    {
     "data": {
      "text/plain": [
       "456"
      ]
     },
     "execution_count": 65,
     "metadata": {},
     "output_type": "execute_result"
    }
   ],
   "source": [
    "# Nmbre de groupe de produits\n",
    "prod.COPROG.nunique()"
   ]
  },
  {
   "cell_type": "markdown",
   "id": "mexican-registrar",
   "metadata": {},
   "source": [
    "# Analyse deux variables"
   ]
  },
  {
   "cell_type": "code",
   "execution_count": null,
   "id": "specified-vietnamese",
   "metadata": {},
   "outputs": [],
   "source": [
    "insee.head()"
   ]
  },
  {
   "cell_type": "code",
   "execution_count": null,
   "id": "representative-reviewer",
   "metadata": {},
   "outputs": [],
   "source": [
    "df.head()"
   ]
  },
  {
   "cell_type": "markdown",
   "id": "large-bottom",
   "metadata": {},
   "source": [
    "## AGE INSEE"
   ]
  },
  {
   "cell_type": "code",
   "execution_count": null,
   "id": "persistent-activity",
   "metadata": {},
   "outputs": [],
   "source": [
    "age_insee = df.groupby('AGE')['CTSCPI'].value_counts()\n",
    "age_insee.head(10)"
   ]
  },
  {
   "cell_type": "markdown",
   "id": "satisfied-biology",
   "metadata": {},
   "source": [
    "## SEXE INSEE"
   ]
  },
  {
   "cell_type": "code",
   "execution_count": null,
   "id": "impossible-sellers",
   "metadata": {},
   "outputs": [],
   "source": [
    "sex_insee = df.groupby('COSEXE')['CTSCPI'].value_counts()\n",
    "sex_insee.head(10)"
   ]
  },
  {
   "cell_type": "code",
   "execution_count": null,
   "id": "flying-tissue",
   "metadata": {
    "scrolled": true
   },
   "outputs": [],
   "source": [
    "ctr.head()"
   ]
  },
  {
   "cell_type": "code",
   "execution_count": null,
   "id": "sudden-district",
   "metadata": {},
   "outputs": [],
   "source": [
    "df.head()"
   ]
  },
  {
   "cell_type": "markdown",
   "id": "communist-taylor",
   "metadata": {},
   "source": [
    "## Produits SEXE"
   ]
  },
  {
   "cell_type": "code",
   "execution_count": null,
   "id": "abstract-interest",
   "metadata": {},
   "outputs": [],
   "source": [
    "women = df[df['COSEXE'] == 1]['COMAX']\n",
    "men = df[df['COSEXE'] == 0]['COMAX']"
   ]
  },
  {
   "cell_type": "code",
   "execution_count": null,
   "id": "laughing-trunk",
   "metadata": {},
   "outputs": [],
   "source": [
    "women_best = ctr[ctr['COMAX'].isin(women)]['COPRO'].value_counts()"
   ]
  },
  {
   "cell_type": "code",
   "execution_count": null,
   "id": "weird-liberty",
   "metadata": {},
   "outputs": [],
   "source": [
    "women_best"
   ]
  },
  {
   "cell_type": "code",
   "execution_count": null,
   "id": "sound-thesaurus",
   "metadata": {},
   "outputs": [],
   "source": [
    "men_best = ctr[ctr['COMAX'].isin(men)]['COPRO'].value_counts()"
   ]
  },
  {
   "cell_type": "code",
   "execution_count": null,
   "id": "raising-texas",
   "metadata": {},
   "outputs": [],
   "source": [
    "men_best"
   ]
  },
  {
   "cell_type": "markdown",
   "id": "asian-interstate",
   "metadata": {},
   "source": [
    "## Produits AGE"
   ]
  },
  {
   "cell_type": "code",
   "execution_count": null,
   "id": "commercial-martial",
   "metadata": {},
   "outputs": [],
   "source": [
    "age = dict()\n",
    "for key in df.AGE:\n",
    "    age[key] = None"
   ]
  },
  {
   "cell_type": "code",
   "execution_count": 44,
   "id": "eight-atlas",
   "metadata": {},
   "outputs": [
    {
     "ename": "AttributeError",
     "evalue": "'list' object has no attribute 'keys'",
     "output_type": "error",
     "traceback": [
      "\u001b[0;31m---------------------------------------------------------------------------\u001b[0m",
      "\u001b[0;31mAttributeError\u001b[0m                            Traceback (most recent call last)",
      "\u001b[0;32m<ipython-input-44-9a4f58776ad3>\u001b[0m in \u001b[0;36m<module>\u001b[0;34m\u001b[0m\n\u001b[0;32m----> 1\u001b[0;31m \u001b[0;32mfor\u001b[0m \u001b[0mkey\u001b[0m \u001b[0;32min\u001b[0m \u001b[0mage\u001b[0m\u001b[0;34m.\u001b[0m\u001b[0mkeys\u001b[0m\u001b[0;34m(\u001b[0m\u001b[0;34m)\u001b[0m\u001b[0;34m:\u001b[0m\u001b[0;34m\u001b[0m\u001b[0;34m\u001b[0m\u001b[0m\n\u001b[0m\u001b[1;32m      2\u001b[0m     \u001b[0mtemp\u001b[0m \u001b[0;34m=\u001b[0m \u001b[0mdf\u001b[0m\u001b[0;34m[\u001b[0m\u001b[0mdf\u001b[0m\u001b[0;34m[\u001b[0m\u001b[0;34m'AGE'\u001b[0m\u001b[0;34m]\u001b[0m \u001b[0;34m==\u001b[0m \u001b[0mkey\u001b[0m\u001b[0;34m]\u001b[0m\u001b[0;34m[\u001b[0m\u001b[0;34m'COMAX'\u001b[0m\u001b[0;34m]\u001b[0m\u001b[0;34m\u001b[0m\u001b[0;34m\u001b[0m\u001b[0m\n\u001b[1;32m      3\u001b[0m     \u001b[0mage\u001b[0m\u001b[0;34m[\u001b[0m\u001b[0mkey\u001b[0m\u001b[0;34m]\u001b[0m \u001b[0;34m=\u001b[0m \u001b[0mctr\u001b[0m\u001b[0;34m[\u001b[0m\u001b[0mctr\u001b[0m\u001b[0;34m[\u001b[0m\u001b[0;34m'COMAX'\u001b[0m\u001b[0;34m]\u001b[0m\u001b[0;34m.\u001b[0m\u001b[0misin\u001b[0m\u001b[0;34m(\u001b[0m\u001b[0mtemp\u001b[0m\u001b[0;34m)\u001b[0m\u001b[0;34m]\u001b[0m\u001b[0;34m[\u001b[0m\u001b[0;34m'COPRO'\u001b[0m\u001b[0;34m]\u001b[0m\u001b[0;34m.\u001b[0m\u001b[0mvalue_counts\u001b[0m\u001b[0;34m(\u001b[0m\u001b[0;34m)\u001b[0m\u001b[0;34m\u001b[0m\u001b[0;34m\u001b[0m\u001b[0m\n",
      "\u001b[0;31mAttributeError\u001b[0m: 'list' object has no attribute 'keys'"
     ]
    }
   ],
   "source": [
    "for key in age.keys():\n",
    "    temp = df[df['AGE'] == key]['COMAX']\n",
    "    age[key] = ctr[ctr['COMAX'].isin(temp)]['COPRO'].value_counts()"
   ]
  },
  {
   "cell_type": "code",
   "execution_count": 45,
   "id": "premium-syndicate",
   "metadata": {},
   "outputs": [
    {
     "data": {
      "text/plain": [
       "(19, 6635)"
      ]
     },
     "execution_count": 45,
     "metadata": {},
     "output_type": "execute_result"
    }
   ],
   "source": [
    "age[19]"
   ]
  },
  {
   "cell_type": "markdown",
   "id": "unlikely-dietary",
   "metadata": {},
   "source": [
    "## Produits INSEE "
   ]
  },
  {
   "cell_type": "code",
   "execution_count": 46,
   "id": "wired-client",
   "metadata": {},
   "outputs": [],
   "source": [
    "insee_prod = dict()\n",
    "for key in df.CTSCPI.unique():\n",
    "    insee_prod[key] = None"
   ]
  },
  {
   "cell_type": "code",
   "execution_count": 47,
   "id": "secret-optimization",
   "metadata": {},
   "outputs": [],
   "source": [
    "for key in insee_prod.keys():\n",
    "    temp = df[df['CTSCPI'] == key]['COMAX']\n",
    "    insee_prod[key] = ctr[ctr['COMAX'].isin(temp)]['COPRO'].value_counts()"
   ]
  },
  {
   "cell_type": "code",
   "execution_count": 48,
   "id": "general-delaware",
   "metadata": {},
   "outputs": [
    {
     "data": {
      "text/plain": [
       "812     1735471\n",
       "7652      61321\n",
       "160       59407\n",
       "727       55228\n",
       "954       49101\n",
       "100       37623\n",
       "65        37353\n",
       "4545      36536\n",
       "137       33858\n",
       "53        30489\n",
       "867       27476\n",
       "647       24383\n",
       "1         22929\n",
       "753       17791\n",
       "2076      16321\n",
       "600       15447\n",
       "646       13758\n",
       "7604       8171\n",
       "780        5788\n",
       "3          4588\n",
       "52         2172\n",
       "1752       2013\n",
       "411        1971\n",
       "807        1382\n",
       "8          1019\n",
       "1556        614\n",
       "7530        527\n",
       "2350        525\n",
       "823         459\n",
       "97          454\n",
       "1759        335\n",
       "2114        334\n",
       "820         331\n",
       "542         286\n",
       "658         228\n",
       "7532        224\n",
       "384         164\n",
       "Name: COPRO, dtype: int64"
      ]
     },
     "execution_count": 48,
     "metadata": {},
     "output_type": "execute_result"
    }
   ],
   "source": [
    "insee_prod[8400]"
   ]
  },
  {
   "cell_type": "markdown",
   "id": "industrial-publisher",
   "metadata": {},
   "source": [
    "## Produits CTPE"
   ]
  },
  {
   "cell_type": "code",
   "execution_count": 49,
   "id": "cultural-seating",
   "metadata": {},
   "outputs": [],
   "source": [
    "ctpe_1 = df_[df_['CTPE'] == 1]['COMAX']\n",
    "ctpe_2 = df_[df_['CTPE'] == 2]['COMAX']"
   ]
  },
  {
   "cell_type": "markdown",
   "id": "finite-roberts",
   "metadata": {},
   "source": [
    "### Categorie 1"
   ]
  },
  {
   "cell_type": "code",
   "execution_count": 50,
   "id": "seven-behalf",
   "metadata": {},
   "outputs": [],
   "source": [
    "ctpe_1_best = ctr[ctr['COMAX'].isin(ctpe_1)]['COPRO'].value_counts()"
   ]
  },
  {
   "cell_type": "code",
   "execution_count": 51,
   "id": "fatal-communication",
   "metadata": {},
   "outputs": [
    {
     "data": {
      "text/plain": [
       "812     14876899\n",
       "2076     2622035\n",
       "647       678841\n",
       "65        631110\n",
       "160       573577\n",
       "954       473959\n",
       "753       461984\n",
       "137       393736\n",
       "53        376871\n",
       "100       344540\n",
       "4545      301352\n",
       "646       275667\n",
       "1556      258901\n",
       "7530      239907\n",
       "823       234677\n",
       "3         234480\n",
       "7652      229300\n",
       "542       198968\n",
       "7604      171526\n",
       "1752      159224\n",
       "780       150977\n",
       "411       147568\n",
       "867       138085\n",
       "600       131437\n",
       "807       129931\n",
       "1759      114706\n",
       "52        113359\n",
       "2114      111458\n",
       "97        109303\n",
       "1         106498\n",
       "8         105017\n",
       "2350      103110\n",
       "727       102701\n",
       "7532       96493\n",
       "820        94788\n",
       "384        93076\n",
       "658        68763\n",
       "Name: COPRO, dtype: int64"
      ]
     },
     "execution_count": 51,
     "metadata": {},
     "output_type": "execute_result"
    }
   ],
   "source": [
    "ctpe_1_best"
   ]
  },
  {
   "cell_type": "markdown",
   "id": "sunrise-riding",
   "metadata": {},
   "source": [
    "### Categorie 2"
   ]
  },
  {
   "cell_type": "code",
   "execution_count": 52,
   "id": "sized-transfer",
   "metadata": {},
   "outputs": [],
   "source": [
    "ctpe_2_best = ctr[ctr['COMAX'].isin(ctpe_2)]['COPRO'].value_counts()"
   ]
  },
  {
   "cell_type": "code",
   "execution_count": 53,
   "id": "interstate-planet",
   "metadata": {},
   "outputs": [
    {
     "data": {
      "text/plain": [
       "812     2893722\n",
       "2076     413606\n",
       "647       88083\n",
       "658       65319\n",
       "160       52151\n",
       "646       52010\n",
       "65        49465\n",
       "780       47340\n",
       "753       44348\n",
       "7604      42997\n",
       "954       35686\n",
       "53        32909\n",
       "542       30029\n",
       "137       29156\n",
       "100       27081\n",
       "823       26209\n",
       "384       24999\n",
       "1556      23799\n",
       "4545      23422\n",
       "3         21168\n",
       "807       19201\n",
       "7530      17269\n",
       "1752      15514\n",
       "7652      13990\n",
       "820       12541\n",
       "600       12352\n",
       "97        12114\n",
       "1759      11978\n",
       "411       11839\n",
       "7532      11824\n",
       "2114      11660\n",
       "1          9841\n",
       "52         9496\n",
       "2350       8922\n",
       "8          6956\n",
       "867        5709\n",
       "727        2158\n",
       "Name: COPRO, dtype: int64"
      ]
     },
     "execution_count": 53,
     "metadata": {},
     "output_type": "execute_result"
    }
   ],
   "source": [
    "ctpe_2_best"
   ]
  },
  {
   "cell_type": "markdown",
   "id": "serial-scroll",
   "metadata": {},
   "source": [
    "## Produits CORELB"
   ]
  },
  {
   "cell_type": "code",
   "execution_count": 54,
   "id": "skilled-mission",
   "metadata": {},
   "outputs": [],
   "source": [
    "corelb_1 = df_[df_['CORELB'] == 1]['COMAX']\n",
    "corelb_4 = df_[df_['CORELB'] == 2]['COMAX']"
   ]
  },
  {
   "cell_type": "markdown",
   "id": "civilian-wagon",
   "metadata": {},
   "source": [
    "### Categorie 1"
   ]
  },
  {
   "cell_type": "code",
   "execution_count": 55,
   "id": "hungry-jungle",
   "metadata": {},
   "outputs": [
    {
     "data": {
      "text/plain": [
       "812     16913651\n",
       "2076     2757039\n",
       "647       738476\n",
       "65        629239\n",
       "160       576147\n",
       "954       482820\n",
       "753       462051\n",
       "137       404180\n",
       "53        388528\n",
       "100       357408\n",
       "4545      315552\n",
       "646       313999\n",
       "1556      268646\n",
       "823       249635\n",
       "7530      247613\n",
       "3         240183\n",
       "7652      228206\n",
       "542       215170\n",
       "7604      198337\n",
       "780       179596\n",
       "1752      167405\n",
       "411       154171\n",
       "807       142316\n",
       "600       137992\n",
       "867       137400\n",
       "1759      121190\n",
       "2114      117786\n",
       "52        117444\n",
       "97        116032\n",
       "658       113326\n",
       "1         109630\n",
       "2350      107478\n",
       "8         105119\n",
       "384       104787\n",
       "7532      103471\n",
       "820       102014\n",
       "727       100199\n",
       "Name: COPRO, dtype: int64"
      ]
     },
     "execution_count": 55,
     "metadata": {},
     "output_type": "execute_result"
    }
   ],
   "source": [
    "corelb_1_best = ctr[ctr['COMAX'].isin(corelb_1)]['COPRO'].value_counts()\n",
    "corelb_1_best"
   ]
  },
  {
   "cell_type": "markdown",
   "id": "incorporate-christian",
   "metadata": {},
   "source": [
    "### Categorie 4"
   ]
  },
  {
   "cell_type": "code",
   "execution_count": 56,
   "id": "roman-penguin",
   "metadata": {},
   "outputs": [
    {
     "data": {
      "text/plain": [
       "Series([], Name: COPRO, dtype: int64)"
      ]
     },
     "execution_count": 56,
     "metadata": {},
     "output_type": "execute_result"
    }
   ],
   "source": [
    "corelb_4_best = ctr[ctr['COMAX'].isin(corelb_4)]['COPRO'].value_counts()\n",
    "corelb_4_best"
   ]
  },
  {
   "cell_type": "code",
   "execution_count": null,
   "id": "functioning-toilet",
   "metadata": {},
   "outputs": [],
   "source": []
  }
 ],
 "metadata": {
  "kernelspec": {
   "display_name": "Python 3",
   "language": "python",
   "name": "python3"
  },
  "language_info": {
   "codemirror_mode": {
    "name": "ipython",
    "version": 3
   },
   "file_extension": ".py",
   "mimetype": "text/x-python",
   "name": "python",
   "nbconvert_exporter": "python",
   "pygments_lexer": "ipython3",
   "version": "3.6.8"
  }
 },
 "nbformat": 4,
 "nbformat_minor": 5
}
