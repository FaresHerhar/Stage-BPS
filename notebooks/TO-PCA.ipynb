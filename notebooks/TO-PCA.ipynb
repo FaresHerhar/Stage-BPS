{
 "cells": [
  {
   "cell_type": "code",
   "execution_count": 1,
   "id": "satellite-frank",
   "metadata": {},
   "outputs": [],
   "source": [
    "import pandas as pd\n",
    "import numpy as np\n",
    "import matplotlib.pyplot as plt"
   ]
  },
  {
   "cell_type": "code",
   "execution_count": 2,
   "id": "statutory-marijuana",
   "metadata": {},
   "outputs": [],
   "source": [
    "df = pd.read_csv('../cleaned-data/cleaned/contracts.csv', encoding='iso-8859-1', sep='\\t')"
   ]
  },
  {
   "cell_type": "code",
   "execution_count": 3,
   "id": "informative-outline",
   "metadata": {},
   "outputs": [
    {
     "name": "stdout",
     "output_type": "stream",
     "text": [
      "<class 'pandas.core.frame.DataFrame'>\n",
      "RangeIndex: 28685139 entries, 0 to 28685138\n",
      "Data columns (total 3 columns):\n",
      " #   Column  Dtype \n",
      "---  ------  ----- \n",
      " 0   COCO    object\n",
      " 1   COMAX   object\n",
      " 2   COPRO   int64 \n",
      "dtypes: int64(1), object(2)\n",
      "memory usage: 656.6+ MB\n"
     ]
    }
   ],
   "source": [
    "df.info()"
   ]
  },
  {
   "cell_type": "code",
   "execution_count": 5,
   "id": "hourly-fairy",
   "metadata": {},
   "outputs": [],
   "source": [
    "# how many each product was bought, for each contract\n",
    "df = df.groupby('COMAX')['COPRO'].value_counts()"
   ]
  },
  {
   "cell_type": "code",
   "execution_count": 6,
   "id": "regular-arena",
   "metadata": {},
   "outputs": [],
   "source": [
    "df = pd.DataFrame(df)"
   ]
  },
  {
   "cell_type": "code",
   "execution_count": 7,
   "id": "interested-variety",
   "metadata": {},
   "outputs": [
    {
     "name": "stdout",
     "output_type": "stream",
     "text": [
      "<class 'pandas.core.frame.DataFrame'>\n",
      "MultiIndex: 5270830 entries, ('00000226d8', 812) to ('ffffd39fd9', 4545)\n",
      "Data columns (total 1 columns):\n",
      " #   Column  Dtype\n",
      "---  ------  -----\n",
      " 0   COPRO   int64\n",
      "dtypes: int64(1)\n",
      "memory usage: 70.2+ MB\n"
     ]
    }
   ],
   "source": [
    "df.info()"
   ]
  },
  {
   "cell_type": "code",
   "execution_count": 8,
   "id": "selected-convention",
   "metadata": {},
   "outputs": [
    {
     "data": {
      "text/html": [
       "<div>\n",
       "<style scoped>\n",
       "    .dataframe tbody tr th:only-of-type {\n",
       "        vertical-align: middle;\n",
       "    }\n",
       "\n",
       "    .dataframe tbody tr th {\n",
       "        vertical-align: top;\n",
       "    }\n",
       "\n",
       "    .dataframe thead th {\n",
       "        text-align: right;\n",
       "    }\n",
       "</style>\n",
       "<table border=\"1\" class=\"dataframe\">\n",
       "  <thead>\n",
       "    <tr style=\"text-align: right;\">\n",
       "      <th></th>\n",
       "      <th></th>\n",
       "      <th>COPRO</th>\n",
       "    </tr>\n",
       "    <tr>\n",
       "      <th>COMAX</th>\n",
       "      <th>COPRO</th>\n",
       "      <th></th>\n",
       "    </tr>\n",
       "  </thead>\n",
       "  <tbody>\n",
       "    <tr>\n",
       "      <th rowspan=\"5\" valign=\"top\">00000226d8</th>\n",
       "      <th>812</th>\n",
       "      <td>14</td>\n",
       "    </tr>\n",
       "    <tr>\n",
       "      <th>1</th>\n",
       "      <td>1</td>\n",
       "    </tr>\n",
       "    <tr>\n",
       "      <th>727</th>\n",
       "      <td>1</td>\n",
       "    </tr>\n",
       "    <tr>\n",
       "      <th>954</th>\n",
       "      <td>1</td>\n",
       "    </tr>\n",
       "    <tr>\n",
       "      <th>4545</th>\n",
       "      <td>1</td>\n",
       "    </tr>\n",
       "  </tbody>\n",
       "</table>\n",
       "</div>"
      ],
      "text/plain": [
       "                  COPRO\n",
       "COMAX      COPRO       \n",
       "00000226d8 812       14\n",
       "           1          1\n",
       "           727        1\n",
       "           954        1\n",
       "           4545       1"
      ]
     },
     "execution_count": 8,
     "metadata": {},
     "output_type": "execute_result"
    }
   ],
   "source": [
    "df.head()"
   ]
  },
  {
   "cell_type": "code",
   "execution_count": 9,
   "id": "imperial-russia",
   "metadata": {},
   "outputs": [
    {
     "data": {
      "text/plain": [
       "MultiIndex([('00000226d8',  812),\n",
       "            ('00000226d8',    1),\n",
       "            ('00000226d8',  727),\n",
       "            ('00000226d8',  954),\n",
       "            ('00000226d8', 4545),\n",
       "            ('00005d4463',    3),\n",
       "            ('00005d4463',   53),\n",
       "            ('00005d4463',  137),\n",
       "            ('00005d4463',  812),\n",
       "            ('000093046d',  160),\n",
       "            ...\n",
       "            ('ffffd39fd9',  812),\n",
       "            ('ffffd39fd9',   53),\n",
       "            ('ffffd39fd9',   65),\n",
       "            ('ffffd39fd9',    3),\n",
       "            ('ffffd39fd9',  100),\n",
       "            ('ffffd39fd9',  160),\n",
       "            ('ffffd39fd9',  753),\n",
       "            ('ffffd39fd9',  780),\n",
       "            ('ffffd39fd9',  954),\n",
       "            ('ffffd39fd9', 4545)],\n",
       "           names=['COMAX', 'COPRO'], length=5270830)"
      ]
     },
     "execution_count": 9,
     "metadata": {},
     "output_type": "execute_result"
    }
   ],
   "source": [
    "df.index"
   ]
  },
  {
   "cell_type": "code",
   "execution_count": 10,
   "id": "bizarre-colony",
   "metadata": {},
   "outputs": [
    {
     "data": {
      "text/plain": [
       "array([[14],\n",
       "       [ 1],\n",
       "       [ 1],\n",
       "       ...,\n",
       "       [ 1],\n",
       "       [ 1],\n",
       "       [ 1]])"
      ]
     },
     "execution_count": 10,
     "metadata": {},
     "output_type": "execute_result"
    }
   ],
   "source": [
    "df.values"
   ]
  },
  {
   "cell_type": "markdown",
   "id": "dramatic-veteran",
   "metadata": {},
   "source": [
    "## Lokking to transpose the data to calculate the PCA values, but couldn't do it in direct way, therefore I had to do all the following JOB"
   ]
  },
  {
   "cell_type": "code",
   "execution_count": 11,
   "id": "exact-giving",
   "metadata": {},
   "outputs": [],
   "source": [
    "# seperate the data\n",
    "COMAX, COPRO = [i[0] for i in df.index], [i[1] for i in df.index]\n",
    "COUNTS = [i[0] for i in df.values]\n",
    "\n",
    "# get the list of the products\n",
    "PRODUCTS = set(COPRO)"
   ]
  },
  {
   "cell_type": "code",
   "execution_count": 12,
   "id": "contained-incidence",
   "metadata": {},
   "outputs": [],
   "source": [
    "group = list(zip(COMAX, COPRO, COUNTS))"
   ]
  },
  {
   "cell_type": "code",
   "execution_count": 14,
   "id": "touched-birthday",
   "metadata": {},
   "outputs": [
    {
     "data": {
      "text/plain": [
       "[('00000226d8', 812, 14),\n",
       " ('00000226d8', 1, 1),\n",
       " ('00000226d8', 727, 1),\n",
       " ('00000226d8', 954, 1),\n",
       " ('00000226d8', 4545, 1),\n",
       " ('00005d4463', 3, 1),\n",
       " ('00005d4463', 53, 1),\n",
       " ('00005d4463', 137, 1),\n",
       " ('00005d4463', 812, 1),\n",
       " ('000093046d', 160, 1)]"
      ]
     },
     "execution_count": 14,
     "metadata": {},
     "output_type": "execute_result"
    }
   ],
   "source": [
    "group[:10]"
   ]
  },
  {
   "cell_type": "code",
   "execution_count": 15,
   "id": "straight-carpet",
   "metadata": {},
   "outputs": [],
   "source": [
    "# Make it a data row look a like\n",
    "def clit(group):\n",
    "    lol = len(group)\n",
    "    count = 1\n",
    "    out = dict()\n",
    "    \n",
    "    curr = group[0][0]\n",
    "    out[curr] = [list(group[0][1:])]\n",
    "    \n",
    "    while count < lol:\n",
    "        if group[count][0] == curr:\n",
    "            out[curr].append(list(group[count][1:]))\n",
    "        else:\n",
    "            curr = group[count][0]\n",
    "            out[curr] = [list(group[count][1:])]\n",
    "            \n",
    "        count += 1\n",
    "    \n",
    "    return out"
   ]
  },
  {
   "cell_type": "code",
   "execution_count": 16,
   "id": "adopted-renewal",
   "metadata": {},
   "outputs": [
    {
     "data": {
      "text/plain": [
       "[[812, 14], [1, 1], [727, 1], [954, 1], [4545, 1]]"
      ]
     },
     "execution_count": 16,
     "metadata": {},
     "output_type": "execute_result"
    }
   ],
   "source": [
    "out = clit(group)\n",
    "out['00000226d8']"
   ]
  },
  {
   "cell_type": "code",
   "execution_count": 17,
   "id": "satellite-pizza",
   "metadata": {},
   "outputs": [],
   "source": [
    "# compelete the data about the missing products, aka their value is equal to 0\n",
    "def complete(out, PRODUCTS):\n",
    "    for key in out.keys():\n",
    "        local = [i[0] for i in out[key]]\n",
    "        nice = [i for i in PRODUCTS if i not in local]\n",
    "\n",
    "        for i in nice:\n",
    "            out[key].append([i, 0])\n",
    "\n",
    "    return out"
   ]
  },
  {
   "cell_type": "code",
   "execution_count": 18,
   "id": "ancient-cruise",
   "metadata": {},
   "outputs": [
    {
     "data": {
      "text/plain": [
       "[[812, 14],\n",
       " [1, 1],\n",
       " [727, 1],\n",
       " [954, 1],\n",
       " [4545, 1],\n",
       " [384, 0],\n",
       " [3, 0],\n",
       " [646, 0],\n",
       " [647, 0],\n",
       " [8, 0],\n",
       " [137, 0],\n",
       " [780, 0],\n",
       " [658, 0],\n",
       " [1556, 0],\n",
       " [411, 0],\n",
       " [2076, 0],\n",
       " [542, 0],\n",
       " [160, 0],\n",
       " [807, 0],\n",
       " [2350, 0],\n",
       " [7604, 0],\n",
       " [53, 0],\n",
       " [52, 0],\n",
       " [823, 0],\n",
       " [820, 0],\n",
       " [65, 0],\n",
       " [2114, 0],\n",
       " [1752, 0],\n",
       " [600, 0],\n",
       " [1759, 0],\n",
       " [97, 0],\n",
       " [867, 0],\n",
       " [100, 0],\n",
       " [7652, 0],\n",
       " [7530, 0],\n",
       " [7532, 0],\n",
       " [753, 0]]"
      ]
     },
     "execution_count": 18,
     "metadata": {},
     "output_type": "execute_result"
    }
   ],
   "source": [
    "# The work is done\n",
    "out = complete(out, PRODUCTS)\n",
    "out['00000226d8']"
   ]
  },
  {
   "cell_type": "code",
   "execution_count": 19,
   "id": "mineral-definition",
   "metadata": {},
   "outputs": [],
   "source": [
    "# to insure we've the same products order, we'll sort the lists\n",
    "def sort_out(out):\n",
    "    for key in out.keys():\n",
    "        out[key].sort(key=lambda x: x[0])\n",
    "\n",
    "    return out"
   ]
  },
  {
   "cell_type": "code",
   "execution_count": 20,
   "id": "bulgarian-concern",
   "metadata": {},
   "outputs": [
    {
     "data": {
      "text/plain": [
       "[[1, 1],\n",
       " [3, 0],\n",
       " [8, 0],\n",
       " [52, 0],\n",
       " [53, 0],\n",
       " [65, 0],\n",
       " [97, 0],\n",
       " [100, 0],\n",
       " [137, 0],\n",
       " [160, 0],\n",
       " [384, 0],\n",
       " [411, 0],\n",
       " [542, 0],\n",
       " [600, 0],\n",
       " [646, 0],\n",
       " [647, 0],\n",
       " [658, 0],\n",
       " [727, 1],\n",
       " [753, 0],\n",
       " [780, 0],\n",
       " [807, 0],\n",
       " [812, 14],\n",
       " [820, 0],\n",
       " [823, 0],\n",
       " [867, 0],\n",
       " [954, 1],\n",
       " [1556, 0],\n",
       " [1752, 0],\n",
       " [1759, 0],\n",
       " [2076, 0],\n",
       " [2114, 0],\n",
       " [2350, 0],\n",
       " [4545, 1],\n",
       " [7530, 0],\n",
       " [7532, 0],\n",
       " [7604, 0],\n",
       " [7652, 0]]"
      ]
     },
     "execution_count": 20,
     "metadata": {},
     "output_type": "execute_result"
    }
   ],
   "source": [
    "# Done\n",
    "out = sort_out(out)\n",
    "out['00000226d8']"
   ]
  },
  {
   "cell_type": "code",
   "execution_count": 21,
   "id": "immune-instrument",
   "metadata": {},
   "outputs": [],
   "source": [
    "# convert the products numbers to str\n",
    "def prod_to_str(out):\n",
    "    for key in out.keys():\n",
    "        for new in out[key]:\n",
    "            lol = str(new[0])\n",
    "            new[0] = '0'*(5 - len(lol)) + lol\n",
    "        \n",
    "    return out"
   ]
  },
  {
   "cell_type": "code",
   "execution_count": 22,
   "id": "foreign-calculator",
   "metadata": {},
   "outputs": [
    {
     "data": {
      "text/plain": [
       "[['00001', 1],\n",
       " ['00003', 0],\n",
       " ['00008', 0],\n",
       " ['00052', 0],\n",
       " ['00053', 0],\n",
       " ['00065', 0],\n",
       " ['00097', 0],\n",
       " ['00100', 0],\n",
       " ['00137', 0],\n",
       " ['00160', 0],\n",
       " ['00384', 0],\n",
       " ['00411', 0],\n",
       " ['00542', 0],\n",
       " ['00600', 0],\n",
       " ['00646', 0],\n",
       " ['00647', 0],\n",
       " ['00658', 0],\n",
       " ['00727', 1],\n",
       " ['00753', 0],\n",
       " ['00780', 0],\n",
       " ['00807', 0],\n",
       " ['00812', 14],\n",
       " ['00820', 0],\n",
       " ['00823', 0],\n",
       " ['00867', 0],\n",
       " ['00954', 1],\n",
       " ['01556', 0],\n",
       " ['01752', 0],\n",
       " ['01759', 0],\n",
       " ['02076', 0],\n",
       " ['02114', 0],\n",
       " ['02350', 0],\n",
       " ['04545', 1],\n",
       " ['07530', 0],\n",
       " ['07532', 0],\n",
       " ['07604', 0],\n",
       " ['07652', 0]]"
      ]
     },
     "execution_count": 22,
     "metadata": {},
     "output_type": "execute_result"
    }
   ],
   "source": [
    "# Done\n",
    "out = prod_to_str(out)\n",
    "out['00000226d8']"
   ]
  },
  {
   "cell_type": "markdown",
   "id": "civil-polymer",
   "metadata": {},
   "source": [
    "## Now reassemnling the data but the products as colums as well"
   ]
  },
  {
   "cell_type": "code",
   "execution_count": 23,
   "id": "faced-valley",
   "metadata": {},
   "outputs": [
    {
     "data": {
      "text/plain": [
       "('00000226d8', 'ffffd39fd9')"
      ]
     },
     "execution_count": 23,
     "metadata": {},
     "output_type": "execute_result"
    }
   ],
   "source": [
    "# Get the keys\n",
    "COMAX_ = list(out.keys())\n",
    "COMAX_[0], COMAX_[-1]"
   ]
  },
  {
   "cell_type": "code",
   "execution_count": 24,
   "id": "single-center",
   "metadata": {},
   "outputs": [],
   "source": [
    "# Products, already converted them to strings\n",
    "PRODUCTS = [i[0] for i in out['00000226d8']]"
   ]
  },
  {
   "cell_type": "code",
   "execution_count": 25,
   "id": "nasty-international",
   "metadata": {},
   "outputs": [],
   "source": [
    "data = dict()\n",
    "data['COMAX'] = COMAX_\n",
    "for i in PRODUCTS:\n",
    "    data[i] = list()"
   ]
  },
  {
   "cell_type": "code",
   "execution_count": 26,
   "id": "heavy-helping",
   "metadata": {},
   "outputs": [
    {
     "data": {
      "text/plain": [
       "dict_keys(['COMAX', '00001', '00003', '00008', '00052', '00053', '00065', '00097', '00100', '00137', '00160', '00384', '00411', '00542', '00600', '00646', '00647', '00658', '00727', '00753', '00780', '00807', '00812', '00820', '00823', '00867', '00954', '01556', '01752', '01759', '02076', '02114', '02350', '04545', '07530', '07532', '07604', '07652'])"
      ]
     },
     "execution_count": 26,
     "metadata": {},
     "output_type": "execute_result"
    }
   ],
   "source": [
    "data.keys()"
   ]
  },
  {
   "cell_type": "code",
   "execution_count": 27,
   "id": "brave-georgia",
   "metadata": {},
   "outputs": [],
   "source": [
    "# reassamble all the products values\n",
    "def done(data, out):\n",
    "    for key in out.keys():\n",
    "        for val in out[key]:\n",
    "            data[val[0]].append(val[1])\n",
    "        \n",
    "    return data"
   ]
  },
  {
   "cell_type": "code",
   "execution_count": 28,
   "id": "bigger-recipient",
   "metadata": {},
   "outputs": [],
   "source": [
    "data = done(data, out)"
   ]
  },
  {
   "cell_type": "code",
   "execution_count": 29,
   "id": "serious-bosnia",
   "metadata": {},
   "outputs": [],
   "source": [
    "data = pd.DataFrame(data)"
   ]
  },
  {
   "cell_type": "code",
   "execution_count": 30,
   "id": "elementary-captain",
   "metadata": {},
   "outputs": [],
   "source": [
    "del out"
   ]
  },
  {
   "cell_type": "code",
   "execution_count": 31,
   "id": "junior-burst",
   "metadata": {},
   "outputs": [
    {
     "data": {
      "text/html": [
       "<div>\n",
       "<style scoped>\n",
       "    .dataframe tbody tr th:only-of-type {\n",
       "        vertical-align: middle;\n",
       "    }\n",
       "\n",
       "    .dataframe tbody tr th {\n",
       "        vertical-align: top;\n",
       "    }\n",
       "\n",
       "    .dataframe thead th {\n",
       "        text-align: right;\n",
       "    }\n",
       "</style>\n",
       "<table border=\"1\" class=\"dataframe\">\n",
       "  <thead>\n",
       "    <tr style=\"text-align: right;\">\n",
       "      <th></th>\n",
       "      <th>COMAX</th>\n",
       "      <th>00001</th>\n",
       "      <th>00003</th>\n",
       "      <th>00008</th>\n",
       "      <th>00052</th>\n",
       "      <th>00053</th>\n",
       "      <th>00065</th>\n",
       "      <th>00097</th>\n",
       "      <th>00100</th>\n",
       "      <th>00137</th>\n",
       "      <th>...</th>\n",
       "      <th>01752</th>\n",
       "      <th>01759</th>\n",
       "      <th>02076</th>\n",
       "      <th>02114</th>\n",
       "      <th>02350</th>\n",
       "      <th>04545</th>\n",
       "      <th>07530</th>\n",
       "      <th>07532</th>\n",
       "      <th>07604</th>\n",
       "      <th>07652</th>\n",
       "    </tr>\n",
       "  </thead>\n",
       "  <tbody>\n",
       "    <tr>\n",
       "      <th>0</th>\n",
       "      <td>00000226d8</td>\n",
       "      <td>1</td>\n",
       "      <td>0</td>\n",
       "      <td>0</td>\n",
       "      <td>0</td>\n",
       "      <td>0</td>\n",
       "      <td>0</td>\n",
       "      <td>0</td>\n",
       "      <td>0</td>\n",
       "      <td>0</td>\n",
       "      <td>...</td>\n",
       "      <td>0</td>\n",
       "      <td>0</td>\n",
       "      <td>0</td>\n",
       "      <td>0</td>\n",
       "      <td>0</td>\n",
       "      <td>1</td>\n",
       "      <td>0</td>\n",
       "      <td>0</td>\n",
       "      <td>0</td>\n",
       "      <td>0</td>\n",
       "    </tr>\n",
       "    <tr>\n",
       "      <th>1</th>\n",
       "      <td>00005d4463</td>\n",
       "      <td>0</td>\n",
       "      <td>1</td>\n",
       "      <td>0</td>\n",
       "      <td>0</td>\n",
       "      <td>1</td>\n",
       "      <td>0</td>\n",
       "      <td>0</td>\n",
       "      <td>0</td>\n",
       "      <td>1</td>\n",
       "      <td>...</td>\n",
       "      <td>0</td>\n",
       "      <td>0</td>\n",
       "      <td>0</td>\n",
       "      <td>0</td>\n",
       "      <td>0</td>\n",
       "      <td>0</td>\n",
       "      <td>0</td>\n",
       "      <td>0</td>\n",
       "      <td>0</td>\n",
       "      <td>0</td>\n",
       "    </tr>\n",
       "    <tr>\n",
       "      <th>2</th>\n",
       "      <td>000093046d</td>\n",
       "      <td>0</td>\n",
       "      <td>0</td>\n",
       "      <td>0</td>\n",
       "      <td>0</td>\n",
       "      <td>0</td>\n",
       "      <td>0</td>\n",
       "      <td>0</td>\n",
       "      <td>0</td>\n",
       "      <td>0</td>\n",
       "      <td>...</td>\n",
       "      <td>0</td>\n",
       "      <td>0</td>\n",
       "      <td>0</td>\n",
       "      <td>0</td>\n",
       "      <td>0</td>\n",
       "      <td>0</td>\n",
       "      <td>0</td>\n",
       "      <td>0</td>\n",
       "      <td>0</td>\n",
       "      <td>0</td>\n",
       "    </tr>\n",
       "    <tr>\n",
       "      <th>3</th>\n",
       "      <td>0000b441aa</td>\n",
       "      <td>0</td>\n",
       "      <td>0</td>\n",
       "      <td>0</td>\n",
       "      <td>0</td>\n",
       "      <td>1</td>\n",
       "      <td>3</td>\n",
       "      <td>0</td>\n",
       "      <td>1</td>\n",
       "      <td>1</td>\n",
       "      <td>...</td>\n",
       "      <td>0</td>\n",
       "      <td>0</td>\n",
       "      <td>20</td>\n",
       "      <td>0</td>\n",
       "      <td>0</td>\n",
       "      <td>0</td>\n",
       "      <td>0</td>\n",
       "      <td>0</td>\n",
       "      <td>0</td>\n",
       "      <td>0</td>\n",
       "    </tr>\n",
       "    <tr>\n",
       "      <th>4</th>\n",
       "      <td>0000cf2c88</td>\n",
       "      <td>0</td>\n",
       "      <td>2</td>\n",
       "      <td>0</td>\n",
       "      <td>0</td>\n",
       "      <td>6</td>\n",
       "      <td>3</td>\n",
       "      <td>2</td>\n",
       "      <td>2</td>\n",
       "      <td>3</td>\n",
       "      <td>...</td>\n",
       "      <td>2</td>\n",
       "      <td>2</td>\n",
       "      <td>19</td>\n",
       "      <td>2</td>\n",
       "      <td>0</td>\n",
       "      <td>2</td>\n",
       "      <td>3</td>\n",
       "      <td>0</td>\n",
       "      <td>0</td>\n",
       "      <td>2</td>\n",
       "    </tr>\n",
       "  </tbody>\n",
       "</table>\n",
       "<p>5 rows × 38 columns</p>\n",
       "</div>"
      ],
      "text/plain": [
       "        COMAX  00001  00003  00008  00052  00053  00065  00097  00100  00137  \\\n",
       "0  00000226d8      1      0      0      0      0      0      0      0      0   \n",
       "1  00005d4463      0      1      0      0      1      0      0      0      1   \n",
       "2  000093046d      0      0      0      0      0      0      0      0      0   \n",
       "3  0000b441aa      0      0      0      0      1      3      0      1      1   \n",
       "4  0000cf2c88      0      2      0      0      6      3      2      2      3   \n",
       "\n",
       "   ...  01752  01759  02076  02114  02350  04545  07530  07532  07604  07652  \n",
       "0  ...      0      0      0      0      0      1      0      0      0      0  \n",
       "1  ...      0      0      0      0      0      0      0      0      0      0  \n",
       "2  ...      0      0      0      0      0      0      0      0      0      0  \n",
       "3  ...      0      0     20      0      0      0      0      0      0      0  \n",
       "4  ...      2      2     19      2      0      2      3      0      0      2  \n",
       "\n",
       "[5 rows x 38 columns]"
      ]
     },
     "execution_count": 31,
     "metadata": {},
     "output_type": "execute_result"
    }
   ],
   "source": [
    "data.head()"
   ]
  },
  {
   "cell_type": "code",
   "execution_count": 32,
   "id": "happy-julian",
   "metadata": {},
   "outputs": [
    {
     "name": "stdout",
     "output_type": "stream",
     "text": [
      "<class 'pandas.core.frame.DataFrame'>\n",
      "RangeIndex: 637143 entries, 0 to 637142\n",
      "Data columns (total 38 columns):\n",
      " #   Column  Non-Null Count   Dtype \n",
      "---  ------  --------------   ----- \n",
      " 0   COMAX   637143 non-null  object\n",
      " 1   00001   637143 non-null  int64 \n",
      " 2   00003   637143 non-null  int64 \n",
      " 3   00008   637143 non-null  int64 \n",
      " 4   00052   637143 non-null  int64 \n",
      " 5   00053   637143 non-null  int64 \n",
      " 6   00065   637143 non-null  int64 \n",
      " 7   00097   637143 non-null  int64 \n",
      " 8   00100   637143 non-null  int64 \n",
      " 9   00137   637143 non-null  int64 \n",
      " 10  00160   637143 non-null  int64 \n",
      " 11  00384   637143 non-null  int64 \n",
      " 12  00411   637143 non-null  int64 \n",
      " 13  00542   637143 non-null  int64 \n",
      " 14  00600   637143 non-null  int64 \n",
      " 15  00646   637143 non-null  int64 \n",
      " 16  00647   637143 non-null  int64 \n",
      " 17  00658   637143 non-null  int64 \n",
      " 18  00727   637143 non-null  int64 \n",
      " 19  00753   637143 non-null  int64 \n",
      " 20  00780   637143 non-null  int64 \n",
      " 21  00807   637143 non-null  int64 \n",
      " 22  00812   637143 non-null  int64 \n",
      " 23  00820   637143 non-null  int64 \n",
      " 24  00823   637143 non-null  int64 \n",
      " 25  00867   637143 non-null  int64 \n",
      " 26  00954   637143 non-null  int64 \n",
      " 27  01556   637143 non-null  int64 \n",
      " 28  01752   637143 non-null  int64 \n",
      " 29  01759   637143 non-null  int64 \n",
      " 30  02076   637143 non-null  int64 \n",
      " 31  02114   637143 non-null  int64 \n",
      " 32  02350   637143 non-null  int64 \n",
      " 33  04545   637143 non-null  int64 \n",
      " 34  07530   637143 non-null  int64 \n",
      " 35  07532   637143 non-null  int64 \n",
      " 36  07604   637143 non-null  int64 \n",
      " 37  07652   637143 non-null  int64 \n",
      "dtypes: int64(37), object(1)\n",
      "memory usage: 184.7+ MB\n"
     ]
    }
   ],
   "source": [
    "data.info()"
   ]
  },
  {
   "cell_type": "code",
   "execution_count": 33,
   "id": "racial-connecticut",
   "metadata": {},
   "outputs": [
    {
     "data": {
      "text/plain": [
       "(637143, 38)"
      ]
     },
     "execution_count": 33,
     "metadata": {},
     "output_type": "execute_result"
    }
   ],
   "source": [
    "data.shape"
   ]
  },
  {
   "cell_type": "code",
   "execution_count": 34,
   "id": "rubber-review",
   "metadata": {},
   "outputs": [
    {
     "data": {
      "text/plain": [
       "37"
      ]
     },
     "execution_count": 34,
     "metadata": {},
     "output_type": "execute_result"
    }
   ],
   "source": [
    "len(PRODUCTS)"
   ]
  },
  {
   "cell_type": "markdown",
   "id": "separated-alert",
   "metadata": {},
   "source": [
    "## Pour avoir deduire le nombre de PCA a prendre"
   ]
  },
  {
   "cell_type": "code",
   "execution_count": 35,
   "id": "vital-native",
   "metadata": {},
   "outputs": [],
   "source": [
    "from sklearn.preprocessing import StandardScaler\n",
    "from sklearn.decomposition import PCA"
   ]
  },
  {
   "cell_type": "code",
   "execution_count": 36,
   "id": "liberal-hamilton",
   "metadata": {},
   "outputs": [],
   "source": [
    "x = data.loc[:, PRODUCTS].values"
   ]
  },
  {
   "cell_type": "code",
   "execution_count": 37,
   "id": "stock-production",
   "metadata": {},
   "outputs": [],
   "source": [
    "x = StandardScaler().fit_transform(x)"
   ]
  },
  {
   "cell_type": "code",
   "execution_count": 38,
   "id": "standing-festival",
   "metadata": {},
   "outputs": [],
   "source": [
    "pca = PCA().fit(x)"
   ]
  },
  {
   "cell_type": "code",
   "execution_count": 39,
   "id": "diagnostic-prince",
   "metadata": {},
   "outputs": [
    {
     "data": {
      "image/png": "[encoded data removed]",
      "text/plain": [
       "<Figure size 432x288 with 1 Axes>"
      ]
     },
     "metadata": {
      "needs_background": "light"
     },
     "output_type": "display_data"
    }
   ],
   "source": [
    "fig, ax = plt.subplots()\n",
    "xi = np.arange(1, len(PRODUCTS) + 1, step=1)\n",
    "y = np.cumsum(pca.explained_variance_ratio_)\n",
    "\n",
    "plt.ylim(0.0,1.1)\n",
    "plt.plot(xi, y, marker='o', linestyle='--', color='b')\n",
    "\n",
    "plt.xlabel('Number of Components')\n",
    "plt.ylabel('Cumulative variance (%)')\n",
    "plt.title('The number of components needed to explain variance')\n",
    "\n",
    "plt.axhline(y=0.95, color='r', linestyle='-')\n",
    "plt.text(0.5, 0.85, '95% cut-off threshold', color = 'red', fontsize=16)\n",
    "\n",
    "ax.grid(axis='x')\n",
    "plt.show()"
   ]
  },
  {
   "cell_type": "code",
   "execution_count": 40,
   "id": "cathedral-removal",
   "metadata": {},
   "outputs": [],
   "source": [
    "# in our case we need to take 31 component\n",
    "pca = PCA(n_components = 37)"
   ]
  },
  {
   "cell_type": "code",
   "execution_count": 41,
   "id": "leading-coverage",
   "metadata": {},
   "outputs": [],
   "source": [
    "principalComponents = pca.fit_transform(x)"
   ]
  },
  {
   "cell_type": "code",
   "execution_count": 42,
   "id": "abroad-edwards",
   "metadata": {},
   "outputs": [],
   "source": [
    "# since we have 10 products we already know that it will be 10 PCA\n",
    "principalDf = pd.DataFrame(data = principalComponents\n",
    "             , columns = ['PCA-{}'.format(i) for i in range(1, 38)])"
   ]
  },
  {
   "cell_type": "code",
   "execution_count": 43,
   "id": "exceptional-bumper",
   "metadata": {},
   "outputs": [
    {
     "data": {
      "text/html": [
       "<div>\n",
       "<style scoped>\n",
       "    .dataframe tbody tr th:only-of-type {\n",
       "        vertical-align: middle;\n",
       "    }\n",
       "\n",
       "    .dataframe tbody tr th {\n",
       "        vertical-align: top;\n",
       "    }\n",
       "\n",
       "    .dataframe thead th {\n",
       "        text-align: right;\n",
       "    }\n",
       "</style>\n",
       "<table border=\"1\" class=\"dataframe\">\n",
       "  <thead>\n",
       "    <tr style=\"text-align: right;\">\n",
       "      <th></th>\n",
       "      <th>PCA-1</th>\n",
       "      <th>PCA-2</th>\n",
       "      <th>PCA-3</th>\n",
       "      <th>PCA-4</th>\n",
       "      <th>PCA-5</th>\n",
       "      <th>PCA-6</th>\n",
       "      <th>PCA-7</th>\n",
       "      <th>PCA-8</th>\n",
       "      <th>PCA-9</th>\n",
       "      <th>PCA-10</th>\n",
       "      <th>...</th>\n",
       "      <th>PCA-28</th>\n",
       "      <th>PCA-29</th>\n",
       "      <th>PCA-30</th>\n",
       "      <th>PCA-31</th>\n",
       "      <th>PCA-32</th>\n",
       "      <th>PCA-33</th>\n",
       "      <th>PCA-34</th>\n",
       "      <th>PCA-35</th>\n",
       "      <th>PCA-36</th>\n",
       "      <th>PCA-37</th>\n",
       "    </tr>\n",
       "  </thead>\n",
       "  <tbody>\n",
       "    <tr>\n",
       "      <th>0</th>\n",
       "      <td>-1.979298</td>\n",
       "      <td>0.605037</td>\n",
       "      <td>-0.347049</td>\n",
       "      <td>0.343918</td>\n",
       "      <td>-0.206917</td>\n",
       "      <td>0.643579</td>\n",
       "      <td>-0.722953</td>\n",
       "      <td>-0.453402</td>\n",
       "      <td>0.484396</td>\n",
       "      <td>-0.740923</td>\n",
       "      <td>...</td>\n",
       "      <td>-0.029735</td>\n",
       "      <td>-0.666880</td>\n",
       "      <td>0.062032</td>\n",
       "      <td>-0.134632</td>\n",
       "      <td>-0.175090</td>\n",
       "      <td>-0.333600</td>\n",
       "      <td>0.024415</td>\n",
       "      <td>-0.320194</td>\n",
       "      <td>0.433301</td>\n",
       "      <td>-0.001820</td>\n",
       "    </tr>\n",
       "    <tr>\n",
       "      <th>1</th>\n",
       "      <td>-2.052425</td>\n",
       "      <td>-0.648610</td>\n",
       "      <td>0.189774</td>\n",
       "      <td>-0.327968</td>\n",
       "      <td>-0.019448</td>\n",
       "      <td>-0.042553</td>\n",
       "      <td>0.420590</td>\n",
       "      <td>0.100898</td>\n",
       "      <td>-0.456490</td>\n",
       "      <td>-0.054549</td>\n",
       "      <td>...</td>\n",
       "      <td>0.110073</td>\n",
       "      <td>-0.097745</td>\n",
       "      <td>0.071935</td>\n",
       "      <td>0.142639</td>\n",
       "      <td>-0.163173</td>\n",
       "      <td>0.094262</td>\n",
       "      <td>0.016538</td>\n",
       "      <td>-0.077903</td>\n",
       "      <td>-0.045103</td>\n",
       "      <td>0.006125</td>\n",
       "    </tr>\n",
       "    <tr>\n",
       "      <th>2</th>\n",
       "      <td>-2.335974</td>\n",
       "      <td>-0.513563</td>\n",
       "      <td>0.431780</td>\n",
       "      <td>0.370108</td>\n",
       "      <td>0.025497</td>\n",
       "      <td>-0.453942</td>\n",
       "      <td>-0.293095</td>\n",
       "      <td>-0.077861</td>\n",
       "      <td>-0.052114</td>\n",
       "      <td>0.280156</td>\n",
       "      <td>...</td>\n",
       "      <td>-0.092531</td>\n",
       "      <td>0.234044</td>\n",
       "      <td>-0.124102</td>\n",
       "      <td>0.032151</td>\n",
       "      <td>0.098365</td>\n",
       "      <td>0.040162</td>\n",
       "      <td>0.290416</td>\n",
       "      <td>-0.044333</td>\n",
       "      <td>-0.134802</td>\n",
       "      <td>0.002664</td>\n",
       "    </tr>\n",
       "    <tr>\n",
       "      <th>3</th>\n",
       "      <td>0.312545</td>\n",
       "      <td>0.396290</td>\n",
       "      <td>-0.779005</td>\n",
       "      <td>0.480261</td>\n",
       "      <td>0.802417</td>\n",
       "      <td>0.197184</td>\n",
       "      <td>1.107524</td>\n",
       "      <td>0.584352</td>\n",
       "      <td>0.544424</td>\n",
       "      <td>0.597105</td>\n",
       "      <td>...</td>\n",
       "      <td>0.049952</td>\n",
       "      <td>-0.465177</td>\n",
       "      <td>0.659723</td>\n",
       "      <td>0.847133</td>\n",
       "      <td>0.138849</td>\n",
       "      <td>-0.397856</td>\n",
       "      <td>-0.682668</td>\n",
       "      <td>0.597681</td>\n",
       "      <td>-0.232180</td>\n",
       "      <td>0.002856</td>\n",
       "    </tr>\n",
       "    <tr>\n",
       "      <th>4</th>\n",
       "      <td>8.031301</td>\n",
       "      <td>-2.713182</td>\n",
       "      <td>-2.302506</td>\n",
       "      <td>-0.975854</td>\n",
       "      <td>-1.239608</td>\n",
       "      <td>1.045468</td>\n",
       "      <td>-1.029064</td>\n",
       "      <td>-0.674694</td>\n",
       "      <td>-1.293753</td>\n",
       "      <td>0.053422</td>\n",
       "      <td>...</td>\n",
       "      <td>1.848692</td>\n",
       "      <td>-0.716391</td>\n",
       "      <td>-0.486786</td>\n",
       "      <td>0.664928</td>\n",
       "      <td>-0.858845</td>\n",
       "      <td>-0.287044</td>\n",
       "      <td>1.450142</td>\n",
       "      <td>0.974145</td>\n",
       "      <td>-0.336388</td>\n",
       "      <td>0.056297</td>\n",
       "    </tr>\n",
       "    <tr>\n",
       "      <th>...</th>\n",
       "      <td>...</td>\n",
       "      <td>...</td>\n",
       "      <td>...</td>\n",
       "      <td>...</td>\n",
       "      <td>...</td>\n",
       "      <td>...</td>\n",
       "      <td>...</td>\n",
       "      <td>...</td>\n",
       "      <td>...</td>\n",
       "      <td>...</td>\n",
       "      <td>...</td>\n",
       "      <td>...</td>\n",
       "      <td>...</td>\n",
       "      <td>...</td>\n",
       "      <td>...</td>\n",
       "      <td>...</td>\n",
       "      <td>...</td>\n",
       "      <td>...</td>\n",
       "      <td>...</td>\n",
       "      <td>...</td>\n",
       "      <td>...</td>\n",
       "    </tr>\n",
       "    <tr>\n",
       "      <th>637138</th>\n",
       "      <td>-2.204475</td>\n",
       "      <td>-0.775799</td>\n",
       "      <td>0.456335</td>\n",
       "      <td>-0.644344</td>\n",
       "      <td>0.366521</td>\n",
       "      <td>0.409165</td>\n",
       "      <td>0.517144</td>\n",
       "      <td>-0.008711</td>\n",
       "      <td>0.122222</td>\n",
       "      <td>0.075493</td>\n",
       "      <td>...</td>\n",
       "      <td>0.098914</td>\n",
       "      <td>0.035867</td>\n",
       "      <td>0.095267</td>\n",
       "      <td>0.227304</td>\n",
       "      <td>-0.128781</td>\n",
       "      <td>0.257412</td>\n",
       "      <td>0.067448</td>\n",
       "      <td>0.015800</td>\n",
       "      <td>-0.003392</td>\n",
       "      <td>0.008711</td>\n",
       "    </tr>\n",
       "    <tr>\n",
       "      <th>637139</th>\n",
       "      <td>-0.871428</td>\n",
       "      <td>0.109891</td>\n",
       "      <td>-0.180886</td>\n",
       "      <td>-0.232207</td>\n",
       "      <td>-0.650174</td>\n",
       "      <td>-0.496100</td>\n",
       "      <td>0.869816</td>\n",
       "      <td>-0.768508</td>\n",
       "      <td>0.378887</td>\n",
       "      <td>0.772791</td>\n",
       "      <td>...</td>\n",
       "      <td>-1.715341</td>\n",
       "      <td>0.435600</td>\n",
       "      <td>0.970664</td>\n",
       "      <td>-0.377949</td>\n",
       "      <td>-0.440392</td>\n",
       "      <td>0.574817</td>\n",
       "      <td>-0.222649</td>\n",
       "      <td>0.264514</td>\n",
       "      <td>0.544728</td>\n",
       "      <td>-0.005831</td>\n",
       "    </tr>\n",
       "    <tr>\n",
       "      <th>637140</th>\n",
       "      <td>-0.639298</td>\n",
       "      <td>0.708808</td>\n",
       "      <td>-0.050029</td>\n",
       "      <td>-0.671916</td>\n",
       "      <td>0.301778</td>\n",
       "      <td>1.822625</td>\n",
       "      <td>-0.183348</td>\n",
       "      <td>0.290658</td>\n",
       "      <td>-1.484381</td>\n",
       "      <td>0.892104</td>\n",
       "      <td>...</td>\n",
       "      <td>-0.119729</td>\n",
       "      <td>1.406435</td>\n",
       "      <td>0.296981</td>\n",
       "      <td>-0.790756</td>\n",
       "      <td>-0.571292</td>\n",
       "      <td>0.699769</td>\n",
       "      <td>0.019635</td>\n",
       "      <td>0.227118</td>\n",
       "      <td>0.751543</td>\n",
       "      <td>-0.006487</td>\n",
       "    </tr>\n",
       "    <tr>\n",
       "      <th>637141</th>\n",
       "      <td>-1.990395</td>\n",
       "      <td>-0.262848</td>\n",
       "      <td>-0.051782</td>\n",
       "      <td>0.132415</td>\n",
       "      <td>-0.161952</td>\n",
       "      <td>-0.431059</td>\n",
       "      <td>-0.041055</td>\n",
       "      <td>0.134718</td>\n",
       "      <td>0.367602</td>\n",
       "      <td>0.225280</td>\n",
       "      <td>...</td>\n",
       "      <td>-0.135671</td>\n",
       "      <td>0.220485</td>\n",
       "      <td>0.074937</td>\n",
       "      <td>-0.084012</td>\n",
       "      <td>-0.017776</td>\n",
       "      <td>0.066736</td>\n",
       "      <td>0.218513</td>\n",
       "      <td>0.129325</td>\n",
       "      <td>0.776355</td>\n",
       "      <td>0.000911</td>\n",
       "    </tr>\n",
       "    <tr>\n",
       "      <th>637142</th>\n",
       "      <td>0.133059</td>\n",
       "      <td>1.037116</td>\n",
       "      <td>-0.818337</td>\n",
       "      <td>0.201654</td>\n",
       "      <td>0.544218</td>\n",
       "      <td>-0.316328</td>\n",
       "      <td>0.103722</td>\n",
       "      <td>0.304401</td>\n",
       "      <td>-0.146549</td>\n",
       "      <td>0.106811</td>\n",
       "      <td>...</td>\n",
       "      <td>-0.136026</td>\n",
       "      <td>0.558773</td>\n",
       "      <td>0.090012</td>\n",
       "      <td>-0.093218</td>\n",
       "      <td>0.028695</td>\n",
       "      <td>0.745267</td>\n",
       "      <td>-0.035823</td>\n",
       "      <td>0.302485</td>\n",
       "      <td>-0.932574</td>\n",
       "      <td>0.013215</td>\n",
       "    </tr>\n",
       "  </tbody>\n",
       "</table>\n",
       "<p>637143 rows × 37 columns</p>\n",
       "</div>"
      ],
      "text/plain": [
       "           PCA-1     PCA-2     PCA-3     PCA-4     PCA-5     PCA-6     PCA-7  \\\n",
       "0      -1.979298  0.605037 -0.347049  0.343918 -0.206917  0.643579 -0.722953   \n",
       "1      -2.052425 -0.648610  0.189774 -0.327968 -0.019448 -0.042553  0.420590   \n",
       "2      -2.335974 -0.513563  0.431780  0.370108  0.025497 -0.453942 -0.293095   \n",
       "3       0.312545  0.396290 -0.779005  0.480261  0.802417  0.197184  1.107524   \n",
       "4       8.031301 -2.713182 -2.302506 -0.975854 -1.239608  1.045468 -1.029064   \n",
       "...          ...       ...       ...       ...       ...       ...       ...   \n",
       "637138 -2.204475 -0.775799  0.456335 -0.644344  0.366521  0.409165  0.517144   \n",
       "637139 -0.871428  0.109891 -0.180886 -0.232207 -0.650174 -0.496100  0.869816   \n",
       "637140 -0.639298  0.708808 -0.050029 -0.671916  0.301778  1.822625 -0.183348   \n",
       "637141 -1.990395 -0.262848 -0.051782  0.132415 -0.161952 -0.431059 -0.041055   \n",
       "637142  0.133059  1.037116 -0.818337  0.201654  0.544218 -0.316328  0.103722   \n",
       "\n",
       "           PCA-8     PCA-9    PCA-10  ...    PCA-28    PCA-29    PCA-30  \\\n",
       "0      -0.453402  0.484396 -0.740923  ... -0.029735 -0.666880  0.062032   \n",
       "1       0.100898 -0.456490 -0.054549  ...  0.110073 -0.097745  0.071935   \n",
       "2      -0.077861 -0.052114  0.280156  ... -0.092531  0.234044 -0.124102   \n",
       "3       0.584352  0.544424  0.597105  ...  0.049952 -0.465177  0.659723   \n",
       "4      -0.674694 -1.293753  0.053422  ...  1.848692 -0.716391 -0.486786   \n",
       "...          ...       ...       ...  ...       ...       ...       ...   \n",
       "637138 -0.008711  0.122222  0.075493  ...  0.098914  0.035867  0.095267   \n",
       "637139 -0.768508  0.378887  0.772791  ... -1.715341  0.435600  0.970664   \n",
       "637140  0.290658 -1.484381  0.892104  ... -0.119729  1.406435  0.296981   \n",
       "637141  0.134718  0.367602  0.225280  ... -0.135671  0.220485  0.074937   \n",
       "637142  0.304401 -0.146549  0.106811  ... -0.136026  0.558773  0.090012   \n",
       "\n",
       "          PCA-31    PCA-32    PCA-33    PCA-34    PCA-35    PCA-36    PCA-37  \n",
       "0      -0.134632 -0.175090 -0.333600  0.024415 -0.320194  0.433301 -0.001820  \n",
       "1       0.142639 -0.163173  0.094262  0.016538 -0.077903 -0.045103  0.006125  \n",
       "2       0.032151  0.098365  0.040162  0.290416 -0.044333 -0.134802  0.002664  \n",
       "3       0.847133  0.138849 -0.397856 -0.682668  0.597681 -0.232180  0.002856  \n",
       "4       0.664928 -0.858845 -0.287044  1.450142  0.974145 -0.336388  0.056297  \n",
       "...          ...       ...       ...       ...       ...       ...       ...  \n",
       "637138  0.227304 -0.128781  0.257412  0.067448  0.015800 -0.003392  0.008711  \n",
       "637139 -0.377949 -0.440392  0.574817 -0.222649  0.264514  0.544728 -0.005831  \n",
       "637140 -0.790756 -0.571292  0.699769  0.019635  0.227118  0.751543 -0.006487  \n",
       "637141 -0.084012 -0.017776  0.066736  0.218513  0.129325  0.776355  0.000911  \n",
       "637142 -0.093218  0.028695  0.745267 -0.035823  0.302485 -0.932574  0.013215  \n",
       "\n",
       "[637143 rows x 37 columns]"
      ]
     },
     "execution_count": 43,
     "metadata": {},
     "output_type": "execute_result"
    }
   ],
   "source": [
    "principalDf"
   ]
  },
  {
   "cell_type": "code",
   "execution_count": 44,
   "id": "transsexual-tribune",
   "metadata": {},
   "outputs": [],
   "source": [
    "#principalDf['COMAX'] = data['COMAX']\n",
    "principalDf.insert(0, 'COMAX', data['COMAX'], True)"
   ]
  },
  {
   "cell_type": "code",
   "execution_count": 45,
   "id": "difficult-cycle",
   "metadata": {},
   "outputs": [
    {
     "name": "stdout",
     "output_type": "stream",
     "text": [
      "<class 'pandas.core.frame.DataFrame'>\n",
      "RangeIndex: 637143 entries, 0 to 637142\n",
      "Data columns (total 38 columns):\n",
      " #   Column  Non-Null Count   Dtype  \n",
      "---  ------  --------------   -----  \n",
      " 0   COMAX   637143 non-null  object \n",
      " 1   PCA-1   637143 non-null  float64\n",
      " 2   PCA-2   637143 non-null  float64\n",
      " 3   PCA-3   637143 non-null  float64\n",
      " 4   PCA-4   637143 non-null  float64\n",
      " 5   PCA-5   637143 non-null  float64\n",
      " 6   PCA-6   637143 non-null  float64\n",
      " 7   PCA-7   637143 non-null  float64\n",
      " 8   PCA-8   637143 non-null  float64\n",
      " 9   PCA-9   637143 non-null  float64\n",
      " 10  PCA-10  637143 non-null  float64\n",
      " 11  PCA-11  637143 non-null  float64\n",
      " 12  PCA-12  637143 non-null  float64\n",
      " 13  PCA-13  637143 non-null  float64\n",
      " 14  PCA-14  637143 non-null  float64\n",
      " 15  PCA-15  637143 non-null  float64\n",
      " 16  PCA-16  637143 non-null  float64\n",
      " 17  PCA-17  637143 non-null  float64\n",
      " 18  PCA-18  637143 non-null  float64\n",
      " 19  PCA-19  637143 non-null  float64\n",
      " 20  PCA-20  637143 non-null  float64\n",
      " 21  PCA-21  637143 non-null  float64\n",
      " 22  PCA-22  637143 non-null  float64\n",
      " 23  PCA-23  637143 non-null  float64\n",
      " 24  PCA-24  637143 non-null  float64\n",
      " 25  PCA-25  637143 non-null  float64\n",
      " 26  PCA-26  637143 non-null  float64\n",
      " 27  PCA-27  637143 non-null  float64\n",
      " 28  PCA-28  637143 non-null  float64\n",
      " 29  PCA-29  637143 non-null  float64\n",
      " 30  PCA-30  637143 non-null  float64\n",
      " 31  PCA-31  637143 non-null  float64\n",
      " 32  PCA-32  637143 non-null  float64\n",
      " 33  PCA-33  637143 non-null  float64\n",
      " 34  PCA-34  637143 non-null  float64\n",
      " 35  PCA-35  637143 non-null  float64\n",
      " 36  PCA-36  637143 non-null  float64\n",
      " 37  PCA-37  637143 non-null  float64\n",
      "dtypes: float64(37), object(1)\n",
      "memory usage: 184.7+ MB\n"
     ]
    }
   ],
   "source": [
    "principalDf.info()"
   ]
  },
  {
   "cell_type": "code",
   "execution_count": 46,
   "id": "copyrighted-camel",
   "metadata": {},
   "outputs": [],
   "source": [
    "principalDf.to_csv(\"../cleaned-data/production/PCA-data.csv\", index=False, sep=\"\\t\")"
   ]
  },
  {
   "cell_type": "code",
   "execution_count": null,
   "id": "official-shape",
   "metadata": {},
   "outputs": [],
   "source": []
  }
 ],
 "metadata": {
  "kernelspec": {
   "display_name": "Python 3",
   "language": "python",
   "name": "python3"
  },
  "language_info": {
   "codemirror_mode": {
    "name": "ipython",
    "version": 3
   },
   "file_extension": ".py",
   "mimetype": "text/x-python",
   "name": "python",
   "nbconvert_exporter": "python",
   "pygments_lexer": "ipython3",
   "version": "3.6.8"
  }
 },
 "nbformat": 4,
 "nbformat_minor": 5
}
