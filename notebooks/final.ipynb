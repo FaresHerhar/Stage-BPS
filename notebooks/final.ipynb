{
 "cells": [
  {
   "cell_type": "code",
   "execution_count": 1,
   "id": "approved-crossing",
   "metadata": {},
   "outputs": [],
   "source": [
    "import pandas as pd\n",
    "import seaborn as sns\n",
    "from sklearn.cluster import KMeans\n",
    "from matplotlib import pyplot as plt\n",
    "from mpl_toolkits.mplot3d import Axes3D"
   ]
  },
  {
   "cell_type": "markdown",
   "id": "fabulous-kitty",
   "metadata": {},
   "source": [
    "# Cette partie est pour les clients morales"
   ]
  },
  {
   "cell_type": "code",
   "execution_count": 2,
   "id": "assumed-capitol",
   "metadata": {},
   "outputs": [],
   "source": [
    "mc_data = pd.read_csv('../cleaned-data/production/final-mc-data.csv', encoding='iso-8859-1', sep='\\t')"
   ]
  },
  {
   "cell_type": "code",
   "execution_count": 3,
   "id": "contemporary-pharmacy",
   "metadata": {},
   "outputs": [
    {
     "name": "stdout",
     "output_type": "stream",
     "text": [
      "<class 'pandas.core.frame.DataFrame'>\n",
      "RangeIndex: 2745203 entries, 0 to 2745202\n",
      "Data columns (total 14 columns):\n",
      " #   Column      Dtype  \n",
      "---  ------      -----  \n",
      " 0   Unnamed: 0  int64  \n",
      " 1   COMAX       object \n",
      " 2   CTPE        int64  \n",
      " 3   CORELB      int64  \n",
      " 4   PCA-1       float64\n",
      " 5   PCA-2       float64\n",
      " 6   PCA-3       float64\n",
      " 7   PCA-4       float64\n",
      " 8   PCA-5       float64\n",
      " 9   PCA-6       float64\n",
      " 10  PCA-7       float64\n",
      " 11  PCA-8       float64\n",
      " 12  PCA-9       float64\n",
      " 13  PCA-10      float64\n",
      "dtypes: float64(10), int64(3), object(1)\n",
      "memory usage: 293.2+ MB\n"
     ]
    }
   ],
   "source": [
    "mc_data.info()"
   ]
  },
  {
   "cell_type": "code",
   "execution_count": 9,
   "id": "tired-swift",
   "metadata": {},
   "outputs": [
    {
     "data": {
      "text/plain": [
       "['CTPE',\n",
       " 'CORELB',\n",
       " 'PCA-1',\n",
       " 'PCA-2',\n",
       " 'PCA-3',\n",
       " 'PCA-4',\n",
       " 'PCA-5',\n",
       " 'PCA-6',\n",
       " 'PCA-7',\n",
       " 'PCA-8',\n",
       " 'PCA-9',\n",
       " 'PCA-10']"
      ]
     },
     "execution_count": 9,
     "metadata": {},
     "output_type": "execute_result"
    }
   ],
   "source": [
    "list(mc_data.columns)[2:]"
   ]
  },
  {
   "cell_type": "code",
   "execution_count": 10,
   "id": "several-concept",
   "metadata": {},
   "outputs": [],
   "source": [
    "WCSS = list()\n",
    "for clusters in range(1, 11):\n",
    "    kmeans = KMeans(n_clusters=clusters, init='k-means++')\n",
    "    \n",
    "    # WCSS: Within Cluster Sum of Squares\n",
    "    kmeans.fit(mc_data[list(mc_data.columns)[2:]])\n",
    "    WCSS.append(kmeans.inertia_)"
   ]
  },
  {
   "cell_type": "code",
   "execution_count": 16,
   "id": "little-burns",
   "metadata": {},
   "outputs": [
    {
     "data": {
      "image/png": "[encoded data removed]",
      "text/plain": [
       "<Figure size 432x288 with 1 Axes>"
      ]
     },
     "metadata": {
      "needs_background": "light"
     },
     "output_type": "display_data"
    }
   ],
   "source": [
    "plt.plot(range(1, 11), WCSS, 'bx-')\n",
    "plt.plot([2], WCSS[1], 'ro')  # c='r', marker='o'\n",
    "plt.xlabel('Number Of Clusters')\n",
    "plt.ylabel('WCSS')\n",
    "plt.title('Elbow Method For Optimal k')\n",
    "plt.show()"
   ]
  },
  {
   "cell_type": "markdown",
   "id": "union-state",
   "metadata": {},
   "source": [
    "### As we can see here, the value of cluster 2 is the elbow point, therefore the number of clusters is 2."
   ]
  },
  {
   "cell_type": "code",
   "execution_count": 17,
   "id": "accessible-caribbean",
   "metadata": {},
   "outputs": [
    {
     "data": {
      "text/plain": [
       "KMeans(n_clusters=2)"
      ]
     },
     "execution_count": 17,
     "metadata": {},
     "output_type": "execute_result"
    }
   ],
   "source": [
    "clusters = 2\n",
    "kmeans = KMeans(n_clusters=clusters, init='k-means++')\n",
    "kmeans.fit(mc_data[list(mc_data.columns)[2:]])"
   ]
  },
  {
   "cell_type": "code",
   "execution_count": 18,
   "id": "general-bottle",
   "metadata": {},
   "outputs": [
    {
     "data": {
      "text/plain": [
       "array([[ 1.07032222,  1.01860589,  1.84229593, -0.31735549,  0.18198187,\n",
       "         0.08660233,  0.00465067,  0.07335534,  0.0162041 ,  0.00921296,\n",
       "         0.088827  , -0.08239603],\n",
       "       [ 1.05480083,  1.56726528, -1.34006941,  0.11621853,  0.05387723,\n",
       "         0.10975986, -0.057011  , -0.05055748, -0.02676574,  0.00775924,\n",
       "        -0.05594618,  0.02148644]])"
      ]
     },
     "execution_count": 18,
     "metadata": {},
     "output_type": "execute_result"
    }
   ],
   "source": [
    "# The clusters centers\n",
    "kmeans.cluster_centers_"
   ]
  },
  {
   "cell_type": "code",
   "execution_count": 19,
   "id": "equipped-essence",
   "metadata": {},
   "outputs": [],
   "source": [
    "mc_data['Cluster'] = kmeans.labels_"
   ]
  },
  {
   "cell_type": "code",
   "execution_count": 20,
   "id": "cognitive-wright",
   "metadata": {},
   "outputs": [
    {
     "data": {
      "text/html": [
       "<div>\n",
       "<style scoped>\n",
       "    .dataframe tbody tr th:only-of-type {\n",
       "        vertical-align: middle;\n",
       "    }\n",
       "\n",
       "    .dataframe tbody tr th {\n",
       "        vertical-align: top;\n",
       "    }\n",
       "\n",
       "    .dataframe thead th {\n",
       "        text-align: right;\n",
       "    }\n",
       "</style>\n",
       "<table border=\"1\" class=\"dataframe\">\n",
       "  <thead>\n",
       "    <tr style=\"text-align: right;\">\n",
       "      <th></th>\n",
       "      <th>Unnamed: 0</th>\n",
       "      <th>COMAX</th>\n",
       "      <th>CTPE</th>\n",
       "      <th>CORELB</th>\n",
       "      <th>PCA-1</th>\n",
       "      <th>PCA-2</th>\n",
       "      <th>PCA-3</th>\n",
       "      <th>PCA-4</th>\n",
       "      <th>PCA-5</th>\n",
       "      <th>PCA-6</th>\n",
       "      <th>PCA-7</th>\n",
       "      <th>PCA-8</th>\n",
       "      <th>PCA-9</th>\n",
       "      <th>PCA-10</th>\n",
       "      <th>Cluster</th>\n",
       "    </tr>\n",
       "  </thead>\n",
       "  <tbody>\n",
       "    <tr>\n",
       "      <th>0</th>\n",
       "      <td>0</td>\n",
       "      <td>6e3a2b9fa1</td>\n",
       "      <td>1</td>\n",
       "      <td>1</td>\n",
       "      <td>-1.619473</td>\n",
       "      <td>0.067995</td>\n",
       "      <td>-0.194275</td>\n",
       "      <td>0.193045</td>\n",
       "      <td>0.966118</td>\n",
       "      <td>0.434827</td>\n",
       "      <td>0.206694</td>\n",
       "      <td>-0.604399</td>\n",
       "      <td>-0.037801</td>\n",
       "      <td>-0.132362</td>\n",
       "      <td>1</td>\n",
       "    </tr>\n",
       "    <tr>\n",
       "      <th>1</th>\n",
       "      <td>1</td>\n",
       "      <td>6e3a2b9fa1</td>\n",
       "      <td>1</td>\n",
       "      <td>1</td>\n",
       "      <td>-1.619473</td>\n",
       "      <td>0.067995</td>\n",
       "      <td>-0.194275</td>\n",
       "      <td>0.193045</td>\n",
       "      <td>0.966118</td>\n",
       "      <td>0.434827</td>\n",
       "      <td>0.206694</td>\n",
       "      <td>-0.604399</td>\n",
       "      <td>-0.037801</td>\n",
       "      <td>-0.132362</td>\n",
       "      <td>1</td>\n",
       "    </tr>\n",
       "    <tr>\n",
       "      <th>2</th>\n",
       "      <td>2</td>\n",
       "      <td>6e3a2b9fa1</td>\n",
       "      <td>1</td>\n",
       "      <td>1</td>\n",
       "      <td>-1.619473</td>\n",
       "      <td>0.067995</td>\n",
       "      <td>-0.194275</td>\n",
       "      <td>0.193045</td>\n",
       "      <td>0.966118</td>\n",
       "      <td>0.434827</td>\n",
       "      <td>0.206694</td>\n",
       "      <td>-0.604399</td>\n",
       "      <td>-0.037801</td>\n",
       "      <td>-0.132362</td>\n",
       "      <td>1</td>\n",
       "    </tr>\n",
       "    <tr>\n",
       "      <th>3</th>\n",
       "      <td>3</td>\n",
       "      <td>6e3a2b9fa1</td>\n",
       "      <td>1</td>\n",
       "      <td>1</td>\n",
       "      <td>-1.619473</td>\n",
       "      <td>0.067995</td>\n",
       "      <td>-0.194275</td>\n",
       "      <td>0.193045</td>\n",
       "      <td>0.966118</td>\n",
       "      <td>0.434827</td>\n",
       "      <td>0.206694</td>\n",
       "      <td>-0.604399</td>\n",
       "      <td>-0.037801</td>\n",
       "      <td>-0.132362</td>\n",
       "      <td>1</td>\n",
       "    </tr>\n",
       "    <tr>\n",
       "      <th>4</th>\n",
       "      <td>4</td>\n",
       "      <td>6e3a2b9fa1</td>\n",
       "      <td>1</td>\n",
       "      <td>1</td>\n",
       "      <td>-1.619473</td>\n",
       "      <td>0.067995</td>\n",
       "      <td>-0.194275</td>\n",
       "      <td>0.193045</td>\n",
       "      <td>0.966118</td>\n",
       "      <td>0.434827</td>\n",
       "      <td>0.206694</td>\n",
       "      <td>-0.604399</td>\n",
       "      <td>-0.037801</td>\n",
       "      <td>-0.132362</td>\n",
       "      <td>1</td>\n",
       "    </tr>\n",
       "  </tbody>\n",
       "</table>\n",
       "</div>"
      ],
      "text/plain": [
       "   Unnamed: 0       COMAX  CTPE  CORELB     PCA-1     PCA-2     PCA-3  \\\n",
       "0           0  6e3a2b9fa1     1       1 -1.619473  0.067995 -0.194275   \n",
       "1           1  6e3a2b9fa1     1       1 -1.619473  0.067995 -0.194275   \n",
       "2           2  6e3a2b9fa1     1       1 -1.619473  0.067995 -0.194275   \n",
       "3           3  6e3a2b9fa1     1       1 -1.619473  0.067995 -0.194275   \n",
       "4           4  6e3a2b9fa1     1       1 -1.619473  0.067995 -0.194275   \n",
       "\n",
       "      PCA-4     PCA-5     PCA-6     PCA-7     PCA-8     PCA-9    PCA-10  \\\n",
       "0  0.193045  0.966118  0.434827  0.206694 -0.604399 -0.037801 -0.132362   \n",
       "1  0.193045  0.966118  0.434827  0.206694 -0.604399 -0.037801 -0.132362   \n",
       "2  0.193045  0.966118  0.434827  0.206694 -0.604399 -0.037801 -0.132362   \n",
       "3  0.193045  0.966118  0.434827  0.206694 -0.604399 -0.037801 -0.132362   \n",
       "4  0.193045  0.966118  0.434827  0.206694 -0.604399 -0.037801 -0.132362   \n",
       "\n",
       "   Cluster  \n",
       "0        1  \n",
       "1        1  \n",
       "2        1  \n",
       "3        1  \n",
       "4        1  "
      ]
     },
     "execution_count": 20,
     "metadata": {},
     "output_type": "execute_result"
    }
   ],
   "source": [
    "mc_data.head()"
   ]
  },
  {
   "cell_type": "code",
   "execution_count": 25,
   "id": "golden-editing",
   "metadata": {},
   "outputs": [
    {
     "data": {
      "text/plain": [
       "Index(['COMAX', 'CTPE', 'CORELB', 'PCA-1', 'PCA-2', 'PCA-3', 'PCA-4', 'PCA-5',\n",
       "       'PCA-6', 'PCA-7', 'PCA-8', 'PCA-9', 'PCA-10', 'Cluster'],\n",
       "      dtype='object')"
      ]
     },
     "execution_count": 25,
     "metadata": {},
     "output_type": "execute_result"
    }
   ],
   "source": [
    "mc_data.columns[1:]"
   ]
  },
  {
   "cell_type": "code",
   "execution_count": 27,
   "id": "wired-collaboration",
   "metadata": {},
   "outputs": [],
   "source": [
    "mc_data[mc_data.columns[1:]].to_csv('../cleaned-data/mc-clusters.csv', sep='\\t')"
   ]
  },
  {
   "cell_type": "code",
   "execution_count": 28,
   "id": "generic-language",
   "metadata": {},
   "outputs": [
    {
     "data": {
      "text/plain": [
       "1    1373843\n",
       "0    1371360\n",
       "Name: Cluster, dtype: int64"
      ]
     },
     "execution_count": 28,
     "metadata": {},
     "output_type": "execute_result"
    }
   ],
   "source": [
    "mc_data['Cluster'].value_counts()"
   ]
  },
  {
   "cell_type": "markdown",
   "id": "crazy-theory",
   "metadata": {},
   "source": [
    "# Cette partie est pour les client physiques"
   ]
  },
  {
   "cell_type": "code",
   "execution_count": 30,
   "id": "earned-architecture",
   "metadata": {},
   "outputs": [],
   "source": [
    "pc_data = pd.read_csv('../cleaned-data/production/final-pc-data.csv', encoding='iso-8859-1', sep='\\t')"
   ]
  },
  {
   "cell_type": "code",
   "execution_count": 31,
   "id": "anonymous-thailand",
   "metadata": {},
   "outputs": [
    {
     "name": "stdout",
     "output_type": "stream",
     "text": [
      "<class 'pandas.core.frame.DataFrame'>\n",
      "RangeIndex: 563910 entries, 0 to 563909\n",
      "Data columns (total 15 columns):\n",
      " #   Column      Non-Null Count   Dtype  \n",
      "---  ------      --------------   -----  \n",
      " 0   Unnamed: 0  563910 non-null  int64  \n",
      " 1   COMAX       563910 non-null  object \n",
      " 2   AGE         563910 non-null  int64  \n",
      " 3   COSEXE      563910 non-null  int64  \n",
      " 4   CTSCPI      563910 non-null  int64  \n",
      " 5   PCA-1       563910 non-null  float64\n",
      " 6   PCA-2       563910 non-null  float64\n",
      " 7   PCA-3       563910 non-null  float64\n",
      " 8   PCA-4       563910 non-null  float64\n",
      " 9   PCA-5       563910 non-null  float64\n",
      " 10  PCA-6       563910 non-null  float64\n",
      " 11  PCA-7       563910 non-null  float64\n",
      " 12  PCA-8       563910 non-null  float64\n",
      " 13  PCA-9       563910 non-null  float64\n",
      " 14  PCA-10      563910 non-null  float64\n",
      "dtypes: float64(10), int64(4), object(1)\n",
      "memory usage: 64.5+ MB\n"
     ]
    }
   ],
   "source": [
    "pc_data.info()"
   ]
  },
  {
   "cell_type": "code",
   "execution_count": 32,
   "id": "average-pennsylvania",
   "metadata": {},
   "outputs": [
    {
     "data": {
      "text/plain": [
       "['AGE',\n",
       " 'COSEXE',\n",
       " 'CTSCPI',\n",
       " 'PCA-1',\n",
       " 'PCA-2',\n",
       " 'PCA-3',\n",
       " 'PCA-4',\n",
       " 'PCA-5',\n",
       " 'PCA-6',\n",
       " 'PCA-7',\n",
       " 'PCA-8',\n",
       " 'PCA-9',\n",
       " 'PCA-10']"
      ]
     },
     "execution_count": 32,
     "metadata": {},
     "output_type": "execute_result"
    }
   ],
   "source": [
    "list(pc_data.columns)[2:]"
   ]
  },
  {
   "cell_type": "code",
   "execution_count": 33,
   "id": "opposed-excuse",
   "metadata": {},
   "outputs": [],
   "source": [
    "WCSS = list()\n",
    "for clusters in range(1, 11):\n",
    "    kmeans = KMeans(n_clusters=clusters, init='k-means++')\n",
    "    \n",
    "    # WCSS: Within Cluster Sum of Squares\n",
    "    kmeans.fit(pc_data[list(pc_data.columns)[2:]])\n",
    "    WCSS.append(kmeans.inertia_)"
   ]
  },
  {
   "cell_type": "code",
   "execution_count": 34,
   "id": "spiritual-creator",
   "metadata": {},
   "outputs": [
    {
     "data": {
      "image/png": "[encoded data removed]",
      "text/plain": [
       "<Figure size 432x288 with 1 Axes>"
      ]
     },
     "metadata": {
      "needs_background": "light"
     },
     "output_type": "display_data"
    }
   ],
   "source": [
    "plt.plot(range(1, 11), WCSS, 'bx-')\n",
    "plt.plot([2], WCSS[1], 'ro')  # c='r', marker='o'\n",
    "plt.xlabel('Number Of Clusters')\n",
    "plt.ylabel('WCSS')\n",
    "plt.title('Elbow Method For Optimal k')\n",
    "plt.show()"
   ]
  },
  {
   "cell_type": "markdown",
   "id": "failing-courage",
   "metadata": {},
   "source": [
    "### As we can see here, the value of cluster 2 is the elbow point, therefore the number of clusters is 2."
   ]
  },
  {
   "cell_type": "code",
   "execution_count": 35,
   "id": "unlike-relationship",
   "metadata": {},
   "outputs": [
    {
     "data": {
      "text/plain": [
       "KMeans(n_clusters=2)"
      ]
     },
     "execution_count": 35,
     "metadata": {},
     "output_type": "execute_result"
    }
   ],
   "source": [
    "clusters = 2\n",
    "kmeans = KMeans(n_clusters=clusters, init='k-means++')\n",
    "kmeans.fit(pc_data[list(pc_data.columns)[2:]])"
   ]
  },
  {
   "cell_type": "code",
   "execution_count": 36,
   "id": "iraqi-split",
   "metadata": {},
   "outputs": [
    {
     "data": {
      "text/plain": [
       "array([[ 4.65159081e+01,  5.01730020e-01,  4.26485403e+03,\n",
       "         5.27141339e-01, -9.44975783e-03,  3.87919110e-02,\n",
       "         1.18401462e-01, -3.73451118e-03, -2.60074425e-02,\n",
       "        -7.08254009e-02,  1.83307668e-02, -3.28970916e-02,\n",
       "        -1.51551944e-02],\n",
       "       [ 5.06830650e+01,  4.84592114e-01,  7.85445525e+03,\n",
       "        -3.93835299e-01,  1.18743906e-02, -2.56397280e-02,\n",
       "        -9.62981739e-02, -1.87589090e-02,  1.01823877e-02,\n",
       "         5.13084758e-02, -4.78526860e-03,  2.96370518e-02,\n",
       "         1.31777413e-02]])"
      ]
     },
     "execution_count": 36,
     "metadata": {},
     "output_type": "execute_result"
    }
   ],
   "source": [
    "# The clusters centers\n",
    "kmeans.cluster_centers_"
   ]
  },
  {
   "cell_type": "code",
   "execution_count": 37,
   "id": "established-flour",
   "metadata": {},
   "outputs": [],
   "source": [
    "pc_data['Cluster'] = kmeans.labels_"
   ]
  },
  {
   "cell_type": "code",
   "execution_count": 38,
   "id": "metric-polyester",
   "metadata": {},
   "outputs": [
    {
     "data": {
      "text/html": [
       "<div>\n",
       "<style scoped>\n",
       "    .dataframe tbody tr th:only-of-type {\n",
       "        vertical-align: middle;\n",
       "    }\n",
       "\n",
       "    .dataframe tbody tr th {\n",
       "        vertical-align: top;\n",
       "    }\n",
       "\n",
       "    .dataframe thead th {\n",
       "        text-align: right;\n",
       "    }\n",
       "</style>\n",
       "<table border=\"1\" class=\"dataframe\">\n",
       "  <thead>\n",
       "    <tr style=\"text-align: right;\">\n",
       "      <th></th>\n",
       "      <th>Unnamed: 0</th>\n",
       "      <th>COMAX</th>\n",
       "      <th>AGE</th>\n",
       "      <th>COSEXE</th>\n",
       "      <th>CTSCPI</th>\n",
       "      <th>PCA-1</th>\n",
       "      <th>PCA-2</th>\n",
       "      <th>PCA-3</th>\n",
       "      <th>PCA-4</th>\n",
       "      <th>PCA-5</th>\n",
       "      <th>PCA-6</th>\n",
       "      <th>PCA-7</th>\n",
       "      <th>PCA-8</th>\n",
       "      <th>PCA-9</th>\n",
       "      <th>PCA-10</th>\n",
       "      <th>Cluster</th>\n",
       "    </tr>\n",
       "  </thead>\n",
       "  <tbody>\n",
       "    <tr>\n",
       "      <th>0</th>\n",
       "      <td>0</td>\n",
       "      <td>6e3a2b9fa1</td>\n",
       "      <td>55</td>\n",
       "      <td>1</td>\n",
       "      <td>4600</td>\n",
       "      <td>-1.619473</td>\n",
       "      <td>0.067995</td>\n",
       "      <td>-0.194275</td>\n",
       "      <td>0.193045</td>\n",
       "      <td>0.966118</td>\n",
       "      <td>0.434827</td>\n",
       "      <td>0.206694</td>\n",
       "      <td>-0.604399</td>\n",
       "      <td>-0.037801</td>\n",
       "      <td>-0.132362</td>\n",
       "      <td>0</td>\n",
       "    </tr>\n",
       "    <tr>\n",
       "      <th>1</th>\n",
       "      <td>1</td>\n",
       "      <td>1b44a67f61</td>\n",
       "      <td>41</td>\n",
       "      <td>0</td>\n",
       "      <td>4700</td>\n",
       "      <td>1.949925</td>\n",
       "      <td>-1.234185</td>\n",
       "      <td>0.496042</td>\n",
       "      <td>-1.358579</td>\n",
       "      <td>0.458379</td>\n",
       "      <td>-0.033977</td>\n",
       "      <td>0.853659</td>\n",
       "      <td>0.798448</td>\n",
       "      <td>0.051425</td>\n",
       "      <td>-0.185002</td>\n",
       "      <td>0</td>\n",
       "    </tr>\n",
       "    <tr>\n",
       "      <th>2</th>\n",
       "      <td>4</td>\n",
       "      <td>bdf1f63a98</td>\n",
       "      <td>32</td>\n",
       "      <td>1</td>\n",
       "      <td>3500</td>\n",
       "      <td>0.942095</td>\n",
       "      <td>-1.936260</td>\n",
       "      <td>-0.874105</td>\n",
       "      <td>0.548765</td>\n",
       "      <td>-0.028093</td>\n",
       "      <td>-0.185264</td>\n",
       "      <td>-0.685920</td>\n",
       "      <td>-0.305884</td>\n",
       "      <td>0.706565</td>\n",
       "      <td>-0.332662</td>\n",
       "      <td>0</td>\n",
       "    </tr>\n",
       "    <tr>\n",
       "      <th>3</th>\n",
       "      <td>6</td>\n",
       "      <td>bc9f2a4a5c</td>\n",
       "      <td>23</td>\n",
       "      <td>1</td>\n",
       "      <td>8400</td>\n",
       "      <td>2.479900</td>\n",
       "      <td>-1.195938</td>\n",
       "      <td>-0.545192</td>\n",
       "      <td>-0.405637</td>\n",
       "      <td>-0.374263</td>\n",
       "      <td>0.052177</td>\n",
       "      <td>1.254283</td>\n",
       "      <td>0.629074</td>\n",
       "      <td>-0.155007</td>\n",
       "      <td>-0.131384</td>\n",
       "      <td>1</td>\n",
       "    </tr>\n",
       "    <tr>\n",
       "      <th>4</th>\n",
       "      <td>8</td>\n",
       "      <td>deb8a278df</td>\n",
       "      <td>13</td>\n",
       "      <td>0</td>\n",
       "      <td>8400</td>\n",
       "      <td>-2.122563</td>\n",
       "      <td>0.176458</td>\n",
       "      <td>0.209005</td>\n",
       "      <td>0.432681</td>\n",
       "      <td>-0.118350</td>\n",
       "      <td>0.051837</td>\n",
       "      <td>0.221812</td>\n",
       "      <td>0.352136</td>\n",
       "      <td>0.183198</td>\n",
       "      <td>-0.069776</td>\n",
       "      <td>1</td>\n",
       "    </tr>\n",
       "  </tbody>\n",
       "</table>\n",
       "</div>"
      ],
      "text/plain": [
       "   Unnamed: 0       COMAX  AGE  COSEXE  CTSCPI     PCA-1     PCA-2     PCA-3  \\\n",
       "0           0  6e3a2b9fa1   55       1    4600 -1.619473  0.067995 -0.194275   \n",
       "1           1  1b44a67f61   41       0    4700  1.949925 -1.234185  0.496042   \n",
       "2           4  bdf1f63a98   32       1    3500  0.942095 -1.936260 -0.874105   \n",
       "3           6  bc9f2a4a5c   23       1    8400  2.479900 -1.195938 -0.545192   \n",
       "4           8  deb8a278df   13       0    8400 -2.122563  0.176458  0.209005   \n",
       "\n",
       "      PCA-4     PCA-5     PCA-6     PCA-7     PCA-8     PCA-9    PCA-10  \\\n",
       "0  0.193045  0.966118  0.434827  0.206694 -0.604399 -0.037801 -0.132362   \n",
       "1 -1.358579  0.458379 -0.033977  0.853659  0.798448  0.051425 -0.185002   \n",
       "2  0.548765 -0.028093 -0.185264 -0.685920 -0.305884  0.706565 -0.332662   \n",
       "3 -0.405637 -0.374263  0.052177  1.254283  0.629074 -0.155007 -0.131384   \n",
       "4  0.432681 -0.118350  0.051837  0.221812  0.352136  0.183198 -0.069776   \n",
       "\n",
       "   Cluster  \n",
       "0        0  \n",
       "1        0  \n",
       "2        0  \n",
       "3        1  \n",
       "4        1  "
      ]
     },
     "execution_count": 38,
     "metadata": {},
     "output_type": "execute_result"
    }
   ],
   "source": [
    "pc_data.head()"
   ]
  },
  {
   "cell_type": "code",
   "execution_count": 39,
   "id": "optional-stevens",
   "metadata": {},
   "outputs": [
    {
     "data": {
      "text/plain": [
       "Index(['COMAX', 'AGE', 'COSEXE', 'CTSCPI', 'PCA-1', 'PCA-2', 'PCA-3', 'PCA-4',\n",
       "       'PCA-5', 'PCA-6', 'PCA-7', 'PCA-8', 'PCA-9', 'PCA-10', 'Cluster'],\n",
       "      dtype='object')"
      ]
     },
     "execution_count": 39,
     "metadata": {},
     "output_type": "execute_result"
    }
   ],
   "source": [
    "pc_data.columns[1:]"
   ]
  },
  {
   "cell_type": "code",
   "execution_count": 40,
   "id": "general-belfast",
   "metadata": {},
   "outputs": [],
   "source": [
    "pc_data[pc_data.columns[1:]].to_csv('../cleaned-data/pc-clusters.csv', sep='\\t')"
   ]
  },
  {
   "cell_type": "code",
   "execution_count": 41,
   "id": "molecular-harvard",
   "metadata": {},
   "outputs": [
    {
     "data": {
      "text/plain": [
       "1    315358\n",
       "0    248552\n",
       "Name: Cluster, dtype: int64"
      ]
     },
     "execution_count": 41,
     "metadata": {},
     "output_type": "execute_result"
    }
   ],
   "source": [
    "pc_data['Cluster'].value_counts()"
   ]
  },
  {
   "cell_type": "code",
   "execution_count": 46,
   "id": "temporal-publicity",
   "metadata": {},
   "outputs": [
    {
     "data": {
      "text/plain": [
       "<seaborn.axisgrid.FacetGrid at 0x7f9126cd2ba8>"
      ]
     },
     "execution_count": 46,
     "metadata": {},
     "output_type": "execute_result"
    },
    {
     "data": {
      "image/png": "[encoded data removed]",
      "text/plain": [
       "<Figure size 403.5x360 with 1 Axes>"
      ]
     },
     "metadata": {
      "needs_background": "light"
     },
     "output_type": "display_data"
    }
   ],
   "source": [
    "sns.lmplot(x='AGE', y='CTSCPI', data=pc_data, hue='Cluster',fit_reg=False)"
   ]
  },
  {
   "cell_type": "code",
   "execution_count": 47,
   "id": "respective-occasions",
   "metadata": {},
   "outputs": [
    {
     "data": {
      "text/plain": [
       "<seaborn.axisgrid.FacetGrid at 0x7f9126b19eb8>"
      ]
     },
     "execution_count": 47,
     "metadata": {},
     "output_type": "execute_result"
    },
    {
     "data": {
      "image/png": "[encoded data removed]",
      "text/plain": [
       "<Figure size 403.5x360 with 1 Axes>"
      ]
     },
     "metadata": {
      "needs_background": "light"
     },
     "output_type": "display_data"
    }
   ],
   "source": [
    "sns.lmplot(x='COSEXE', y='CTSCPI', data=pc_data, hue='Cluster',fit_reg=False)"
   ]
  },
  {
   "cell_type": "code",
   "execution_count": 55,
   "id": "simplified-prairie",
   "metadata": {},
   "outputs": [
    {
     "data": {
      "image/png": "[encoded data removed]",
      "text/plain": [
       "<Figure size 432x432 with 1 Axes>"
      ]
     },
     "metadata": {
      "needs_background": "light"
     },
     "output_type": "display_data"
    }
   ],
   "source": [
    "fig = plt.figure(figsize=(6,6))\n",
    "ax = Axes3D(fig)\n",
    "\n",
    "ax.scatter(pc_data.AGE, pc_data.COSEXE, pc_data.CTSCPI, c=pc_data.AGE, marker='o')\n",
    "ax.set_xlabel('AGE')\n",
    "ax.set_ylabel('SEX')\n",
    "ax.set_zlabel('CTSCPI')\n",
    "\n",
    "plt.show()"
   ]
  },
  {
   "cell_type": "code",
   "execution_count": 15,
   "id": "running-coaching",
   "metadata": {},
   "outputs": [],
   "source": [
    "temp = pd.read_csv('../cleaned-data/pc-clusters.csv', encoding='iso-8859-1', sep='\\t')"
   ]
  },
  {
   "cell_type": "code",
   "execution_count": 5,
   "id": "returning-assist",
   "metadata": {},
   "outputs": [
    {
     "name": "stdout",
     "output_type": "stream",
     "text": [
      "<class 'pandas.core.frame.DataFrame'>\n",
      "RangeIndex: 563910 entries, 0 to 563909\n",
      "Data columns (total 16 columns):\n",
      " #   Column      Non-Null Count   Dtype  \n",
      "---  ------      --------------   -----  \n",
      " 0   Unnamed: 0  563910 non-null  int64  \n",
      " 1   COMAX       563910 non-null  object \n",
      " 2   AGE         563910 non-null  int64  \n",
      " 3   COSEXE      563910 non-null  int64  \n",
      " 4   CTSCPI      563910 non-null  int64  \n",
      " 5   PCA-1       563910 non-null  float64\n",
      " 6   PCA-2       563910 non-null  float64\n",
      " 7   PCA-3       563910 non-null  float64\n",
      " 8   PCA-4       563910 non-null  float64\n",
      " 9   PCA-5       563910 non-null  float64\n",
      " 10  PCA-6       563910 non-null  float64\n",
      " 11  PCA-7       563910 non-null  float64\n",
      " 12  PCA-8       563910 non-null  float64\n",
      " 13  PCA-9       563910 non-null  float64\n",
      " 14  PCA-10      563910 non-null  float64\n",
      " 15  Cluster     563910 non-null  int64  \n",
      "dtypes: float64(10), int64(5), object(1)\n",
      "memory usage: 68.8+ MB\n"
     ]
    }
   ],
   "source": [
    "temp.info()"
   ]
  },
  {
   "cell_type": "code",
   "execution_count": 6,
   "id": "powerful-tuning",
   "metadata": {},
   "outputs": [
    {
     "data": {
      "text/html": [
       "<div>\n",
       "<style scoped>\n",
       "    .dataframe tbody tr th:only-of-type {\n",
       "        vertical-align: middle;\n",
       "    }\n",
       "\n",
       "    .dataframe tbody tr th {\n",
       "        vertical-align: top;\n",
       "    }\n",
       "\n",
       "    .dataframe thead th {\n",
       "        text-align: right;\n",
       "    }\n",
       "</style>\n",
       "<table border=\"1\" class=\"dataframe\">\n",
       "  <thead>\n",
       "    <tr style=\"text-align: right;\">\n",
       "      <th></th>\n",
       "      <th>Unnamed: 0</th>\n",
       "      <th>COMAX</th>\n",
       "      <th>AGE</th>\n",
       "      <th>COSEXE</th>\n",
       "      <th>CTSCPI</th>\n",
       "      <th>PCA-1</th>\n",
       "      <th>PCA-2</th>\n",
       "      <th>PCA-3</th>\n",
       "      <th>PCA-4</th>\n",
       "      <th>PCA-5</th>\n",
       "      <th>PCA-6</th>\n",
       "      <th>PCA-7</th>\n",
       "      <th>PCA-8</th>\n",
       "      <th>PCA-9</th>\n",
       "      <th>PCA-10</th>\n",
       "      <th>Cluster</th>\n",
       "    </tr>\n",
       "  </thead>\n",
       "  <tbody>\n",
       "    <tr>\n",
       "      <th>0</th>\n",
       "      <td>0</td>\n",
       "      <td>6e3a2b9fa1</td>\n",
       "      <td>55</td>\n",
       "      <td>1</td>\n",
       "      <td>4600</td>\n",
       "      <td>-1.619473</td>\n",
       "      <td>0.067995</td>\n",
       "      <td>-0.194275</td>\n",
       "      <td>0.193045</td>\n",
       "      <td>0.966118</td>\n",
       "      <td>0.434827</td>\n",
       "      <td>0.206694</td>\n",
       "      <td>-0.604399</td>\n",
       "      <td>-0.037801</td>\n",
       "      <td>-0.132362</td>\n",
       "      <td>0</td>\n",
       "    </tr>\n",
       "    <tr>\n",
       "      <th>1</th>\n",
       "      <td>1</td>\n",
       "      <td>1b44a67f61</td>\n",
       "      <td>41</td>\n",
       "      <td>0</td>\n",
       "      <td>4700</td>\n",
       "      <td>1.949925</td>\n",
       "      <td>-1.234185</td>\n",
       "      <td>0.496042</td>\n",
       "      <td>-1.358579</td>\n",
       "      <td>0.458379</td>\n",
       "      <td>-0.033977</td>\n",
       "      <td>0.853659</td>\n",
       "      <td>0.798448</td>\n",
       "      <td>0.051425</td>\n",
       "      <td>-0.185002</td>\n",
       "      <td>0</td>\n",
       "    </tr>\n",
       "    <tr>\n",
       "      <th>2</th>\n",
       "      <td>2</td>\n",
       "      <td>bdf1f63a98</td>\n",
       "      <td>32</td>\n",
       "      <td>1</td>\n",
       "      <td>3500</td>\n",
       "      <td>0.942095</td>\n",
       "      <td>-1.936260</td>\n",
       "      <td>-0.874105</td>\n",
       "      <td>0.548765</td>\n",
       "      <td>-0.028093</td>\n",
       "      <td>-0.185264</td>\n",
       "      <td>-0.685920</td>\n",
       "      <td>-0.305884</td>\n",
       "      <td>0.706565</td>\n",
       "      <td>-0.332662</td>\n",
       "      <td>0</td>\n",
       "    </tr>\n",
       "    <tr>\n",
       "      <th>3</th>\n",
       "      <td>3</td>\n",
       "      <td>bc9f2a4a5c</td>\n",
       "      <td>23</td>\n",
       "      <td>1</td>\n",
       "      <td>8400</td>\n",
       "      <td>2.479900</td>\n",
       "      <td>-1.195938</td>\n",
       "      <td>-0.545192</td>\n",
       "      <td>-0.405637</td>\n",
       "      <td>-0.374263</td>\n",
       "      <td>0.052177</td>\n",
       "      <td>1.254283</td>\n",
       "      <td>0.629074</td>\n",
       "      <td>-0.155007</td>\n",
       "      <td>-0.131384</td>\n",
       "      <td>1</td>\n",
       "    </tr>\n",
       "    <tr>\n",
       "      <th>4</th>\n",
       "      <td>4</td>\n",
       "      <td>deb8a278df</td>\n",
       "      <td>13</td>\n",
       "      <td>0</td>\n",
       "      <td>8400</td>\n",
       "      <td>-2.122563</td>\n",
       "      <td>0.176458</td>\n",
       "      <td>0.209005</td>\n",
       "      <td>0.432681</td>\n",
       "      <td>-0.118350</td>\n",
       "      <td>0.051837</td>\n",
       "      <td>0.221812</td>\n",
       "      <td>0.352136</td>\n",
       "      <td>0.183198</td>\n",
       "      <td>-0.069776</td>\n",
       "      <td>1</td>\n",
       "    </tr>\n",
       "  </tbody>\n",
       "</table>\n",
       "</div>"
      ],
      "text/plain": [
       "   Unnamed: 0       COMAX  AGE  COSEXE  CTSCPI     PCA-1     PCA-2     PCA-3  \\\n",
       "0           0  6e3a2b9fa1   55       1    4600 -1.619473  0.067995 -0.194275   \n",
       "1           1  1b44a67f61   41       0    4700  1.949925 -1.234185  0.496042   \n",
       "2           2  bdf1f63a98   32       1    3500  0.942095 -1.936260 -0.874105   \n",
       "3           3  bc9f2a4a5c   23       1    8400  2.479900 -1.195938 -0.545192   \n",
       "4           4  deb8a278df   13       0    8400 -2.122563  0.176458  0.209005   \n",
       "\n",
       "      PCA-4     PCA-5     PCA-6     PCA-7     PCA-8     PCA-9    PCA-10  \\\n",
       "0  0.193045  0.966118  0.434827  0.206694 -0.604399 -0.037801 -0.132362   \n",
       "1 -1.358579  0.458379 -0.033977  0.853659  0.798448  0.051425 -0.185002   \n",
       "2  0.548765 -0.028093 -0.185264 -0.685920 -0.305884  0.706565 -0.332662   \n",
       "3 -0.405637 -0.374263  0.052177  1.254283  0.629074 -0.155007 -0.131384   \n",
       "4  0.432681 -0.118350  0.051837  0.221812  0.352136  0.183198 -0.069776   \n",
       "\n",
       "   Cluster  \n",
       "0        0  \n",
       "1        0  \n",
       "2        0  \n",
       "3        1  \n",
       "4        1  "
      ]
     },
     "execution_count": 6,
     "metadata": {},
     "output_type": "execute_result"
    }
   ],
   "source": [
    "temp.head()"
   ]
  },
  {
   "cell_type": "code",
   "execution_count": 16,
   "id": "attractive-accuracy",
   "metadata": {},
   "outputs": [
    {
     "data": {
      "text/plain": [
       "1    315358\n",
       "0    248552\n",
       "Name: Cluster, dtype: int64"
      ]
     },
     "execution_count": 16,
     "metadata": {},
     "output_type": "execute_result"
    }
   ],
   "source": [
    "temp.Cluster.value_counts()"
   ]
  },
  {
   "cell_type": "code",
   "execution_count": 17,
   "id": "aging-iraqi",
   "metadata": {},
   "outputs": [
    {
     "data": {
      "text/plain": [
       "(563910, 16)"
      ]
     },
     "execution_count": 17,
     "metadata": {},
     "output_type": "execute_result"
    }
   ],
   "source": [
    "temp.shape"
   ]
  },
  {
   "cell_type": "code",
   "execution_count": 9,
   "id": "finnish-forwarding",
   "metadata": {},
   "outputs": [
    {
     "data": {
      "text/plain": [
       "<seaborn.axisgrid.FacetGrid at 0x7ff7762d0820>"
      ]
     },
     "execution_count": 9,
     "metadata": {},
     "output_type": "execute_result"
    },
    {
     "data": {
      "image/png": "[encoded data removed]",
      "text/plain": [
       "<Figure size 403.5x360 with 1 Axes>"
      ]
     },
     "metadata": {
      "needs_background": "light"
     },
     "output_type": "display_data"
    }
   ],
   "source": [
    "sns.lmplot(x='AGE', y='COSEXE', data=temp, hue='Cluster',fit_reg=False)"
   ]
  },
  {
   "cell_type": "code",
   "execution_count": 18,
   "id": "central-encounter",
   "metadata": {},
   "outputs": [],
   "source": [
    "temp = pd.read_csv('../cleaned-data/mc-clusters.csv', encoding='iso-8859-1', sep='\\t')"
   ]
  },
  {
   "cell_type": "code",
   "execution_count": 12,
   "id": "elder-species",
   "metadata": {},
   "outputs": [
    {
     "name": "stdout",
     "output_type": "stream",
     "text": [
      "<class 'pandas.core.frame.DataFrame'>\n",
      "RangeIndex: 2745203 entries, 0 to 2745202\n",
      "Data columns (total 15 columns):\n",
      " #   Column      Dtype  \n",
      "---  ------      -----  \n",
      " 0   Unnamed: 0  int64  \n",
      " 1   COMAX       object \n",
      " 2   CTPE        int64  \n",
      " 3   CORELB      int64  \n",
      " 4   PCA-1       float64\n",
      " 5   PCA-2       float64\n",
      " 6   PCA-3       float64\n",
      " 7   PCA-4       float64\n",
      " 8   PCA-5       float64\n",
      " 9   PCA-6       float64\n",
      " 10  PCA-7       float64\n",
      " 11  PCA-8       float64\n",
      " 12  PCA-9       float64\n",
      " 13  PCA-10      float64\n",
      " 14  Cluster     int64  \n",
      "dtypes: float64(10), int64(4), object(1)\n",
      "memory usage: 314.2+ MB\n"
     ]
    }
   ],
   "source": [
    "temp.info()"
   ]
  },
  {
   "cell_type": "code",
   "execution_count": 13,
   "id": "general-james",
   "metadata": {},
   "outputs": [
    {
     "data": {
      "text/plain": [
       "<seaborn.axisgrid.FacetGrid at 0x7ff762cdb880>"
      ]
     },
     "execution_count": 13,
     "metadata": {},
     "output_type": "execute_result"
    },
    {
     "data": {
      "image/png": "[encoded data removed]",
      "text/plain": [
       "<Figure size 403.5x360 with 1 Axes>"
      ]
     },
     "metadata": {
      "needs_background": "light"
     },
     "output_type": "display_data"
    }
   ],
   "source": [
    "sns.lmplot(x='CTPE', y='CORELB', data=temp, hue='Cluster',fit_reg=False)"
   ]
  },
  {
   "cell_type": "code",
   "execution_count": 14,
   "id": "physical-chess",
   "metadata": {},
   "outputs": [
    {
     "data": {
      "text/plain": [
       "1    1373843\n",
       "0    1371360\n",
       "Name: Cluster, dtype: int64"
      ]
     },
     "execution_count": 14,
     "metadata": {},
     "output_type": "execute_result"
    }
   ],
   "source": [
    "temp.Cluster.value_counts()"
   ]
  },
  {
   "cell_type": "code",
   "execution_count": 19,
   "id": "natural-template",
   "metadata": {},
   "outputs": [
    {
     "data": {
      "text/plain": [
       "(2745203, 15)"
      ]
     },
     "execution_count": 19,
     "metadata": {},
     "output_type": "execute_result"
    }
   ],
   "source": [
    "temp.shape"
   ]
  },
  {
   "cell_type": "code",
   "execution_count": null,
   "id": "normal-bridges",
   "metadata": {},
   "outputs": [],
   "source": []
  }
 ],
 "metadata": {
  "kernelspec": {
   "display_name": "Python 3",
   "language": "python",
   "name": "python3"
  },
  "language_info": {
   "codemirror_mode": {
    "name": "ipython",
    "version": 3
   },
   "file_extension": ".py",
   "mimetype": "text/x-python",
   "name": "python",
   "nbconvert_exporter": "python",
   "pygments_lexer": "ipython3",
   "version": "3.8.5"
  }
 },
 "nbformat": 4,
 "nbformat_minor": 5
}
