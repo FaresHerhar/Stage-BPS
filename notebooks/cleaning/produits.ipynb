{
 "cells": [
  {
   "cell_type": "code",
   "execution_count": 67,
   "metadata": {},
   "outputs": [],
   "source": [
    "import pandas as pd\n",
    "import numpy as np"
   ]
  },
  {
   "cell_type": "code",
   "execution_count": 29,
   "metadata": {},
   "outputs": [],
   "source": [
    "df = pd.read_csv(\"data/CatalogueProduit.csv\", encoding=\"ISO-8859-1\", sep=\";\")"
   ]
  },
  {
   "cell_type": "code",
   "execution_count": 30,
   "metadata": {},
   "outputs": [
    {
     "data": {
      "text/plain": [
       "(2801, 14)"
      ]
     },
     "execution_count": 30,
     "metadata": {},
     "output_type": "execute_result"
    }
   ],
   "source": [
    "df.shape"
   ]
  },
  {
   "cell_type": "code",
   "execution_count": 31,
   "metadata": {},
   "outputs": [
    {
     "name": "stdout",
     "output_type": "stream",
     "text": [
      "<class 'pandas.core.frame.DataFrame'>\n",
      "RangeIndex: 2801 entries, 0 to 2800\n",
      "Data columns (total 14 columns):\n",
      " #   Column  Non-Null Count  Dtype \n",
      "---  ------  --------------  ----- \n",
      " 0   COPRO   2801 non-null   object\n",
      " 1   LIPRLG  2342 non-null   object\n",
      " 2   CTENSI  2801 non-null   object\n",
      " 3   COPRID  2801 non-null   object\n",
      " 4   COPROG  2801 non-null   object\n",
      " 5   LIPRO   2342 non-null   object\n",
      " 6   COPRG1  2801 non-null   object\n",
      " 7   LIPRG1  2800 non-null   object\n",
      " 8   COPRG2  2801 non-null   object\n",
      " 9   LIPRG2  2800 non-null   object\n",
      " 10  COPRG3  2801 non-null   object\n",
      " 11  LIPRG3  2800 non-null   object\n",
      " 12  COPRG4  2801 non-null   object\n",
      " 13  LIPRG4  2800 non-null   object\n",
      "dtypes: object(14)\n",
      "memory usage: 306.5+ KB\n"
     ]
    }
   ],
   "source": [
    "df.info()"
   ]
  },
  {
   "cell_type": "code",
   "execution_count": 32,
   "metadata": {},
   "outputs": [
    {
     "data": {
      "text/html": [
       "<div>\n",
       "<style scoped>\n",
       "    .dataframe tbody tr th:only-of-type {\n",
       "        vertical-align: middle;\n",
       "    }\n",
       "\n",
       "    .dataframe tbody tr th {\n",
       "        vertical-align: top;\n",
       "    }\n",
       "\n",
       "    .dataframe thead th {\n",
       "        text-align: right;\n",
       "    }\n",
       "</style>\n",
       "<table border=\"1\" class=\"dataframe\">\n",
       "  <thead>\n",
       "    <tr style=\"text-align: right;\">\n",
       "      <th></th>\n",
       "      <th>COPRO</th>\n",
       "      <th>LIPRLG</th>\n",
       "      <th>CTENSI</th>\n",
       "      <th>COPRID</th>\n",
       "      <th>COPROG</th>\n",
       "      <th>LIPRO</th>\n",
       "      <th>COPRG1</th>\n",
       "      <th>LIPRG1</th>\n",
       "      <th>COPRG2</th>\n",
       "      <th>LIPRG2</th>\n",
       "      <th>COPRG3</th>\n",
       "      <th>LIPRG3</th>\n",
       "      <th>COPRG4</th>\n",
       "      <th>LIPRG4</th>\n",
       "    </tr>\n",
       "  </thead>\n",
       "  <tbody>\n",
       "    <tr>\n",
       "      <th>0</th>\n",
       "      <td>07018</td>\n",
       "      <td>FREQUENCE PRO STOCK OUEST SOCIETE</td>\n",
       "      <td>CNV</td>\n",
       "      <td>0000005</td>\n",
       "      <td>I1221</td>\n",
       "      <td>CONV FREQ PRO</td>\n",
       "      <td>I0000</td>\n",
       "      <td>SERVICES BANCAIRES</td>\n",
       "      <td>I1000</td>\n",
       "      <td>CONVENTIONS</td>\n",
       "      <td>I1200</td>\n",
       "      <td>CONVENTIONS DE RELATION</td>\n",
       "      <td>I1220</td>\n",
       "      <td>CONVENTIONS PROFESSIONNELS</td>\n",
       "    </tr>\n",
       "  </tbody>\n",
       "</table>\n",
       "</div>"
      ],
      "text/plain": [
       "   COPRO                             LIPRLG CTENSI   COPRID COPROG  \\\n",
       "0  07018  FREQUENCE PRO STOCK OUEST SOCIETE    CNV  0000005  I1221   \n",
       "\n",
       "           LIPRO COPRG1              LIPRG1 COPRG2       LIPRG2 COPRG3  \\\n",
       "0  CONV FREQ PRO  I0000  SERVICES BANCAIRES  I1000  CONVENTIONS  I1200   \n",
       "\n",
       "                    LIPRG3 COPRG4                      LIPRG4  \n",
       "0  CONVENTIONS DE RELATION  I1220  CONVENTIONS PROFESSIONNELS  "
      ]
     },
     "execution_count": 32,
     "metadata": {},
     "output_type": "execute_result"
    }
   ],
   "source": [
    "df.head(n=1)"
   ]
  },
  {
   "cell_type": "code",
   "execution_count": 35,
   "metadata": {},
   "outputs": [
    {
     "data": {
      "text/plain": [
       "2343"
      ]
     },
     "execution_count": 35,
     "metadata": {},
     "output_type": "execute_result"
    }
   ],
   "source": [
    "df[\"COPRO\"].nunique()"
   ]
  },
  {
   "cell_type": "code",
   "execution_count": 36,
   "metadata": {},
   "outputs": [
    {
     "data": {
      "text/plain": [
       "915"
      ]
     },
     "execution_count": 36,
     "metadata": {},
     "output_type": "execute_result"
    }
   ],
   "source": [
    "df[\"COPROG\"].nunique()"
   ]
  },
  {
   "cell_type": "code",
   "execution_count": 37,
   "metadata": {},
   "outputs": [
    {
     "data": {
      "text/plain": [
       "array(['FREQUENCE PRO STOCK OUEST SOCIETE', 'FREQUENCE LIBERALE BPS',\n",
       "       'FREQUENCE PRO 2 STOCK BPPOAA', ..., 'FR SELECTION CAPI',\n",
       "       'EFFETS A PAYER', 'Carte Visa business Electron'], dtype=object)"
      ]
     },
     "execution_count": 37,
     "metadata": {},
     "output_type": "execute_result"
    }
   ],
   "source": [
    "df[\"LIPRLG\"].unique()"
   ]
  },
  {
   "cell_type": "code",
   "execution_count": 47,
   "metadata": {},
   "outputs": [
    {
     "name": "stdout",
     "output_type": "stream",
     "text": [
      "CB_FI\n",
      "     \n"
     ]
    }
   ],
   "source": [
    "for i in df['COPRO'].unique():\n",
    "    if not i.isdigit():\n",
    "        print(i)"
   ]
  },
  {
   "cell_type": "code",
   "execution_count": 60,
   "metadata": {},
   "outputs": [
    {
     "data": {
      "text/html": [
       "<div>\n",
       "<style scoped>\n",
       "    .dataframe tbody tr th:only-of-type {\n",
       "        vertical-align: middle;\n",
       "    }\n",
       "\n",
       "    .dataframe tbody tr th {\n",
       "        vertical-align: top;\n",
       "    }\n",
       "\n",
       "    .dataframe thead th {\n",
       "        text-align: right;\n",
       "    }\n",
       "</style>\n",
       "<table border=\"1\" class=\"dataframe\">\n",
       "  <thead>\n",
       "    <tr style=\"text-align: right;\">\n",
       "      <th></th>\n",
       "      <th>COPRO</th>\n",
       "      <th>LIPRLG</th>\n",
       "      <th>CTENSI</th>\n",
       "      <th>COPRID</th>\n",
       "      <th>COPROG</th>\n",
       "      <th>LIPRO</th>\n",
       "      <th>COPRG1</th>\n",
       "      <th>LIPRG1</th>\n",
       "      <th>COPRG2</th>\n",
       "      <th>LIPRG2</th>\n",
       "      <th>COPRG3</th>\n",
       "      <th>LIPRG3</th>\n",
       "      <th>COPRG4</th>\n",
       "      <th>LIPRG4</th>\n",
       "    </tr>\n",
       "  </thead>\n",
       "  <tbody>\n",
       "  </tbody>\n",
       "</table>\n",
       "</div>"
      ],
      "text/plain": [
       "Empty DataFrame\n",
       "Columns: [COPRO, LIPRLG, CTENSI, COPRID, COPROG, LIPRO, COPRG1, LIPRG1, COPRG2, LIPRG2, COPRG3, LIPRG3, COPRG4, LIPRG4]\n",
       "Index: []"
      ]
     },
     "execution_count": 60,
     "metadata": {},
     "output_type": "execute_result"
    }
   ],
   "source": [
    "df[df.COPRO == 'CB_FI']"
   ]
  },
  {
   "cell_type": "code",
   "execution_count": 54,
   "metadata": {},
   "outputs": [],
   "source": [
    "df = df.drop(df.index[1270])"
   ]
  },
  {
   "cell_type": "code",
   "execution_count": 55,
   "metadata": {},
   "outputs": [
    {
     "data": {
      "text/html": [
       "<div>\n",
       "<style scoped>\n",
       "    .dataframe tbody tr th:only-of-type {\n",
       "        vertical-align: middle;\n",
       "    }\n",
       "\n",
       "    .dataframe tbody tr th {\n",
       "        vertical-align: top;\n",
       "    }\n",
       "\n",
       "    .dataframe thead th {\n",
       "        text-align: right;\n",
       "    }\n",
       "</style>\n",
       "<table border=\"1\" class=\"dataframe\">\n",
       "  <thead>\n",
       "    <tr style=\"text-align: right;\">\n",
       "      <th></th>\n",
       "      <th>COPRO</th>\n",
       "      <th>LIPRLG</th>\n",
       "      <th>CTENSI</th>\n",
       "      <th>COPRID</th>\n",
       "      <th>COPROG</th>\n",
       "      <th>LIPRO</th>\n",
       "      <th>COPRG1</th>\n",
       "      <th>LIPRG1</th>\n",
       "      <th>COPRG2</th>\n",
       "      <th>LIPRG2</th>\n",
       "      <th>COPRG3</th>\n",
       "      <th>LIPRG3</th>\n",
       "      <th>COPRG4</th>\n",
       "      <th>LIPRG4</th>\n",
       "    </tr>\n",
       "  </thead>\n",
       "  <tbody>\n",
       "  </tbody>\n",
       "</table>\n",
       "</div>"
      ],
      "text/plain": [
       "Empty DataFrame\n",
       "Columns: [COPRO, LIPRLG, CTENSI, COPRID, COPROG, LIPRO, COPRG1, LIPRG1, COPRG2, LIPRG2, COPRG3, LIPRG3, COPRG4, LIPRG4]\n",
       "Index: []"
      ]
     },
     "execution_count": 55,
     "metadata": {},
     "output_type": "execute_result"
    }
   ],
   "source": [
    "df[df.COPRO == 'CB_FI']"
   ]
  },
  {
   "cell_type": "code",
   "execution_count": 56,
   "metadata": {},
   "outputs": [
    {
     "data": {
      "text/plain": [
       "(2800, 14)"
      ]
     },
     "execution_count": 56,
     "metadata": {},
     "output_type": "execute_result"
    }
   ],
   "source": [
    "df.shape"
   ]
  },
  {
   "cell_type": "code",
   "execution_count": 61,
   "metadata": {},
   "outputs": [],
   "source": [
    "#df['COPRO'].astype(int)"
   ]
  },
  {
   "cell_type": "code",
   "execution_count": 78,
   "metadata": {},
   "outputs": [],
   "source": [
    "lol = list()\n",
    "for i in df['COPRO'].unique():\n",
    "    if not i.isdigit():\n",
    "        lol.append(i)"
   ]
  },
  {
   "cell_type": "code",
   "execution_count": 80,
   "metadata": {},
   "outputs": [],
   "source": [
    "df['COPRO'].replace(lol, np.nan, inplace=True)"
   ]
  },
  {
   "cell_type": "code",
   "execution_count": 81,
   "metadata": {},
   "outputs": [],
   "source": [
    "df['COPROG'].replace(lol, np.nan, inplace=True)"
   ]
  },
  {
   "cell_type": "code",
   "execution_count": 82,
   "metadata": {},
   "outputs": [],
   "source": [
    "df.dropna(subset=['COPRO'], inplace=True)\n",
    "df.dropna(subset=['COPROG'], inplace=True)"
   ]
  },
  {
   "cell_type": "code",
   "execution_count": 83,
   "metadata": {},
   "outputs": [
    {
     "data": {
      "text/plain": [
       "(2341, 14)"
      ]
     },
     "execution_count": 83,
     "metadata": {},
     "output_type": "execute_result"
    }
   ],
   "source": [
    "df.shape"
   ]
  },
  {
   "cell_type": "code",
   "execution_count": 87,
   "metadata": {},
   "outputs": [
    {
     "data": {
      "text/plain": [
       "0        7018\n",
       "1        2116\n",
       "2        2019\n",
       "3        2115\n",
       "4        2018\n",
       "        ...  \n",
       "2796     7614\n",
       "2797    74291\n",
       "2798      692\n",
       "2799      653\n",
       "2800      872\n",
       "Name: COPRO, Length: 2341, dtype: int64"
      ]
     },
     "execution_count": 87,
     "metadata": {},
     "output_type": "execute_result"
    }
   ],
   "source": [
    "df['COPRO'].astype(int)"
   ]
  },
  {
   "cell_type": "code",
   "execution_count": 88,
   "metadata": {},
   "outputs": [],
   "source": [
    "df[[\"COPRO\", \"COPROG\"]].to_csv(\"products.csv\", index=False, sep=\"\\t\")"
   ]
  },
  {
   "cell_type": "code",
   "execution_count": 89,
   "metadata": {},
   "outputs": [],
   "source": [
    "shit = pd.read_csv(\"products.csv\", encoding=\"ISO-8859-1\", sep=\"\\t\")"
   ]
  },
  {
   "cell_type": "code",
   "execution_count": 90,
   "metadata": {},
   "outputs": [
    {
     "name": "stdout",
     "output_type": "stream",
     "text": [
      "<class 'pandas.core.frame.DataFrame'>\n",
      "RangeIndex: 2341 entries, 0 to 2340\n",
      "Data columns (total 2 columns):\n",
      " #   Column  Non-Null Count  Dtype \n",
      "---  ------  --------------  ----- \n",
      " 0   COPRO   2341 non-null   int64 \n",
      " 1   COPROG  2341 non-null   object\n",
      "dtypes: int64(1), object(1)\n",
      "memory usage: 36.7+ KB\n"
     ]
    }
   ],
   "source": [
    "shit.info()"
   ]
  },
  {
   "cell_type": "code",
   "execution_count": null,
   "metadata": {},
   "outputs": [],
   "source": []
  }
 ],
 "metadata": {
  "kernelspec": {
   "display_name": "Python 3",
   "language": "python",
   "name": "python3"
  },
  "language_info": {
   "codemirror_mode": {
    "name": "ipython",
    "version": 3
   },
   "file_extension": ".py",
   "mimetype": "text/x-python",
   "name": "python",
   "nbconvert_exporter": "python",
   "pygments_lexer": "ipython3",
   "version": "3.8.5"
  }
 },
 "nbformat": 4,
 "nbformat_minor": 2
}
