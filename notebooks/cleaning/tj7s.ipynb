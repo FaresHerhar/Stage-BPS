{
 "metadata": {
  "language_info": {
   "codemirror_mode": {
    "name": "ipython",
    "version": 3
   },
   "file_extension": ".py",
   "mimetype": "text/x-python",
   "name": "python",
   "nbconvert_exporter": "python",
   "pygments_lexer": "ipython3",
   "version": "3.6.9-final"
  },
  "orig_nbformat": 2,
  "kernelspec": {
   "name": "python3",
   "display_name": "Python 3",
   "language": "python"
  }
 },
 "nbformat": 4,
 "nbformat_minor": 2,
 "cells": [
  {
   "cell_type": "code",
   "execution_count": 1,
   "metadata": {},
   "outputs": [],
   "source": [
    "import pandas as pd"
   ]
  },
  {
   "cell_type": "code",
   "execution_count": 4,
   "metadata": {},
   "outputs": [],
   "source": [
    "df = pd.read_csv(\"data/tj7s-sample.csv\", encoding=\"ISO-8859-1\", sep=\";\")"
   ]
  },
  {
   "cell_type": "code",
   "execution_count": 6,
   "metadata": {},
   "outputs": [
    {
     "output_type": "execute_result",
     "data": {
      "text/plain": [
       "(9, 12)"
      ]
     },
     "metadata": {},
     "execution_count": 6
    }
   ],
   "source": [
    "df.shape"
   ]
  },
  {
   "cell_type": "code",
   "execution_count": 7,
   "metadata": {},
   "outputs": [
    {
     "output_type": "stream",
     "name": "stdout",
     "text": [
      "<class 'pandas.core.frame.DataFrame'>\nRangeIndex: 9 entries, 0 to 8\nData columns (total 12 columns):\n #   Column  Non-Null Count  Dtype \n---  ------  --------------  ----- \n 0   COCO    9 non-null      object\n 1   COMAX   9 non-null      object\n 2   DDCO    9 non-null      object\n 3   DFCO    9 non-null      object\n 4   DACOEF  9 non-null      object\n 5   DFCORE  9 non-null      object\n 6   COPRO   9 non-null      int64 \n 7   CTCOOV  9 non-null      int64 \n 8   CTCOCL  9 non-null      object\n 9   DDVALE  9 non-null      object\n 10  DFVALE  9 non-null      object\n 11  CESITC  9 non-null      int64 \ndtypes: int64(3), object(9)\nmemory usage: 992.0+ bytes\n"
     ]
    }
   ],
   "source": [
    "df.info()"
   ]
  },
  {
   "cell_type": "code",
   "execution_count": 9,
   "metadata": {},
   "outputs": [
    {
     "output_type": "execute_result",
     "data": {
      "text/plain": [
       "            COCO       COMAX        DDCO        DFCO      DACOEF      DFCORE  \\\n",
       "0  5856256c8621c  a4375be9c2  2018-02-15  9999-12-31  2018-02-15  9999-12-31   \n",
       "1  43e166b8ec1bf  ac68753a67  2016-01-22  9999-12-31  2016-01-22  9999-12-31   \n",
       "2  a33abb28b2dd1  e78af2a187  2015-08-19  9999-12-31  2015-08-19  9999-12-31   \n",
       "3  5923b9ac46620  730c4c47c5  2017-12-15  9999-12-31  2017-12-15  9999-12-31   \n",
       "4  b943bf9d03817  e31986ce26  2012-09-12  9999-12-31  2012-09-12  9999-12-31   \n",
       "\n",
       "   COPRO  CTCOOV CTCOCL      DDVALE      DFVALE  CESITC  \n",
       "0     49       0         2018-02-15  9999-01-01       1  \n",
       "1     49       0         2016-01-22  9999-01-01       1  \n",
       "2     49       0         2015-08-19  9999-01-01       1  \n",
       "3     49       0         2017-12-15  9999-01-01       1  \n",
       "4     49       0         2012-09-12  9999-01-01       1  "
      ],
      "text/html": "<div>\n<style scoped>\n    .dataframe tbody tr th:only-of-type {\n        vertical-align: middle;\n    }\n\n    .dataframe tbody tr th {\n        vertical-align: top;\n    }\n\n    .dataframe thead th {\n        text-align: right;\n    }\n</style>\n<table border=\"1\" class=\"dataframe\">\n  <thead>\n    <tr style=\"text-align: right;\">\n      <th></th>\n      <th>COCO</th>\n      <th>COMAX</th>\n      <th>DDCO</th>\n      <th>DFCO</th>\n      <th>DACOEF</th>\n      <th>DFCORE</th>\n      <th>COPRO</th>\n      <th>CTCOOV</th>\n      <th>CTCOCL</th>\n      <th>DDVALE</th>\n      <th>DFVALE</th>\n      <th>CESITC</th>\n    </tr>\n  </thead>\n  <tbody>\n    <tr>\n      <th>0</th>\n      <td>5856256c8621c</td>\n      <td>a4375be9c2</td>\n      <td>2018-02-15</td>\n      <td>9999-12-31</td>\n      <td>2018-02-15</td>\n      <td>9999-12-31</td>\n      <td>49</td>\n      <td>0</td>\n      <td></td>\n      <td>2018-02-15</td>\n      <td>9999-01-01</td>\n      <td>1</td>\n    </tr>\n    <tr>\n      <th>1</th>\n      <td>43e166b8ec1bf</td>\n      <td>ac68753a67</td>\n      <td>2016-01-22</td>\n      <td>9999-12-31</td>\n      <td>2016-01-22</td>\n      <td>9999-12-31</td>\n      <td>49</td>\n      <td>0</td>\n      <td></td>\n      <td>2016-01-22</td>\n      <td>9999-01-01</td>\n      <td>1</td>\n    </tr>\n    <tr>\n      <th>2</th>\n      <td>a33abb28b2dd1</td>\n      <td>e78af2a187</td>\n      <td>2015-08-19</td>\n      <td>9999-12-31</td>\n      <td>2015-08-19</td>\n      <td>9999-12-31</td>\n      <td>49</td>\n      <td>0</td>\n      <td></td>\n      <td>2015-08-19</td>\n      <td>9999-01-01</td>\n      <td>1</td>\n    </tr>\n    <tr>\n      <th>3</th>\n      <td>5923b9ac46620</td>\n      <td>730c4c47c5</td>\n      <td>2017-12-15</td>\n      <td>9999-12-31</td>\n      <td>2017-12-15</td>\n      <td>9999-12-31</td>\n      <td>49</td>\n      <td>0</td>\n      <td></td>\n      <td>2017-12-15</td>\n      <td>9999-01-01</td>\n      <td>1</td>\n    </tr>\n    <tr>\n      <th>4</th>\n      <td>b943bf9d03817</td>\n      <td>e31986ce26</td>\n      <td>2012-09-12</td>\n      <td>9999-12-31</td>\n      <td>2012-09-12</td>\n      <td>9999-12-31</td>\n      <td>49</td>\n      <td>0</td>\n      <td></td>\n      <td>2012-09-12</td>\n      <td>9999-01-01</td>\n      <td>1</td>\n    </tr>\n  </tbody>\n</table>\n</div>"
     },
     "metadata": {},
     "execution_count": 9
    }
   ],
   "source": [
    "df.head()"
   ]
  },
  {
   "cell_type": "code",
   "execution_count": null,
   "metadata": {},
   "outputs": [],
   "source": []
  }
 ]
}