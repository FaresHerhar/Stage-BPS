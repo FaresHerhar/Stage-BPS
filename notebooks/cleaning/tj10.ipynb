{
 "cells": [
  {
   "cell_type": "code",
   "execution_count": 18,
   "metadata": {},
   "outputs": [],
   "source": [
    "import pandas as pd\n",
    "import numpy as np"
   ]
  },
  {
   "cell_type": "code",
   "execution_count": 12,
   "metadata": {},
   "outputs": [],
   "source": [
    "df = pd.read_csv(\"data/tj10.csv\", sep=\";\")"
   ]
  },
  {
   "cell_type": "code",
   "execution_count": 13,
   "metadata": {},
   "outputs": [
    {
     "data": {
      "text/plain": [
       "(60, 5)"
      ]
     },
     "execution_count": 13,
     "metadata": {},
     "output_type": "execute_result"
    }
   ],
   "source": [
    "df.shape"
   ]
  },
  {
   "cell_type": "code",
   "execution_count": 14,
   "metadata": {},
   "outputs": [
    {
     "name": "stdout",
     "output_type": "stream",
     "text": [
      "<class 'pandas.core.frame.DataFrame'>\n",
      "RangeIndex: 60 entries, 0 to 59\n",
      "Data columns (total 5 columns):\n",
      " #   Column  Non-Null Count  Dtype \n",
      "---  ------  --------------  ----- \n",
      " 0   CTSCPI  60 non-null     int64 \n",
      " 1   LISCPI  60 non-null     object\n",
      " 2   CESITC  60 non-null     int64 \n",
      " 3   DDVALE  60 non-null     object\n",
      " 4   DFVALE  60 non-null     object\n",
      "dtypes: int64(2), object(3)\n",
      "memory usage: 2.5+ KB\n"
     ]
    }
   ],
   "source": [
    "df.info()"
   ]
  },
  {
   "cell_type": "code",
   "execution_count": 15,
   "metadata": {},
   "outputs": [
    {
     "data": {
      "text/html": [
       "<div>\n",
       "<style scoped>\n",
       "    .dataframe tbody tr th:only-of-type {\n",
       "        vertical-align: middle;\n",
       "    }\n",
       "\n",
       "    .dataframe tbody tr th {\n",
       "        vertical-align: top;\n",
       "    }\n",
       "\n",
       "    .dataframe thead th {\n",
       "        text-align: right;\n",
       "    }\n",
       "</style>\n",
       "<table border=\"1\" class=\"dataframe\">\n",
       "  <thead>\n",
       "    <tr style=\"text-align: right;\">\n",
       "      <th></th>\n",
       "      <th>CTSCPI</th>\n",
       "      <th>LISCPI</th>\n",
       "      <th>CESITC</th>\n",
       "      <th>DDVALE</th>\n",
       "      <th>DFVALE</th>\n",
       "    </tr>\n",
       "  </thead>\n",
       "  <tbody>\n",
       "    <tr>\n",
       "      <th>0</th>\n",
       "      <td>6600</td>\n",
       "      <td>OUVRIERS NON QUALITES</td>\n",
       "      <td>1</td>\n",
       "      <td>2006-11-03</td>\n",
       "      <td>9999-01-01</td>\n",
       "    </tr>\n",
       "    <tr>\n",
       "      <th>1</th>\n",
       "      <td>6100</td>\n",
       "      <td>OUVRIER QUALIFIE</td>\n",
       "      <td>1</td>\n",
       "      <td>2006-11-03</td>\n",
       "      <td>9999-01-01</td>\n",
       "    </tr>\n",
       "    <tr>\n",
       "      <th>2</th>\n",
       "      <td>8200</td>\n",
       "      <td>INACTIFS DIVERS NON RETRAITES</td>\n",
       "      <td>1</td>\n",
       "      <td>2006-11-03</td>\n",
       "      <td>9999-01-01</td>\n",
       "    </tr>\n",
       "    <tr>\n",
       "      <th>3</th>\n",
       "      <td>1300</td>\n",
       "      <td>AGRICULTEUR GRANDE EXPLOITATION</td>\n",
       "      <td>1</td>\n",
       "      <td>2006-11-03</td>\n",
       "      <td>9999-01-01</td>\n",
       "    </tr>\n",
       "    <tr>\n",
       "      <th>4</th>\n",
       "      <td>6500</td>\n",
       "      <td>OUV QUAL MANUT MAGASIN TRANSPORT</td>\n",
       "      <td>1</td>\n",
       "      <td>2006-11-03</td>\n",
       "      <td>9999-01-01</td>\n",
       "    </tr>\n",
       "  </tbody>\n",
       "</table>\n",
       "</div>"
      ],
      "text/plain": [
       "   CTSCPI                            LISCPI  CESITC      DDVALE      DFVALE\n",
       "0    6600  OUVRIERS NON QUALITES                  1  2006-11-03  9999-01-01\n",
       "1    6100  OUVRIER QUALIFIE                       1  2006-11-03  9999-01-01\n",
       "2    8200  INACTIFS DIVERS NON RETRAITES          1  2006-11-03  9999-01-01\n",
       "3    1300  AGRICULTEUR GRANDE EXPLOITATION        1  2006-11-03  9999-01-01\n",
       "4    6500  OUV QUAL MANUT MAGASIN TRANSPORT       1  2006-11-03  9999-01-01"
      ]
     },
     "execution_count": 15,
     "metadata": {},
     "output_type": "execute_result"
    }
   ],
   "source": [
    "df.head()"
   ]
  },
  {
   "cell_type": "code",
   "execution_count": 16,
   "metadata": {},
   "outputs": [
    {
     "data": {
      "text/plain": [
       "60"
      ]
     },
     "execution_count": 16,
     "metadata": {},
     "output_type": "execute_result"
    }
   ],
   "source": [
    "df.CTSCPI.nunique()"
   ]
  },
  {
   "cell_type": "code",
   "execution_count": 17,
   "metadata": {},
   "outputs": [
    {
     "data": {
      "text/plain": [
       "60"
      ]
     },
     "execution_count": 17,
     "metadata": {},
     "output_type": "execute_result"
    }
   ],
   "source": [
    "df.LISCPI.nunique()"
   ]
  },
  {
   "cell_type": "code",
   "execution_count": 19,
   "metadata": {},
   "outputs": [],
   "source": [
    "df['CTSCPI'].replace(0, np.nan, inplace=True)"
   ]
  },
  {
   "cell_type": "code",
   "execution_count": 21,
   "metadata": {},
   "outputs": [],
   "source": [
    "df.dropna(subset=['CTSCPI'], inplace=True)"
   ]
  },
  {
   "cell_type": "code",
   "execution_count": 24,
   "metadata": {},
   "outputs": [
    {
     "data": {
      "text/plain": [
       "array([6600, 6100, 8200, 1300, 6500, 8300, 2300, 8600, 4000, 6800, 3200,\n",
       "       4300, 4200, 2000, 3000, 4800, 7700, 5300, 4500, 3300, 2100, 7200,\n",
       "       7300, 4700, 4400, 3800, 6200, 1100, 3600, 5600, 7800, 5200, 8000,\n",
       "       8400, 3400, 4100, 7500, 3700, 6300, 5000, 4600, 8100, 7100, 3500,\n",
       "       6900, 3100, 5500, 2200, 8500, 1200, 6400, 6000, 5100, 7400, 6700,\n",
       "       1000, 7600, 5400, 7000])"
      ]
     },
     "execution_count": 24,
     "metadata": {},
     "output_type": "execute_result"
    }
   ],
   "source": [
    "df[\"CTSCPI\"] = df[\"CTSCPI\"].astype(int)\n",
    "df.CTSCPI.unique()"
   ]
  },
  {
   "cell_type": "code",
   "execution_count": 27,
   "metadata": {},
   "outputs": [],
   "source": [
    "df[[\"CTSCPI\", \"LISCPI\"]].to_csv(\"insee-codes.csv\", index=False, sep=\"\\t\")"
   ]
  },
  {
   "cell_type": "code",
   "execution_count": null,
   "metadata": {},
   "outputs": [],
   "source": []
  }
 ],
 "metadata": {
  "kernelspec": {
   "display_name": "Python 3",
   "language": "python",
   "name": "python3"
  },
  "language_info": {
   "codemirror_mode": {
    "name": "ipython",
    "version": 3
   },
   "file_extension": ".py",
   "mimetype": "text/x-python",
   "name": "python",
   "nbconvert_exporter": "python",
   "pygments_lexer": "ipython3",
   "version": "3.8.5"
  }
 },
 "nbformat": 4,
 "nbformat_minor": 2
}
