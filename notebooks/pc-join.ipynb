{
 "cells": [
  {
   "cell_type": "code",
   "execution_count": 1,
   "id": "immediate-robinson",
   "metadata": {},
   "outputs": [],
   "source": [
    "import pandas as pd\n",
    "import numpy as np"
   ]
  },
  {
   "cell_type": "code",
   "execution_count": 4,
   "id": "prescription-learning",
   "metadata": {},
   "outputs": [],
   "source": [
    "pca = pd.read_csv('../cleaned-data/production/PCA-data.csv', encoding='iso-8859-1', sep='\\t')\n",
    "clients = pd.read_csv('../cleaned-data/cleaned/physical-clients.csv', encoding='iso-8859-1', sep='\\t')"
   ]
  },
  {
   "cell_type": "code",
   "execution_count": 6,
   "id": "documented-application",
   "metadata": {},
   "outputs": [
    {
     "name": "stdout",
     "output_type": "stream",
     "text": [
      "<class 'pandas.core.frame.DataFrame'>\n",
      "RangeIndex: 570180 entries, 0 to 570179\n",
      "Data columns (total 5 columns):\n",
      " #   Column  Non-Null Count   Dtype  \n",
      "---  ------  --------------   -----  \n",
      " 0   COMAX   570180 non-null  object \n",
      " 1   PCA-1   570180 non-null  float64\n",
      " 2   PCA-2   570180 non-null  float64\n",
      " 3   PCA-3   570180 non-null  float64\n",
      " 4   PCA-4   570180 non-null  float64\n",
      "dtypes: float64(4), object(1)\n",
      "memory usage: 21.8+ MB\n"
     ]
    }
   ],
   "source": [
    "pca.info()"
   ]
  },
  {
   "cell_type": "code",
   "execution_count": 7,
   "id": "ordinary-snapshot",
   "metadata": {},
   "outputs": [
    {
     "name": "stdout",
     "output_type": "stream",
     "text": [
      "<class 'pandas.core.frame.DataFrame'>\n",
      "RangeIndex: 833701 entries, 0 to 833700\n",
      "Data columns (total 4 columns):\n",
      " #   Column  Non-Null Count   Dtype \n",
      "---  ------  --------------   ----- \n",
      " 0   COMAX   833701 non-null  object\n",
      " 1   AGE     833701 non-null  int64 \n",
      " 2   COSEXE  833701 non-null  int64 \n",
      " 3   CTSCPI  833701 non-null  int64 \n",
      "dtypes: int64(3), object(1)\n",
      "memory usage: 25.4+ MB\n"
     ]
    }
   ],
   "source": [
    "clients.info()"
   ]
  },
  {
   "cell_type": "code",
   "execution_count": 8,
   "id": "leading-surgery",
   "metadata": {},
   "outputs": [
    {
     "data": {
      "text/html": [
       "<div>\n",
       "<style scoped>\n",
       "    .dataframe tbody tr th:only-of-type {\n",
       "        vertical-align: middle;\n",
       "    }\n",
       "\n",
       "    .dataframe tbody tr th {\n",
       "        vertical-align: top;\n",
       "    }\n",
       "\n",
       "    .dataframe thead th {\n",
       "        text-align: right;\n",
       "    }\n",
       "</style>\n",
       "<table border=\"1\" class=\"dataframe\">\n",
       "  <thead>\n",
       "    <tr style=\"text-align: right;\">\n",
       "      <th></th>\n",
       "      <th>COMAX</th>\n",
       "      <th>AGE</th>\n",
       "      <th>COSEXE</th>\n",
       "      <th>CTSCPI</th>\n",
       "    </tr>\n",
       "  </thead>\n",
       "  <tbody>\n",
       "    <tr>\n",
       "      <th>0</th>\n",
       "      <td>6e3a2b9fa1</td>\n",
       "      <td>55</td>\n",
       "      <td>1</td>\n",
       "      <td>4600</td>\n",
       "    </tr>\n",
       "    <tr>\n",
       "      <th>1</th>\n",
       "      <td>1b44a67f61</td>\n",
       "      <td>41</td>\n",
       "      <td>0</td>\n",
       "      <td>4700</td>\n",
       "    </tr>\n",
       "  </tbody>\n",
       "</table>\n",
       "</div>"
      ],
      "text/plain": [
       "        COMAX  AGE  COSEXE  CTSCPI\n",
       "0  6e3a2b9fa1   55       1    4600\n",
       "1  1b44a67f61   41       0    4700"
      ]
     },
     "execution_count": 8,
     "metadata": {},
     "output_type": "execute_result"
    }
   ],
   "source": [
    "clients.head(n=2)"
   ]
  },
  {
   "cell_type": "code",
   "execution_count": 12,
   "id": "flexible-montgomery",
   "metadata": {},
   "outputs": [],
   "source": [
    "data = pd.merge(clients,pca,on='COMAX',how='left')"
   ]
  },
  {
   "cell_type": "code",
   "execution_count": 13,
   "id": "affected-brooks",
   "metadata": {},
   "outputs": [
    {
     "name": "stdout",
     "output_type": "stream",
     "text": [
      "<class 'pandas.core.frame.DataFrame'>\n",
      "Int64Index: 833701 entries, 0 to 833700\n",
      "Data columns (total 8 columns):\n",
      " #   Column  Non-Null Count   Dtype  \n",
      "---  ------  --------------   -----  \n",
      " 0   COMAX   833701 non-null  object \n",
      " 1   AGE     833701 non-null  int64  \n",
      " 2   COSEXE  833701 non-null  int64  \n",
      " 3   CTSCPI  833701 non-null  int64  \n",
      " 4   PCA-1   563910 non-null  float64\n",
      " 5   PCA-2   563910 non-null  float64\n",
      " 6   PCA-3   563910 non-null  float64\n",
      " 7   PCA-4   563910 non-null  float64\n",
      "dtypes: float64(4), int64(3), object(1)\n",
      "memory usage: 57.2+ MB\n"
     ]
    }
   ],
   "source": [
    "data.info()"
   ]
  },
  {
   "cell_type": "code",
   "execution_count": 14,
   "id": "specialized-senator",
   "metadata": {},
   "outputs": [
    {
     "data": {
      "text/html": [
       "<div>\n",
       "<style scoped>\n",
       "    .dataframe tbody tr th:only-of-type {\n",
       "        vertical-align: middle;\n",
       "    }\n",
       "\n",
       "    .dataframe tbody tr th {\n",
       "        vertical-align: top;\n",
       "    }\n",
       "\n",
       "    .dataframe thead th {\n",
       "        text-align: right;\n",
       "    }\n",
       "</style>\n",
       "<table border=\"1\" class=\"dataframe\">\n",
       "  <thead>\n",
       "    <tr style=\"text-align: right;\">\n",
       "      <th></th>\n",
       "      <th>COMAX</th>\n",
       "      <th>AGE</th>\n",
       "      <th>COSEXE</th>\n",
       "      <th>CTSCPI</th>\n",
       "      <th>PCA-1</th>\n",
       "      <th>PCA-2</th>\n",
       "      <th>PCA-3</th>\n",
       "      <th>PCA-4</th>\n",
       "    </tr>\n",
       "  </thead>\n",
       "  <tbody>\n",
       "    <tr>\n",
       "      <th>0</th>\n",
       "      <td>6e3a2b9fa1</td>\n",
       "      <td>55</td>\n",
       "      <td>1</td>\n",
       "      <td>4600</td>\n",
       "      <td>-1.619473</td>\n",
       "      <td>0.067995</td>\n",
       "      <td>-0.194275</td>\n",
       "      <td>0.193045</td>\n",
       "    </tr>\n",
       "    <tr>\n",
       "      <th>1</th>\n",
       "      <td>1b44a67f61</td>\n",
       "      <td>41</td>\n",
       "      <td>0</td>\n",
       "      <td>4700</td>\n",
       "      <td>1.949925</td>\n",
       "      <td>-1.234185</td>\n",
       "      <td>0.496042</td>\n",
       "      <td>-1.358579</td>\n",
       "    </tr>\n",
       "    <tr>\n",
       "      <th>2</th>\n",
       "      <td>7e33583438</td>\n",
       "      <td>74</td>\n",
       "      <td>1</td>\n",
       "      <td>8600</td>\n",
       "      <td>NaN</td>\n",
       "      <td>NaN</td>\n",
       "      <td>NaN</td>\n",
       "      <td>NaN</td>\n",
       "    </tr>\n",
       "    <tr>\n",
       "      <th>3</th>\n",
       "      <td>b65dd1ba1d</td>\n",
       "      <td>41</td>\n",
       "      <td>0</td>\n",
       "      <td>8400</td>\n",
       "      <td>NaN</td>\n",
       "      <td>NaN</td>\n",
       "      <td>NaN</td>\n",
       "      <td>NaN</td>\n",
       "    </tr>\n",
       "    <tr>\n",
       "      <th>4</th>\n",
       "      <td>bdf1f63a98</td>\n",
       "      <td>32</td>\n",
       "      <td>1</td>\n",
       "      <td>3500</td>\n",
       "      <td>0.942095</td>\n",
       "      <td>-1.936260</td>\n",
       "      <td>-0.874105</td>\n",
       "      <td>0.548765</td>\n",
       "    </tr>\n",
       "    <tr>\n",
       "      <th>...</th>\n",
       "      <td>...</td>\n",
       "      <td>...</td>\n",
       "      <td>...</td>\n",
       "      <td>...</td>\n",
       "      <td>...</td>\n",
       "      <td>...</td>\n",
       "      <td>...</td>\n",
       "      <td>...</td>\n",
       "    </tr>\n",
       "    <tr>\n",
       "      <th>833696</th>\n",
       "      <td>9b553d8160</td>\n",
       "      <td>31</td>\n",
       "      <td>0</td>\n",
       "      <td>8400</td>\n",
       "      <td>-2.140916</td>\n",
       "      <td>0.324120</td>\n",
       "      <td>0.051922</td>\n",
       "      <td>0.110041</td>\n",
       "    </tr>\n",
       "    <tr>\n",
       "      <th>833697</th>\n",
       "      <td>156b68c630</td>\n",
       "      <td>67</td>\n",
       "      <td>0</td>\n",
       "      <td>5400</td>\n",
       "      <td>NaN</td>\n",
       "      <td>NaN</td>\n",
       "      <td>NaN</td>\n",
       "      <td>NaN</td>\n",
       "    </tr>\n",
       "    <tr>\n",
       "      <th>833698</th>\n",
       "      <td>b8469fdb86</td>\n",
       "      <td>59</td>\n",
       "      <td>1</td>\n",
       "      <td>5200</td>\n",
       "      <td>NaN</td>\n",
       "      <td>NaN</td>\n",
       "      <td>NaN</td>\n",
       "      <td>NaN</td>\n",
       "    </tr>\n",
       "    <tr>\n",
       "      <th>833699</th>\n",
       "      <td>d006611100</td>\n",
       "      <td>81</td>\n",
       "      <td>0</td>\n",
       "      <td>7300</td>\n",
       "      <td>0.143330</td>\n",
       "      <td>0.745251</td>\n",
       "      <td>-0.889416</td>\n",
       "      <td>-0.464557</td>\n",
       "    </tr>\n",
       "    <tr>\n",
       "      <th>833700</th>\n",
       "      <td>2ac6fa94b8</td>\n",
       "      <td>46</td>\n",
       "      <td>1</td>\n",
       "      <td>4300</td>\n",
       "      <td>0.600369</td>\n",
       "      <td>0.572224</td>\n",
       "      <td>0.131148</td>\n",
       "      <td>-1.459051</td>\n",
       "    </tr>\n",
       "  </tbody>\n",
       "</table>\n",
       "<p>833701 rows × 8 columns</p>\n",
       "</div>"
      ],
      "text/plain": [
       "             COMAX  AGE  COSEXE  CTSCPI     PCA-1     PCA-2     PCA-3  \\\n",
       "0       6e3a2b9fa1   55       1    4600 -1.619473  0.067995 -0.194275   \n",
       "1       1b44a67f61   41       0    4700  1.949925 -1.234185  0.496042   \n",
       "2       7e33583438   74       1    8600       NaN       NaN       NaN   \n",
       "3       b65dd1ba1d   41       0    8400       NaN       NaN       NaN   \n",
       "4       bdf1f63a98   32       1    3500  0.942095 -1.936260 -0.874105   \n",
       "...            ...  ...     ...     ...       ...       ...       ...   \n",
       "833696  9b553d8160   31       0    8400 -2.140916  0.324120  0.051922   \n",
       "833697  156b68c630   67       0    5400       NaN       NaN       NaN   \n",
       "833698  b8469fdb86   59       1    5200       NaN       NaN       NaN   \n",
       "833699  d006611100   81       0    7300  0.143330  0.745251 -0.889416   \n",
       "833700  2ac6fa94b8   46       1    4300  0.600369  0.572224  0.131148   \n",
       "\n",
       "           PCA-4  \n",
       "0       0.193045  \n",
       "1      -1.358579  \n",
       "2            NaN  \n",
       "3            NaN  \n",
       "4       0.548765  \n",
       "...          ...  \n",
       "833696  0.110041  \n",
       "833697       NaN  \n",
       "833698       NaN  \n",
       "833699 -0.464557  \n",
       "833700 -1.459051  \n",
       "\n",
       "[833701 rows x 8 columns]"
      ]
     },
     "execution_count": 14,
     "metadata": {},
     "output_type": "execute_result"
    }
   ],
   "source": [
    "data"
   ]
  },
  {
   "cell_type": "code",
   "execution_count": 17,
   "id": "satisfactory-alberta",
   "metadata": {},
   "outputs": [],
   "source": [
    "data = data.dropna()"
   ]
  },
  {
   "cell_type": "code",
   "execution_count": 18,
   "id": "adopted-italian",
   "metadata": {},
   "outputs": [],
   "source": [
    "data.to_csv('final-pc-data.csv', sep='\\t')"
   ]
  },
  {
   "cell_type": "code",
   "execution_count": 19,
   "id": "international-virus",
   "metadata": {},
   "outputs": [
    {
     "data": {
      "text/plain": [
       "(563910, 8)"
      ]
     },
     "execution_count": 19,
     "metadata": {},
     "output_type": "execute_result"
    }
   ],
   "source": [
    "data.shape"
   ]
  },
  {
   "cell_type": "code",
   "execution_count": null,
   "id": "intense-interest",
   "metadata": {},
   "outputs": [],
   "source": []
  }
 ],
 "metadata": {
  "kernelspec": {
   "display_name": "Python 3",
   "language": "python",
   "name": "python3"
  },
  "language_info": {
   "codemirror_mode": {
    "name": "ipython",
    "version": 3
   },
   "file_extension": ".py",
   "mimetype": "text/x-python",
   "name": "python",
   "nbconvert_exporter": "python",
   "pygments_lexer": "ipython3",
   "version": "3.8.5"
  }
 },
 "nbformat": 4,
 "nbformat_minor": 5
}
