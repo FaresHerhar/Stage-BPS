{
 "cells": [
  {
   "cell_type": "code",
   "execution_count": 224,
   "id": "trained-raleigh",
   "metadata": {},
   "outputs": [],
   "source": [
    "import pandas as pd\n",
    "import matplotlib.pyplot as plt\n",
    "import squarify\n",
    "import plotly.express as px"
   ]
  },
  {
   "cell_type": "code",
   "execution_count": 3,
   "id": "aquatic-feeling",
   "metadata": {},
   "outputs": [],
   "source": [
    "df = pd.read_csv('../cleaned-data/pc-clusters.csv', encoding='iso-8859-1', sep=\"\\t\", usecols=['COMAX', 'AGE', 'COSEXE', 'CTSCPI'])"
   ]
  },
  {
   "cell_type": "code",
   "execution_count": 153,
   "id": "viral-cooling",
   "metadata": {},
   "outputs": [],
   "source": [
    "insee = pd.read_csv('../data/tj10.csv', encoding='iso-8859-1', sep=\";\", usecols=['CTSCPI', 'LISCPI'])"
   ]
  },
  {
   "cell_type": "code",
   "execution_count": 4,
   "id": "painful-spirituality",
   "metadata": {},
   "outputs": [
    {
     "name": "stdout",
     "output_type": "stream",
     "text": [
      "<class 'pandas.core.frame.DataFrame'>\n",
      "RangeIndex: 627710 entries, 0 to 627709\n",
      "Data columns (total 4 columns):\n",
      " #   Column  Non-Null Count   Dtype \n",
      "---  ------  --------------   ----- \n",
      " 0   COMAX   627710 non-null  object\n",
      " 1   AGE     627710 non-null  int64 \n",
      " 2   COSEXE  627710 non-null  int64 \n",
      " 3   CTSCPI  627710 non-null  int64 \n",
      "dtypes: int64(3), object(1)\n",
      "memory usage: 19.2+ MB\n"
     ]
    }
   ],
   "source": [
    "df.info()"
   ]
  },
  {
   "cell_type": "code",
   "execution_count": 6,
   "id": "complete-concentration",
   "metadata": {},
   "outputs": [
    {
     "data": {
      "text/plain": [
       "(627710, 4)"
      ]
     },
     "execution_count": 6,
     "metadata": {},
     "output_type": "execute_result"
    }
   ],
   "source": [
    "df.shape"
   ]
  },
  {
   "cell_type": "code",
   "execution_count": 7,
   "id": "several-plasma",
   "metadata": {},
   "outputs": [
    {
     "data": {
      "text/plain": [
       "Index(['COMAX', 'AGE', 'COSEXE', 'CTSCPI'], dtype='object')"
      ]
     },
     "execution_count": 7,
     "metadata": {},
     "output_type": "execute_result"
    }
   ],
   "source": [
    "df.columns"
   ]
  },
  {
   "cell_type": "markdown",
   "id": "private-heaven",
   "metadata": {},
   "source": [
    "# Analyse une seule variable"
   ]
  },
  {
   "cell_type": "markdown",
   "id": "harmful-commons",
   "metadata": {},
   "source": [
    "## Description AGE"
   ]
  },
  {
   "cell_type": "code",
   "execution_count": 35,
   "id": "controlling-picking",
   "metadata": {},
   "outputs": [
    {
     "data": {
      "text/html": [
       "<div>\n",
       "<style scoped>\n",
       "    .dataframe tbody tr th:only-of-type {\n",
       "        vertical-align: middle;\n",
       "    }\n",
       "\n",
       "    .dataframe tbody tr th {\n",
       "        vertical-align: top;\n",
       "    }\n",
       "\n",
       "    .dataframe thead th {\n",
       "        text-align: right;\n",
       "    }\n",
       "</style>\n",
       "<table border=\"1\" class=\"dataframe\">\n",
       "  <thead>\n",
       "    <tr style=\"text-align: right;\">\n",
       "      <th></th>\n",
       "      <th>AGE</th>\n",
       "    </tr>\n",
       "  </thead>\n",
       "  <tbody>\n",
       "    <tr>\n",
       "      <th>count</th>\n",
       "      <td>627710.000000</td>\n",
       "    </tr>\n",
       "    <tr>\n",
       "      <th>mean</th>\n",
       "      <td>47.600875</td>\n",
       "    </tr>\n",
       "    <tr>\n",
       "      <th>std</th>\n",
       "      <td>23.227287</td>\n",
       "    </tr>\n",
       "    <tr>\n",
       "      <th>min</th>\n",
       "      <td>0.000000</td>\n",
       "    </tr>\n",
       "    <tr>\n",
       "      <th>25%</th>\n",
       "      <td>30.000000</td>\n",
       "    </tr>\n",
       "    <tr>\n",
       "      <th>50%</th>\n",
       "      <td>48.000000</td>\n",
       "    </tr>\n",
       "    <tr>\n",
       "      <th>75%</th>\n",
       "      <td>65.000000</td>\n",
       "    </tr>\n",
       "    <tr>\n",
       "      <th>max</th>\n",
       "      <td>124.000000</td>\n",
       "    </tr>\n",
       "  </tbody>\n",
       "</table>\n",
       "</div>"
      ],
      "text/plain": [
       "                 AGE\n",
       "count  627710.000000\n",
       "mean       47.600875\n",
       "std        23.227287\n",
       "min         0.000000\n",
       "25%        30.000000\n",
       "50%        48.000000\n",
       "75%        65.000000\n",
       "max       124.000000"
      ]
     },
     "execution_count": 35,
     "metadata": {},
     "output_type": "execute_result"
    }
   ],
   "source": [
    "pd.DataFrame(df['AGE'].describe())"
   ]
  },
  {
   "cell_type": "code",
   "execution_count": 146,
   "id": "hollow-syndicate",
   "metadata": {},
   "outputs": [
    {
     "data": {
      "image/png": "[encoded data removed]",
      "text/plain": [
       "<Figure size 432x288 with 1 Axes>"
      ]
     },
     "metadata": {
      "needs_background": "light"
     },
     "output_type": "display_data"
    }
   ],
   "source": [
    "bp = plt.boxplot(df['AGE'], vert=False, patch_artist=True)\n",
    "plt.yticks([1], [''])\n",
    "\n",
    "plt.setp(bp['caps'],color='blue',alpha=1)\n",
    "plt.setp(bp['whiskers'],color='blue',alpha=1)\n",
    "plt.setp(bp['medians'],color='tomato',alpha=1,linewidth=4.0)\n",
    "plt.setp(bp['boxes'], color='blue', facecolor='lightblue',alpha=1,linewidth=0.5)\n",
    "\n",
    "plt.xlabel('AGE')\n",
    "plt.ylabel('BOX PLOT')\n",
    "plt.title('Box Plot Pour AGE', fontsize=16)\n",
    "\n",
    "plt.grid(alpha=0.5)\n",
    "plt.savefig(\"../graphs/age_box.svg\")"
   ]
  },
  {
   "cell_type": "code",
   "execution_count": 133,
   "id": "three-recording",
   "metadata": {},
   "outputs": [],
   "source": [
    "temp = df['AGE'].value_counts(bins=5, normalize=True)\n",
    "temp = list(zip(temp.index, temp.values))\n",
    "temp.sort(key=lambda x: x[0])"
   ]
  },
  {
   "cell_type": "code",
   "execution_count": 134,
   "id": "protected-future",
   "metadata": {},
   "outputs": [],
   "source": [
    "x = [i[0] for i in temp]\n",
    "y = [i[1] for i in temp]"
   ]
  },
  {
   "cell_type": "code",
   "execution_count": 135,
   "id": "cooked-calibration",
   "metadata": {},
   "outputs": [
    {
     "data": {
      "text/plain": [
       "[Interval(-0.125, 24.8, closed='right'),\n",
       " Interval(24.8, 49.6, closed='right'),\n",
       " Interval(49.6, 74.4, closed='right'),\n",
       " Interval(74.4, 99.2, closed='right'),\n",
       " Interval(99.2, 124.0, closed='right')]"
      ]
     },
     "execution_count": 135,
     "metadata": {},
     "output_type": "execute_result"
    }
   ],
   "source": [
    "x"
   ]
  },
  {
   "cell_type": "code",
   "execution_count": 136,
   "id": "centered-dynamics",
   "metadata": {},
   "outputs": [
    {
     "data": {
      "text/plain": [
       "[0.19555367924678593,\n",
       " 0.3282949132561215,\n",
       " 0.3448200602188909,\n",
       " 0.1267607653215657,\n",
       " 0.004570581956636026]"
      ]
     },
     "execution_count": 136,
     "metadata": {},
     "output_type": "execute_result"
    }
   ],
   "source": [
    "y"
   ]
  },
  {
   "cell_type": "code",
   "execution_count": 149,
   "id": "decimal-times",
   "metadata": {},
   "outputs": [
    {
     "data": {
      "image/png": "[encoded data removed]",
      "text/plain": [
       "<Figure size 432x288 with 1 Axes>"
      ]
     },
     "metadata": {
      "needs_background": "light"
     },
     "output_type": "display_data"
    }
   ],
   "source": [
    "labels = ['0-25', '25-50', '50-75', '75-100', '...']\n",
    "colors = ['#442288', '#EB7D5B', '#6CA2EA', '#FED23F', '#B5D33D']\n",
    "\n",
    "squarify.plot(sizes=y, label=labels, color=colors, alpha=0.6 )\n",
    "plt.axis('off')\n",
    "plt.title(\"Tree Map pour catégorie d'age\", fontsize=16)\n",
    "plt.savefig(\"../graphs/age_tree.svg\")"
   ]
  },
  {
   "cell_type": "markdown",
   "id": "wooden-devil",
   "metadata": {},
   "source": [
    "## Description SEXE"
   ]
  },
  {
   "cell_type": "code",
   "execution_count": 117,
   "id": "inside-comfort",
   "metadata": {},
   "outputs": [],
   "source": [
    "# O is for male, and 1 for female\n",
    "sex = df['COSEXE'].value_counts(normalize=True)"
   ]
  },
  {
   "cell_type": "code",
   "execution_count": 57,
   "id": "rocky-narrow",
   "metadata": {},
   "outputs": [
    {
     "data": {
      "text/plain": [
       "array([0.50457536, 0.49542464])"
      ]
     },
     "execution_count": 57,
     "metadata": {},
     "output_type": "execute_result"
    }
   ],
   "source": [
    "sex.values"
   ]
  },
  {
   "cell_type": "code",
   "execution_count": 58,
   "id": "pressed-potato",
   "metadata": {},
   "outputs": [
    {
     "data": {
      "text/plain": [
       "Int64Index([0, 1], dtype='int64')"
      ]
     },
     "execution_count": 58,
     "metadata": {},
     "output_type": "execute_result"
    }
   ],
   "source": [
    "sex.index"
   ]
  },
  {
   "cell_type": "code",
   "execution_count": 80,
   "id": "stable-merchandise",
   "metadata": {},
   "outputs": [
    {
     "data": {
      "image/png": "[encoded data removed]",
      "text/plain": [
       "<Figure size 432x288 with 1 Axes>"
      ]
     },
     "metadata": {},
     "output_type": "display_data"
    }
   ],
   "source": [
    "colors = ['#66b3ff', '#ff9999']\n",
    "labels = ['MALE', 'FEMELLE']\n",
    "explode = [0.025, 0.025]\n",
    "plt.pie(sex.values, labels=labels, explode=explode, colors=colors, autopct='%1.1f%%', shadow=True, startangle=45)\n",
    "\n",
    "plt.title('Pie Plot Pour SEXE')\n",
    "plt.savefig(\"../graphs/sexe.svg\")"
   ]
  },
  {
   "cell_type": "markdown",
   "id": "abstract-balloon",
   "metadata": {},
   "source": [
    "## Description Code INSEE"
   ]
  },
  {
   "cell_type": "code",
   "execution_count": 204,
   "id": "atlantic-venezuela",
   "metadata": {},
   "outputs": [],
   "source": [
    "temp = pd.DataFrame(df['CTSCPI'].value_counts()).reset_index()\n",
    "temp.columns = ['CTSCPI', 'COUNT']"
   ]
  },
  {
   "cell_type": "code",
   "execution_count": 215,
   "id": "precious-parameter",
   "metadata": {},
   "outputs": [],
   "source": [
    "def out(insee, code):\n",
    "    return insee[insee['CTSCPI'] == code]['LISCPI'].values[0].rstrip()"
   ]
  },
  {
   "cell_type": "code",
   "execution_count": 216,
   "id": "certain-response",
   "metadata": {},
   "outputs": [],
   "source": [
    "labels = [out(insee, i) for i in temp['CTSCPI'].values]"
   ]
  },
  {
   "cell_type": "code",
   "execution_count": 218,
   "id": "available-terminal",
   "metadata": {},
   "outputs": [],
   "source": [
    "temp.insert(1, 'LISCPI', labels)"
   ]
  },
  {
   "cell_type": "code",
   "execution_count": 231,
   "id": "smoking-highlight",
   "metadata": {},
   "outputs": [
    {
     "data": {
      "text/html": [
       "<div>\n",
       "<style scoped>\n",
       "    .dataframe tbody tr th:only-of-type {\n",
       "        vertical-align: middle;\n",
       "    }\n",
       "\n",
       "    .dataframe tbody tr th {\n",
       "        vertical-align: top;\n",
       "    }\n",
       "\n",
       "    .dataframe thead th {\n",
       "        text-align: right;\n",
       "    }\n",
       "</style>\n",
       "<table border=\"1\" class=\"dataframe\">\n",
       "  <thead>\n",
       "    <tr style=\"text-align: right;\">\n",
       "      <th></th>\n",
       "      <th>CTSCPI</th>\n",
       "      <th>LISCPI</th>\n",
       "      <th>COUNT</th>\n",
       "    </tr>\n",
       "  </thead>\n",
       "  <tbody>\n",
       "    <tr>\n",
       "      <th>0</th>\n",
       "      <td>8400</td>\n",
       "      <td>ELEVES ETUDIANTS</td>\n",
       "      <td>109127</td>\n",
       "    </tr>\n",
       "    <tr>\n",
       "      <th>1</th>\n",
       "      <td>7600</td>\n",
       "      <td>ANCIENS EMPLOYES ET OUVRIERS</td>\n",
       "      <td>67948</td>\n",
       "    </tr>\n",
       "    <tr>\n",
       "      <th>2</th>\n",
       "      <td>8500</td>\n",
       "      <td>INACTIFS DIVERS SAUF RET - 60ANS</td>\n",
       "      <td>46771</td>\n",
       "    </tr>\n",
       "    <tr>\n",
       "      <th>3</th>\n",
       "      <td>8600</td>\n",
       "      <td>INACTIFS DIVERS SAUF RET +60ANS</td>\n",
       "      <td>33876</td>\n",
       "    </tr>\n",
       "    <tr>\n",
       "      <th>4</th>\n",
       "      <td>5400</td>\n",
       "      <td>EMPLOYES ADMI.ENTREPRISE PRIVEE</td>\n",
       "      <td>33090</td>\n",
       "    </tr>\n",
       "    <tr>\n",
       "      <th>5</th>\n",
       "      <td>7300</td>\n",
       "      <td>ANCIENS CADRES PROFESSIONS INTER</td>\n",
       "      <td>31356</td>\n",
       "    </tr>\n",
       "    <tr>\n",
       "      <th>6</th>\n",
       "      <td>5200</td>\n",
       "      <td>EMPL CIVILS AGENTS FONCT PUBLIQ</td>\n",
       "      <td>30174</td>\n",
       "    </tr>\n",
       "    <tr>\n",
       "      <th>7</th>\n",
       "      <td>5500</td>\n",
       "      <td>EMPLOYES DE COMMERCE</td>\n",
       "      <td>22273</td>\n",
       "    </tr>\n",
       "    <tr>\n",
       "      <th>8</th>\n",
       "      <td>2300</td>\n",
       "      <td>CHEFS D'ENTREPRISES</td>\n",
       "      <td>17449</td>\n",
       "    </tr>\n",
       "    <tr>\n",
       "      <th>9</th>\n",
       "      <td>4200</td>\n",
       "      <td>INSTITUTEURS ET ASSIMILES</td>\n",
       "      <td>17261</td>\n",
       "    </tr>\n",
       "    <tr>\n",
       "      <th>10</th>\n",
       "      <td>7200</td>\n",
       "      <td>ANCIENS ARTIS COMMERC CHEF ENTRE</td>\n",
       "      <td>15968</td>\n",
       "    </tr>\n",
       "    <tr>\n",
       "      <th>11</th>\n",
       "      <td>5600</td>\n",
       "      <td>PERSONNEL SERVICE AU PARTICULIER</td>\n",
       "      <td>15812</td>\n",
       "    </tr>\n",
       "    <tr>\n",
       "      <th>12</th>\n",
       "      <td>4300</td>\n",
       "      <td>PROFESSIONS SANTE TRAVAIL SOCIAL</td>\n",
       "      <td>14949</td>\n",
       "    </tr>\n",
       "    <tr>\n",
       "      <th>13</th>\n",
       "      <td>6300</td>\n",
       "      <td>OUVRIER QUALIFIE DE L'ARTISANAT</td>\n",
       "      <td>13536</td>\n",
       "    </tr>\n",
       "    <tr>\n",
       "      <th>14</th>\n",
       "      <td>3700</td>\n",
       "      <td>CADRES ADMN COMMERC ENTREPRISES</td>\n",
       "      <td>13038</td>\n",
       "    </tr>\n",
       "    <tr>\n",
       "      <th>15</th>\n",
       "      <td>2100</td>\n",
       "      <td>ARTISANS</td>\n",
       "      <td>12934</td>\n",
       "    </tr>\n",
       "    <tr>\n",
       "      <th>16</th>\n",
       "      <td>4600</td>\n",
       "      <td>PROFESSIONS ADM COMMERCIAL PRIVE</td>\n",
       "      <td>12814</td>\n",
       "    </tr>\n",
       "    <tr>\n",
       "      <th>17</th>\n",
       "      <td>4700</td>\n",
       "      <td>TECHNICIENS</td>\n",
       "      <td>12748</td>\n",
       "    </tr>\n",
       "    <tr>\n",
       "      <th>18</th>\n",
       "      <td>3400</td>\n",
       "      <td>PROFESSEURS PROF SCIENTIFIQUES</td>\n",
       "      <td>12678</td>\n",
       "    </tr>\n",
       "    <tr>\n",
       "      <th>19</th>\n",
       "      <td>8100</td>\n",
       "      <td>CHOMEURS</td>\n",
       "      <td>11344</td>\n",
       "    </tr>\n",
       "    <tr>\n",
       "      <th>20</th>\n",
       "      <td>3100</td>\n",
       "      <td>PROFESSIONS LIBERALES</td>\n",
       "      <td>10071</td>\n",
       "    </tr>\n",
       "    <tr>\n",
       "      <th>21</th>\n",
       "      <td>2200</td>\n",
       "      <td>COMMERCANTS ET ASSIMILES</td>\n",
       "      <td>9818</td>\n",
       "    </tr>\n",
       "    <tr>\n",
       "      <th>22</th>\n",
       "      <td>5300</td>\n",
       "      <td>POLIC.MILIT.GEND.POMPIER GARDE</td>\n",
       "      <td>7904</td>\n",
       "    </tr>\n",
       "    <tr>\n",
       "      <th>23</th>\n",
       "      <td>6200</td>\n",
       "      <td>OUVRIER QUALIFIE DE L'INDUSTRIE</td>\n",
       "      <td>7152</td>\n",
       "    </tr>\n",
       "    <tr>\n",
       "      <th>24</th>\n",
       "      <td>6400</td>\n",
       "      <td>CHAUFFEURS CONDUCTEURS ROUTIERS</td>\n",
       "      <td>5306</td>\n",
       "    </tr>\n",
       "    <tr>\n",
       "      <th>25</th>\n",
       "      <td>3300</td>\n",
       "      <td>CADRES DE LA FONCTION PUBLIQUE</td>\n",
       "      <td>5060</td>\n",
       "    </tr>\n",
       "    <tr>\n",
       "      <th>26</th>\n",
       "      <td>1100</td>\n",
       "      <td>AGRICULTEUR PETITE EXPLOITATION</td>\n",
       "      <td>4168</td>\n",
       "    </tr>\n",
       "    <tr>\n",
       "      <th>27</th>\n",
       "      <td>7500</td>\n",
       "      <td>ANCIEN PROFNS INTERMEDIAIRES</td>\n",
       "      <td>4013</td>\n",
       "    </tr>\n",
       "    <tr>\n",
       "      <th>28</th>\n",
       "      <td>6900</td>\n",
       "      <td>OUVRIERS AGRICOLES</td>\n",
       "      <td>3457</td>\n",
       "    </tr>\n",
       "    <tr>\n",
       "      <th>29</th>\n",
       "      <td>6800</td>\n",
       "      <td>OUVRIER NON QUALIFIE ARTISANAT</td>\n",
       "      <td>3253</td>\n",
       "    </tr>\n",
       "    <tr>\n",
       "      <th>30</th>\n",
       "      <td>4500</td>\n",
       "      <td>PROFESSION ADM FONCTION PUBLIQUE</td>\n",
       "      <td>3207</td>\n",
       "    </tr>\n",
       "    <tr>\n",
       "      <th>31</th>\n",
       "      <td>6700</td>\n",
       "      <td>OUV NON QUALIFIE DE L'INDUSTRIE</td>\n",
       "      <td>3155</td>\n",
       "    </tr>\n",
       "    <tr>\n",
       "      <th>32</th>\n",
       "      <td>3800</td>\n",
       "      <td>INGENIEURS CADRES TECHNI ENTREP</td>\n",
       "      <td>2993</td>\n",
       "    </tr>\n",
       "    <tr>\n",
       "      <th>33</th>\n",
       "      <td>4800</td>\n",
       "      <td>CONTREMAITRES,AGENTS DE MAITRISE</td>\n",
       "      <td>2877</td>\n",
       "    </tr>\n",
       "    <tr>\n",
       "      <th>34</th>\n",
       "      <td>7100</td>\n",
       "      <td>ANCIENS AGRICULTEURS EXPLOITANTS</td>\n",
       "      <td>2407</td>\n",
       "    </tr>\n",
       "    <tr>\n",
       "      <th>35</th>\n",
       "      <td>3500</td>\n",
       "      <td>PROFESSIONS DE L'INFO ART SPECTA</td>\n",
       "      <td>2141</td>\n",
       "    </tr>\n",
       "    <tr>\n",
       "      <th>36</th>\n",
       "      <td>7700</td>\n",
       "      <td>ANCIENS EMPLOYES</td>\n",
       "      <td>1816</td>\n",
       "    </tr>\n",
       "    <tr>\n",
       "      <th>37</th>\n",
       "      <td>1200</td>\n",
       "      <td>AGRICULTEUR MOYENNE EXPLOITATION</td>\n",
       "      <td>1384</td>\n",
       "    </tr>\n",
       "    <tr>\n",
       "      <th>38</th>\n",
       "      <td>6500</td>\n",
       "      <td>OUV QUAL MANUT MAGASIN TRANSPORT</td>\n",
       "      <td>980</td>\n",
       "    </tr>\n",
       "    <tr>\n",
       "      <th>39</th>\n",
       "      <td>3600</td>\n",
       "      <td>CADRES D' ENTREPRISE</td>\n",
       "      <td>530</td>\n",
       "    </tr>\n",
       "    <tr>\n",
       "      <th>40</th>\n",
       "      <td>7400</td>\n",
       "      <td>ANCIENS CADRES</td>\n",
       "      <td>391</td>\n",
       "    </tr>\n",
       "    <tr>\n",
       "      <th>41</th>\n",
       "      <td>7800</td>\n",
       "      <td>ANCIENS OUVRIERS</td>\n",
       "      <td>209</td>\n",
       "    </tr>\n",
       "    <tr>\n",
       "      <th>42</th>\n",
       "      <td>1300</td>\n",
       "      <td>AGRICULTEUR GRANDE EXPLOITATION</td>\n",
       "      <td>146</td>\n",
       "    </tr>\n",
       "    <tr>\n",
       "      <th>43</th>\n",
       "      <td>4400</td>\n",
       "      <td>CLERGE RELIGIEUX</td>\n",
       "      <td>77</td>\n",
       "    </tr>\n",
       "    <tr>\n",
       "      <th>44</th>\n",
       "      <td>8300</td>\n",
       "      <td>MILITAIRES DU CONTINGENT</td>\n",
       "      <td>26</td>\n",
       "    </tr>\n",
       "    <tr>\n",
       "      <th>45</th>\n",
       "      <td>8200</td>\n",
       "      <td>INACTIFS DIVERS NON RETRAITES</td>\n",
       "      <td>7</td>\n",
       "    </tr>\n",
       "    <tr>\n",
       "      <th>46</th>\n",
       "      <td>6600</td>\n",
       "      <td>OUVRIERS NON QUALITES</td>\n",
       "      <td>5</td>\n",
       "    </tr>\n",
       "    <tr>\n",
       "      <th>47</th>\n",
       "      <td>6100</td>\n",
       "      <td>OUVRIER QUALIFIE</td>\n",
       "      <td>5</td>\n",
       "    </tr>\n",
       "    <tr>\n",
       "      <th>48</th>\n",
       "      <td>5100</td>\n",
       "      <td>EMPLOYES DE LA FONCTION PUBLIQUE</td>\n",
       "      <td>3</td>\n",
       "    </tr>\n",
       "    <tr>\n",
       "      <th>49</th>\n",
       "      <td>1000</td>\n",
       "      <td>AGRICULTEUR EXPLOITANT</td>\n",
       "      <td>3</td>\n",
       "    </tr>\n",
       "  </tbody>\n",
       "</table>\n",
       "</div>"
      ],
      "text/plain": [
       "    CTSCPI                            LISCPI   COUNT\n",
       "0     8400                  ELEVES ETUDIANTS  109127\n",
       "1     7600      ANCIENS EMPLOYES ET OUVRIERS   67948\n",
       "2     8500  INACTIFS DIVERS SAUF RET - 60ANS   46771\n",
       "3     8600   INACTIFS DIVERS SAUF RET +60ANS   33876\n",
       "4     5400   EMPLOYES ADMI.ENTREPRISE PRIVEE   33090\n",
       "5     7300  ANCIENS CADRES PROFESSIONS INTER   31356\n",
       "6     5200   EMPL CIVILS AGENTS FONCT PUBLIQ   30174\n",
       "7     5500              EMPLOYES DE COMMERCE   22273\n",
       "8     2300               CHEFS D'ENTREPRISES   17449\n",
       "9     4200         INSTITUTEURS ET ASSIMILES   17261\n",
       "10    7200  ANCIENS ARTIS COMMERC CHEF ENTRE   15968\n",
       "11    5600  PERSONNEL SERVICE AU PARTICULIER   15812\n",
       "12    4300  PROFESSIONS SANTE TRAVAIL SOCIAL   14949\n",
       "13    6300   OUVRIER QUALIFIE DE L'ARTISANAT   13536\n",
       "14    3700   CADRES ADMN COMMERC ENTREPRISES   13038\n",
       "15    2100                          ARTISANS   12934\n",
       "16    4600  PROFESSIONS ADM COMMERCIAL PRIVE   12814\n",
       "17    4700                       TECHNICIENS   12748\n",
       "18    3400    PROFESSEURS PROF SCIENTIFIQUES   12678\n",
       "19    8100                          CHOMEURS   11344\n",
       "20    3100             PROFESSIONS LIBERALES   10071\n",
       "21    2200          COMMERCANTS ET ASSIMILES    9818\n",
       "22    5300    POLIC.MILIT.GEND.POMPIER GARDE    7904\n",
       "23    6200   OUVRIER QUALIFIE DE L'INDUSTRIE    7152\n",
       "24    6400   CHAUFFEURS CONDUCTEURS ROUTIERS    5306\n",
       "25    3300    CADRES DE LA FONCTION PUBLIQUE    5060\n",
       "26    1100   AGRICULTEUR PETITE EXPLOITATION    4168\n",
       "27    7500      ANCIEN PROFNS INTERMEDIAIRES    4013\n",
       "28    6900                OUVRIERS AGRICOLES    3457\n",
       "29    6800    OUVRIER NON QUALIFIE ARTISANAT    3253\n",
       "30    4500  PROFESSION ADM FONCTION PUBLIQUE    3207\n",
       "31    6700   OUV NON QUALIFIE DE L'INDUSTRIE    3155\n",
       "32    3800   INGENIEURS CADRES TECHNI ENTREP    2993\n",
       "33    4800  CONTREMAITRES,AGENTS DE MAITRISE    2877\n",
       "34    7100  ANCIENS AGRICULTEURS EXPLOITANTS    2407\n",
       "35    3500  PROFESSIONS DE L'INFO ART SPECTA    2141\n",
       "36    7700                  ANCIENS EMPLOYES    1816\n",
       "37    1200  AGRICULTEUR MOYENNE EXPLOITATION    1384\n",
       "38    6500  OUV QUAL MANUT MAGASIN TRANSPORT     980\n",
       "39    3600              CADRES D' ENTREPRISE     530\n",
       "40    7400                    ANCIENS CADRES     391\n",
       "41    7800                  ANCIENS OUVRIERS     209\n",
       "42    1300   AGRICULTEUR GRANDE EXPLOITATION     146\n",
       "43    4400                  CLERGE RELIGIEUX      77\n",
       "44    8300          MILITAIRES DU CONTINGENT      26\n",
       "45    8200     INACTIFS DIVERS NON RETRAITES       7\n",
       "46    6600             OUVRIERS NON QUALITES       5\n",
       "47    6100                  OUVRIER QUALIFIE       5\n",
       "48    5100  EMPLOYES DE LA FONCTION PUBLIQUE       3\n",
       "49    1000            AGRICULTEUR EXPLOITANT       3"
      ]
     },
     "execution_count": 231,
     "metadata": {},
     "output_type": "execute_result"
    }
   ],
   "source": [
    "temp"
   ]
  },
  {
   "cell_type": "code",
   "execution_count": 227,
   "id": "neural-layer",
   "metadata": {},
   "outputs": [],
   "source": [
    "fig = px.treemap(temp, path=['LISCPI'], values='COUNT', color='COUNT')"
   ]
  },
  {
   "cell_type": "code",
   "execution_count": 228,
   "id": "liable-scenario",
   "metadata": {},
   "outputs": [
    {
     "data": {
      "application/vnd.plotly.v1+json": {
       "config": {
        "plotlyServerURL": "https://plot.ly"
       },
       "data": [
        {
         "branchvalues": "total",
         "customdata": [
          [
           3
          ],
          [
           146
          ],
          [
           1384
          ],
          [
           4168
          ],
          [
           4013
          ],
          [
           2407
          ],
          [
           15968
          ],
          [
           391
          ],
          [
           31356
          ],
          [
           1816
          ],
          [
           67948
          ],
          [
           209
          ],
          [
           12934
          ],
          [
           13038
          ],
          [
           530
          ],
          [
           5060
          ],
          [
           5306
          ],
          [
           17449
          ],
          [
           11344
          ],
          [
           77
          ],
          [
           9818
          ],
          [
           2877
          ],
          [
           109127
          ],
          [
           30174
          ],
          [
           33090
          ],
          [
           22273
          ],
          [
           3
          ],
          [
           7
          ],
          [
           33876
          ],
          [
           46771
          ],
          [
           2993
          ],
          [
           17261
          ],
          [
           26
          ],
          [
           3155
          ],
          [
           980
          ],
          [
           3253
          ],
          [
           5
          ],
          [
           13536
          ],
          [
           7152
          ],
          [
           3457
          ],
          [
           5
          ],
          [
           15812
          ],
          [
           7904
          ],
          [
           12678
          ],
          [
           3207
          ],
          [
           12814
          ],
          [
           2141
          ],
          [
           10071
          ],
          [
           14949
          ],
          [
           12748
          ]
         ],
         "domain": {
          "x": [
           0,
           1
          ],
          "y": [
           0,
           1
          ]
         },
         "hovertemplate": "labels=%{label}<br>COUNT_sum=%{value}<br>parent=%{parent}<br>id=%{id}<br>COUNT=%{color}<extra></extra>",
         "ids": [
          "AGRICULTEUR EXPLOITANT",
          "AGRICULTEUR GRANDE EXPLOITATION",
          "AGRICULTEUR MOYENNE EXPLOITATION",
          "AGRICULTEUR PETITE EXPLOITATION",
          "ANCIEN PROFNS INTERMEDIAIRES",
          "ANCIENS AGRICULTEURS EXPLOITANTS",
          "ANCIENS ARTIS COMMERC CHEF ENTRE",
          "ANCIENS CADRES",
          "ANCIENS CADRES PROFESSIONS INTER",
          "ANCIENS EMPLOYES",
          "ANCIENS EMPLOYES ET OUVRIERS",
          "ANCIENS OUVRIERS",
          "ARTISANS",
          "CADRES ADMN COMMERC ENTREPRISES",
          "CADRES D' ENTREPRISE",
          "CADRES DE LA FONCTION PUBLIQUE",
          "CHAUFFEURS CONDUCTEURS ROUTIERS",
          "CHEFS D'ENTREPRISES",
          "CHOMEURS",
          "CLERGE RELIGIEUX",
          "COMMERCANTS ET ASSIMILES",
          "CONTREMAITRES,AGENTS DE MAITRISE",
          "ELEVES ETUDIANTS",
          "EMPL CIVILS AGENTS FONCT PUBLIQ",
          "EMPLOYES ADMI.ENTREPRISE PRIVEE",
          "EMPLOYES DE COMMERCE",
          "EMPLOYES DE LA FONCTION PUBLIQUE",
          "INACTIFS DIVERS NON RETRAITES",
          "INACTIFS DIVERS SAUF RET +60ANS",
          "INACTIFS DIVERS SAUF RET - 60ANS",
          "INGENIEURS CADRES TECHNI ENTREP",
          "INSTITUTEURS ET ASSIMILES",
          "MILITAIRES DU CONTINGENT",
          "OUV NON QUALIFIE DE L'INDUSTRIE",
          "OUV QUAL MANUT MAGASIN TRANSPORT",
          "OUVRIER NON QUALIFIE ARTISANAT",
          "OUVRIER QUALIFIE",
          "OUVRIER QUALIFIE DE L'ARTISANAT",
          "OUVRIER QUALIFIE DE L'INDUSTRIE",
          "OUVRIERS AGRICOLES",
          "OUVRIERS NON QUALITES",
          "PERSONNEL SERVICE AU PARTICULIER",
          "POLIC.MILIT.GEND.POMPIER GARDE",
          "PROFESSEURS PROF SCIENTIFIQUES",
          "PROFESSION ADM FONCTION PUBLIQUE",
          "PROFESSIONS ADM COMMERCIAL PRIVE",
          "PROFESSIONS DE L'INFO ART SPECTA",
          "PROFESSIONS LIBERALES",
          "PROFESSIONS SANTE TRAVAIL SOCIAL",
          "TECHNICIENS"
         ],
         "labels": [
          "AGRICULTEUR EXPLOITANT",
          "AGRICULTEUR GRANDE EXPLOITATION",
          "AGRICULTEUR MOYENNE EXPLOITATION",
          "AGRICULTEUR PETITE EXPLOITATION",
          "ANCIEN PROFNS INTERMEDIAIRES",
          "ANCIENS AGRICULTEURS EXPLOITANTS",
          "ANCIENS ARTIS COMMERC CHEF ENTRE",
          "ANCIENS CADRES",
          "ANCIENS CADRES PROFESSIONS INTER",
          "ANCIENS EMPLOYES",
          "ANCIENS EMPLOYES ET OUVRIERS",
          "ANCIENS OUVRIERS",
          "ARTISANS",
          "CADRES ADMN COMMERC ENTREPRISES",
          "CADRES D' ENTREPRISE",
          "CADRES DE LA FONCTION PUBLIQUE",
          "CHAUFFEURS CONDUCTEURS ROUTIERS",
          "CHEFS D'ENTREPRISES",
          "CHOMEURS",
          "CLERGE RELIGIEUX",
          "COMMERCANTS ET ASSIMILES",
          "CONTREMAITRES,AGENTS DE MAITRISE",
          "ELEVES ETUDIANTS",
          "EMPL CIVILS AGENTS FONCT PUBLIQ",
          "EMPLOYES ADMI.ENTREPRISE PRIVEE",
          "EMPLOYES DE COMMERCE",
          "EMPLOYES DE LA FONCTION PUBLIQUE",
          "INACTIFS DIVERS NON RETRAITES",
          "INACTIFS DIVERS SAUF RET +60ANS",
          "INACTIFS DIVERS SAUF RET - 60ANS",
          "INGENIEURS CADRES TECHNI ENTREP",
          "INSTITUTEURS ET ASSIMILES",
          "MILITAIRES DU CONTINGENT",
          "OUV NON QUALIFIE DE L'INDUSTRIE",
          "OUV QUAL MANUT MAGASIN TRANSPORT",
          "OUVRIER NON QUALIFIE ARTISANAT",
          "OUVRIER QUALIFIE",
          "OUVRIER QUALIFIE DE L'ARTISANAT",
          "OUVRIER QUALIFIE DE L'INDUSTRIE",
          "OUVRIERS AGRICOLES",
          "OUVRIERS NON QUALITES",
          "PERSONNEL SERVICE AU PARTICULIER",
          "POLIC.MILIT.GEND.POMPIER GARDE",
          "PROFESSEURS PROF SCIENTIFIQUES",
          "PROFESSION ADM FONCTION PUBLIQUE",
          "PROFESSIONS ADM COMMERCIAL PRIVE",
          "PROFESSIONS DE L'INFO ART SPECTA",
          "PROFESSIONS LIBERALES",
          "PROFESSIONS SANTE TRAVAIL SOCIAL",
          "TECHNICIENS"
         ],
         "marker": {
          "coloraxis": "coloraxis",
          "colors": [
           3,
           146,
           1384,
           4168,
           4013,
           2407,
           15968,
           391,
           31356,
           1816,
           67948,
           209,
           12934,
           13038,
           530,
           5060,
           5306,
           17449,
           11344,
           77,
           9818,
           2877,
           109127,
           30174,
           33090,
           22273,
           3,
           7,
           33876,
           46771,
           2993,
           17261,
           26,
           3155,
           980,
           3253,
           5,
           13536,
           7152,
           3457,
           5,
           15812,
           7904,
           12678,
           3207,
           12814,
           2141,
           10071,
           14949,
           12748
          ]
         },
         "name": "",
         "parents": [
          "",
          "",
          "",
          "",
          "",
          "",
          "",
          "",
          "",
          "",
          "",
          "",
          "",
          "",
          "",
          "",
          "",
          "",
          "",
          "",
          "",
          "",
          "",
          "",
          "",
          "",
          "",
          "",
          "",
          "",
          "",
          "",
          "",
          "",
          "",
          "",
          "",
          "",
          "",
          "",
          "",
          "",
          "",
          "",
          "",
          "",
          "",
          "",
          "",
          ""
         ],
         "type": "treemap",
         "values": [
          3,
          146,
          1384,
          4168,
          4013,
          2407,
          15968,
          391,
          31356,
          1816,
          67948,
          209,
          12934,
          13038,
          530,
          5060,
          5306,
          17449,
          11344,
          77,
          9818,
          2877,
          109127,
          30174,
          33090,
          22273,
          3,
          7,
          33876,
          46771,
          2993,
          17261,
          26,
          3155,
          980,
          3253,
          5,
          13536,
          7152,
          3457,
          5,
          15812,
          7904,
          12678,
          3207,
          12814,
          2141,
          10071,
          14949,
          12748
         ]
        }
       ],
       "layout": {
        "coloraxis": {
         "colorbar": {
          "title": {
           "text": "COUNT"
          }
         },
         "colorscale": [
          [
           0,
           "#0d0887"
          ],
          [
           0.1111111111111111,
           "#46039f"
          ],
          [
           0.2222222222222222,
           "#7201a8"
          ],
          [
           0.3333333333333333,
           "#9c179e"
          ],
          [
           0.4444444444444444,
           "#bd3786"
          ],
          [
           0.5555555555555556,
           "#d8576b"
          ],
          [
           0.6666666666666666,
           "#ed7953"
          ],
          [
           0.7777777777777778,
           "#fb9f3a"
          ],
          [
           0.8888888888888888,
           "#fdca26"
          ],
          [
           1,
           "#f0f921"
          ]
         ]
        },
        "legend": {
         "tracegroupgap": 0
        },
        "margin": {
         "t": 60
        },
        "template": {
         "data": {
          "bar": [
           {
            "error_x": {
             "color": "#2a3f5f"
            },
            "error_y": {
             "color": "#2a3f5f"
            },
            "marker": {
             "line": {
              "color": "#E5ECF6",
              "width": 0.5
             }
            },
            "type": "bar"
           }
          ],
          "barpolar": [
           {
            "marker": {
             "line": {
              "color": "#E5ECF6",
              "width": 0.5
             }
            },
            "type": "barpolar"
           }
          ],
          "carpet": [
           {
            "aaxis": {
             "endlinecolor": "#2a3f5f",
             "gridcolor": "white",
             "linecolor": "white",
             "minorgridcolor": "white",
             "startlinecolor": "#2a3f5f"
            },
            "baxis": {
             "endlinecolor": "#2a3f5f",
             "gridcolor": "white",
             "linecolor": "white",
             "minorgridcolor": "white",
             "startlinecolor": "#2a3f5f"
            },
            "type": "carpet"
           }
          ],
          "choropleth": [
           {
            "colorbar": {
             "outlinewidth": 0,
             "ticks": ""
            },
            "type": "choropleth"
           }
          ],
          "contour": [
           {
            "colorbar": {
             "outlinewidth": 0,
             "ticks": ""
            },
            "colorscale": [
             [
              0,
              "#0d0887"
             ],
             [
              0.1111111111111111,
              "#46039f"
             ],
             [
              0.2222222222222222,
              "#7201a8"
             ],
             [
              0.3333333333333333,
              "#9c179e"
             ],
             [
              0.4444444444444444,
              "#bd3786"
             ],
             [
              0.5555555555555556,
              "#d8576b"
             ],
             [
              0.6666666666666666,
              "#ed7953"
             ],
             [
              0.7777777777777778,
              "#fb9f3a"
             ],
             [
              0.8888888888888888,
              "#fdca26"
             ],
             [
              1,
              "#f0f921"
             ]
            ],
            "type": "contour"
           }
          ],
          "contourcarpet": [
           {
            "colorbar": {
             "outlinewidth": 0,
             "ticks": ""
            },
            "type": "contourcarpet"
           }
          ],
          "heatmap": [
           {
            "colorbar": {
             "outlinewidth": 0,
             "ticks": ""
            },
            "colorscale": [
             [
              0,
              "#0d0887"
             ],
             [
              0.1111111111111111,
              "#46039f"
             ],
             [
              0.2222222222222222,
              "#7201a8"
             ],
             [
              0.3333333333333333,
              "#9c179e"
             ],
             [
              0.4444444444444444,
              "#bd3786"
             ],
             [
              0.5555555555555556,
              "#d8576b"
             ],
             [
              0.6666666666666666,
              "#ed7953"
             ],
             [
              0.7777777777777778,
              "#fb9f3a"
             ],
             [
              0.8888888888888888,
              "#fdca26"
             ],
             [
              1,
              "#f0f921"
             ]
            ],
            "type": "heatmap"
           }
          ],
          "heatmapgl": [
           {
            "colorbar": {
             "outlinewidth": 0,
             "ticks": ""
            },
            "colorscale": [
             [
              0,
              "#0d0887"
             ],
             [
              0.1111111111111111,
              "#46039f"
             ],
             [
              0.2222222222222222,
              "#7201a8"
             ],
             [
              0.3333333333333333,
              "#9c179e"
             ],
             [
              0.4444444444444444,
              "#bd3786"
             ],
             [
              0.5555555555555556,
              "#d8576b"
             ],
             [
              0.6666666666666666,
              "#ed7953"
             ],
             [
              0.7777777777777778,
              "#fb9f3a"
             ],
             [
              0.8888888888888888,
              "#fdca26"
             ],
             [
              1,
              "#f0f921"
             ]
            ],
            "type": "heatmapgl"
           }
          ],
          "histogram": [
           {
            "marker": {
             "colorbar": {
              "outlinewidth": 0,
              "ticks": ""
             }
            },
            "type": "histogram"
           }
          ],
          "histogram2d": [
           {
            "colorbar": {
             "outlinewidth": 0,
             "ticks": ""
            },
            "colorscale": [
             [
              0,
              "#0d0887"
             ],
             [
              0.1111111111111111,
              "#46039f"
             ],
             [
              0.2222222222222222,
              "#7201a8"
             ],
             [
              0.3333333333333333,
              "#9c179e"
             ],
             [
              0.4444444444444444,
              "#bd3786"
             ],
             [
              0.5555555555555556,
              "#d8576b"
             ],
             [
              0.6666666666666666,
              "#ed7953"
             ],
             [
              0.7777777777777778,
              "#fb9f3a"
             ],
             [
              0.8888888888888888,
              "#fdca26"
             ],
             [
              1,
              "#f0f921"
             ]
            ],
            "type": "histogram2d"
           }
          ],
          "histogram2dcontour": [
           {
            "colorbar": {
             "outlinewidth": 0,
             "ticks": ""
            },
            "colorscale": [
             [
              0,
              "#0d0887"
             ],
             [
              0.1111111111111111,
              "#46039f"
             ],
             [
              0.2222222222222222,
              "#7201a8"
             ],
             [
              0.3333333333333333,
              "#9c179e"
             ],
             [
              0.4444444444444444,
              "#bd3786"
             ],
             [
              0.5555555555555556,
              "#d8576b"
             ],
             [
              0.6666666666666666,
              "#ed7953"
             ],
             [
              0.7777777777777778,
              "#fb9f3a"
             ],
             [
              0.8888888888888888,
              "#fdca26"
             ],
             [
              1,
              "#f0f921"
             ]
            ],
            "type": "histogram2dcontour"
           }
          ],
          "mesh3d": [
           {
            "colorbar": {
             "outlinewidth": 0,
             "ticks": ""
            },
            "type": "mesh3d"
           }
          ],
          "parcoords": [
           {
            "line": {
             "colorbar": {
              "outlinewidth": 0,
              "ticks": ""
             }
            },
            "type": "parcoords"
           }
          ],
          "pie": [
           {
            "automargin": true,
            "type": "pie"
           }
          ],
          "scatter": [
           {
            "marker": {
             "colorbar": {
              "outlinewidth": 0,
              "ticks": ""
             }
            },
            "type": "scatter"
           }
          ],
          "scatter3d": [
           {
            "line": {
             "colorbar": {
              "outlinewidth": 0,
              "ticks": ""
             }
            },
            "marker": {
             "colorbar": {
              "outlinewidth": 0,
              "ticks": ""
             }
            },
            "type": "scatter3d"
           }
          ],
          "scattercarpet": [
           {
            "marker": {
             "colorbar": {
              "outlinewidth": 0,
              "ticks": ""
             }
            },
            "type": "scattercarpet"
           }
          ],
          "scattergeo": [
           {
            "marker": {
             "colorbar": {
              "outlinewidth": 0,
              "ticks": ""
             }
            },
            "type": "scattergeo"
           }
          ],
          "scattergl": [
           {
            "marker": {
             "colorbar": {
              "outlinewidth": 0,
              "ticks": ""
             }
            },
            "type": "scattergl"
           }
          ],
          "scattermapbox": [
           {
            "marker": {
             "colorbar": {
              "outlinewidth": 0,
              "ticks": ""
             }
            },
            "type": "scattermapbox"
           }
          ],
          "scatterpolar": [
           {
            "marker": {
             "colorbar": {
              "outlinewidth": 0,
              "ticks": ""
             }
            },
            "type": "scatterpolar"
           }
          ],
          "scatterpolargl": [
           {
            "marker": {
             "colorbar": {
              "outlinewidth": 0,
              "ticks": ""
             }
            },
            "type": "scatterpolargl"
           }
          ],
          "scatterternary": [
           {
            "marker": {
             "colorbar": {
              "outlinewidth": 0,
              "ticks": ""
             }
            },
            "type": "scatterternary"
           }
          ],
          "surface": [
           {
            "colorbar": {
             "outlinewidth": 0,
             "ticks": ""
            },
            "colorscale": [
             [
              0,
              "#0d0887"
             ],
             [
              0.1111111111111111,
              "#46039f"
             ],
             [
              0.2222222222222222,
              "#7201a8"
             ],
             [
              0.3333333333333333,
              "#9c179e"
             ],
             [
              0.4444444444444444,
              "#bd3786"
             ],
             [
              0.5555555555555556,
              "#d8576b"
             ],
             [
              0.6666666666666666,
              "#ed7953"
             ],
             [
              0.7777777777777778,
              "#fb9f3a"
             ],
             [
              0.8888888888888888,
              "#fdca26"
             ],
             [
              1,
              "#f0f921"
             ]
            ],
            "type": "surface"
           }
          ],
          "table": [
           {
            "cells": {
             "fill": {
              "color": "#EBF0F8"
             },
             "line": {
              "color": "white"
             }
            },
            "header": {
             "fill": {
              "color": "#C8D4E3"
             },
             "line": {
              "color": "white"
             }
            },
            "type": "table"
           }
          ]
         },
         "layout": {
          "annotationdefaults": {
           "arrowcolor": "#2a3f5f",
           "arrowhead": 0,
           "arrowwidth": 1
          },
          "autotypenumbers": "strict",
          "coloraxis": {
           "colorbar": {
            "outlinewidth": 0,
            "ticks": ""
           }
          },
          "colorscale": {
           "diverging": [
            [
             0,
             "#8e0152"
            ],
            [
             0.1,
             "#c51b7d"
            ],
            [
             0.2,
             "#de77ae"
            ],
            [
             0.3,
             "#f1b6da"
            ],
            [
             0.4,
             "#fde0ef"
            ],
            [
             0.5,
             "#f7f7f7"
            ],
            [
             0.6,
             "#e6f5d0"
            ],
            [
             0.7,
             "#b8e186"
            ],
            [
             0.8,
             "#7fbc41"
            ],
            [
             0.9,
             "#4d9221"
            ],
            [
             1,
             "#276419"
            ]
           ],
           "sequential": [
            [
             0,
             "#0d0887"
            ],
            [
             0.1111111111111111,
             "#46039f"
            ],
            [
             0.2222222222222222,
             "#7201a8"
            ],
            [
             0.3333333333333333,
             "#9c179e"
            ],
            [
             0.4444444444444444,
             "#bd3786"
            ],
            [
             0.5555555555555556,
             "#d8576b"
            ],
            [
             0.6666666666666666,
             "#ed7953"
            ],
            [
             0.7777777777777778,
             "#fb9f3a"
            ],
            [
             0.8888888888888888,
             "#fdca26"
            ],
            [
             1,
             "#f0f921"
            ]
           ],
           "sequentialminus": [
            [
             0,
             "#0d0887"
            ],
            [
             0.1111111111111111,
             "#46039f"
            ],
            [
             0.2222222222222222,
             "#7201a8"
            ],
            [
             0.3333333333333333,
             "#9c179e"
            ],
            [
             0.4444444444444444,
             "#bd3786"
            ],
            [
             0.5555555555555556,
             "#d8576b"
            ],
            [
             0.6666666666666666,
             "#ed7953"
            ],
            [
             0.7777777777777778,
             "#fb9f3a"
            ],
            [
             0.8888888888888888,
             "#fdca26"
            ],
            [
             1,
             "#f0f921"
            ]
           ]
          },
          "colorway": [
           "#636efa",
           "#EF553B",
           "#00cc96",
           "#ab63fa",
           "#FFA15A",
           "#19d3f3",
           "#FF6692",
           "#B6E880",
           "#FF97FF",
           "#FECB52"
          ],
          "font": {
           "color": "#2a3f5f"
          },
          "geo": {
           "bgcolor": "white",
           "lakecolor": "white",
           "landcolor": "#E5ECF6",
           "showlakes": true,
           "showland": true,
           "subunitcolor": "white"
          },
          "hoverlabel": {
           "align": "left"
          },
          "hovermode": "closest",
          "mapbox": {
           "style": "light"
          },
          "paper_bgcolor": "white",
          "plot_bgcolor": "#E5ECF6",
          "polar": {
           "angularaxis": {
            "gridcolor": "white",
            "linecolor": "white",
            "ticks": ""
           },
           "bgcolor": "#E5ECF6",
           "radialaxis": {
            "gridcolor": "white",
            "linecolor": "white",
            "ticks": ""
           }
          },
          "scene": {
           "xaxis": {
            "backgroundcolor": "#E5ECF6",
            "gridcolor": "white",
            "gridwidth": 2,
            "linecolor": "white",
            "showbackground": true,
            "ticks": "",
            "zerolinecolor": "white"
           },
           "yaxis": {
            "backgroundcolor": "#E5ECF6",
            "gridcolor": "white",
            "gridwidth": 2,
            "linecolor": "white",
            "showbackground": true,
            "ticks": "",
            "zerolinecolor": "white"
           },
           "zaxis": {
            "backgroundcolor": "#E5ECF6",
            "gridcolor": "white",
            "gridwidth": 2,
            "linecolor": "white",
            "showbackground": true,
            "ticks": "",
            "zerolinecolor": "white"
           }
          },
          "shapedefaults": {
           "line": {
            "color": "#2a3f5f"
           }
          },
          "ternary": {
           "aaxis": {
            "gridcolor": "white",
            "linecolor": "white",
            "ticks": ""
           },
           "baxis": {
            "gridcolor": "white",
            "linecolor": "white",
            "ticks": ""
           },
           "bgcolor": "#E5ECF6",
           "caxis": {
            "gridcolor": "white",
            "linecolor": "white",
            "ticks": ""
           }
          },
          "title": {
           "x": 0.05
          },
          "xaxis": {
           "automargin": true,
           "gridcolor": "white",
           "linecolor": "white",
           "ticks": "",
           "title": {
            "standoff": 15
           },
           "zerolinecolor": "white",
           "zerolinewidth": 2
          },
          "yaxis": {
           "automargin": true,
           "gridcolor": "white",
           "linecolor": "white",
           "ticks": "",
           "title": {
            "standoff": 15
           },
           "zerolinecolor": "white",
           "zerolinewidth": 2
          }
         }
        }
       }
      },
      "text/html": [
       "<div>                            <div id=\"914f40ab-5c70-4a6a-90d9-f49b247d8c77\" class=\"plotly-graph-div\" style=\"height:525px; width:100%;\"></div>            <script type=\"text/javascript\">                require([\"plotly\"], function(Plotly) {                    window.PLOTLYENV=window.PLOTLYENV || {};                                    if (document.getElementById(\"914f40ab-5c70-4a6a-90d9-f49b247d8c77\")) {                    Plotly.newPlot(                        \"914f40ab-5c70-4a6a-90d9-f49b247d8c77\",                        [{\"branchvalues\": \"total\", \"customdata\": [[3], [146], [1384], [4168], [4013], [2407], [15968], [391], [31356], [1816], [67948], [209], [12934], [13038], [530], [5060], [5306], [17449], [11344], [77], [9818], [2877], [109127], [30174], [33090], [22273], [3], [7], [33876], [46771], [2993], [17261], [26], [3155], [980], [3253], [5], [13536], [7152], [3457], [5], [15812], [7904], [12678], [3207], [12814], [2141], [10071], [14949], [12748]], \"domain\": {\"x\": [0.0, 1.0], \"y\": [0.0, 1.0]}, \"hovertemplate\": \"labels=%{label}<br>COUNT_sum=%{value}<br>parent=%{parent}<br>id=%{id}<br>COUNT=%{color}<extra></extra>\", \"ids\": [\"AGRICULTEUR EXPLOITANT\", \"AGRICULTEUR GRANDE EXPLOITATION\", \"AGRICULTEUR MOYENNE EXPLOITATION\", \"AGRICULTEUR PETITE EXPLOITATION\", \"ANCIEN PROFNS INTERMEDIAIRES\", \"ANCIENS AGRICULTEURS EXPLOITANTS\", \"ANCIENS ARTIS COMMERC CHEF ENTRE\", \"ANCIENS CADRES\", \"ANCIENS CADRES PROFESSIONS INTER\", \"ANCIENS EMPLOYES\", \"ANCIENS EMPLOYES ET OUVRIERS\", \"ANCIENS OUVRIERS\", \"ARTISANS\", \"CADRES ADMN COMMERC ENTREPRISES\", \"CADRES D' ENTREPRISE\", \"CADRES DE LA FONCTION PUBLIQUE\", \"CHAUFFEURS CONDUCTEURS ROUTIERS\", \"CHEFS D'ENTREPRISES\", \"CHOMEURS\", \"CLERGE RELIGIEUX\", \"COMMERCANTS ET ASSIMILES\", \"CONTREMAITRES,AGENTS DE MAITRISE\", \"ELEVES ETUDIANTS\", \"EMPL CIVILS AGENTS FONCT PUBLIQ\", \"EMPLOYES ADMI.ENTREPRISE PRIVEE\", \"EMPLOYES DE COMMERCE\", \"EMPLOYES DE LA FONCTION PUBLIQUE\", \"INACTIFS DIVERS NON RETRAITES\", \"INACTIFS DIVERS SAUF RET +60ANS\", \"INACTIFS DIVERS SAUF RET - 60ANS\", \"INGENIEURS CADRES TECHNI ENTREP\", \"INSTITUTEURS ET ASSIMILES\", \"MILITAIRES DU CONTINGENT\", \"OUV NON QUALIFIE DE L'INDUSTRIE\", \"OUV QUAL MANUT MAGASIN TRANSPORT\", \"OUVRIER NON QUALIFIE ARTISANAT\", \"OUVRIER QUALIFIE\", \"OUVRIER QUALIFIE DE L'ARTISANAT\", \"OUVRIER QUALIFIE DE L'INDUSTRIE\", \"OUVRIERS AGRICOLES\", \"OUVRIERS NON QUALITES\", \"PERSONNEL SERVICE AU PARTICULIER\", \"POLIC.MILIT.GEND.POMPIER GARDE\", \"PROFESSEURS PROF SCIENTIFIQUES\", \"PROFESSION ADM FONCTION PUBLIQUE\", \"PROFESSIONS ADM COMMERCIAL PRIVE\", \"PROFESSIONS DE L'INFO ART SPECTA\", \"PROFESSIONS LIBERALES\", \"PROFESSIONS SANTE TRAVAIL SOCIAL\", \"TECHNICIENS\"], \"labels\": [\"AGRICULTEUR EXPLOITANT\", \"AGRICULTEUR GRANDE EXPLOITATION\", \"AGRICULTEUR MOYENNE EXPLOITATION\", \"AGRICULTEUR PETITE EXPLOITATION\", \"ANCIEN PROFNS INTERMEDIAIRES\", \"ANCIENS AGRICULTEURS EXPLOITANTS\", \"ANCIENS ARTIS COMMERC CHEF ENTRE\", \"ANCIENS CADRES\", \"ANCIENS CADRES PROFESSIONS INTER\", \"ANCIENS EMPLOYES\", \"ANCIENS EMPLOYES ET OUVRIERS\", \"ANCIENS OUVRIERS\", \"ARTISANS\", \"CADRES ADMN COMMERC ENTREPRISES\", \"CADRES D' ENTREPRISE\", \"CADRES DE LA FONCTION PUBLIQUE\", \"CHAUFFEURS CONDUCTEURS ROUTIERS\", \"CHEFS D'ENTREPRISES\", \"CHOMEURS\", \"CLERGE RELIGIEUX\", \"COMMERCANTS ET ASSIMILES\", \"CONTREMAITRES,AGENTS DE MAITRISE\", \"ELEVES ETUDIANTS\", \"EMPL CIVILS AGENTS FONCT PUBLIQ\", \"EMPLOYES ADMI.ENTREPRISE PRIVEE\", \"EMPLOYES DE COMMERCE\", \"EMPLOYES DE LA FONCTION PUBLIQUE\", \"INACTIFS DIVERS NON RETRAITES\", \"INACTIFS DIVERS SAUF RET +60ANS\", \"INACTIFS DIVERS SAUF RET - 60ANS\", \"INGENIEURS CADRES TECHNI ENTREP\", \"INSTITUTEURS ET ASSIMILES\", \"MILITAIRES DU CONTINGENT\", \"OUV NON QUALIFIE DE L'INDUSTRIE\", \"OUV QUAL MANUT MAGASIN TRANSPORT\", \"OUVRIER NON QUALIFIE ARTISANAT\", \"OUVRIER QUALIFIE\", \"OUVRIER QUALIFIE DE L'ARTISANAT\", \"OUVRIER QUALIFIE DE L'INDUSTRIE\", \"OUVRIERS AGRICOLES\", \"OUVRIERS NON QUALITES\", \"PERSONNEL SERVICE AU PARTICULIER\", \"POLIC.MILIT.GEND.POMPIER GARDE\", \"PROFESSEURS PROF SCIENTIFIQUES\", \"PROFESSION ADM FONCTION PUBLIQUE\", \"PROFESSIONS ADM COMMERCIAL PRIVE\", \"PROFESSIONS DE L'INFO ART SPECTA\", \"PROFESSIONS LIBERALES\", \"PROFESSIONS SANTE TRAVAIL SOCIAL\", \"TECHNICIENS\"], \"marker\": {\"coloraxis\": \"coloraxis\", \"colors\": [3, 146, 1384, 4168, 4013, 2407, 15968, 391, 31356, 1816, 67948, 209, 12934, 13038, 530, 5060, 5306, 17449, 11344, 77, 9818, 2877, 109127, 30174, 33090, 22273, 3, 7, 33876, 46771, 2993, 17261, 26, 3155, 980, 3253, 5, 13536, 7152, 3457, 5, 15812, 7904, 12678, 3207, 12814, 2141, 10071, 14949, 12748]}, \"name\": \"\", \"parents\": [\"\", \"\", \"\", \"\", \"\", \"\", \"\", \"\", \"\", \"\", \"\", \"\", \"\", \"\", \"\", \"\", \"\", \"\", \"\", \"\", \"\", \"\", \"\", \"\", \"\", \"\", \"\", \"\", \"\", \"\", \"\", \"\", \"\", \"\", \"\", \"\", \"\", \"\", \"\", \"\", \"\", \"\", \"\", \"\", \"\", \"\", \"\", \"\", \"\", \"\"], \"type\": \"treemap\", \"values\": [3, 146, 1384, 4168, 4013, 2407, 15968, 391, 31356, 1816, 67948, 209, 12934, 13038, 530, 5060, 5306, 17449, 11344, 77, 9818, 2877, 109127, 30174, 33090, 22273, 3, 7, 33876, 46771, 2993, 17261, 26, 3155, 980, 3253, 5, 13536, 7152, 3457, 5, 15812, 7904, 12678, 3207, 12814, 2141, 10071, 14949, 12748]}],                        {\"coloraxis\": {\"colorbar\": {\"title\": {\"text\": \"COUNT\"}}, \"colorscale\": [[0.0, \"#0d0887\"], [0.1111111111111111, \"#46039f\"], [0.2222222222222222, \"#7201a8\"], [0.3333333333333333, \"#9c179e\"], [0.4444444444444444, \"#bd3786\"], [0.5555555555555556, \"#d8576b\"], [0.6666666666666666, \"#ed7953\"], [0.7777777777777778, \"#fb9f3a\"], [0.8888888888888888, \"#fdca26\"], [1.0, \"#f0f921\"]]}, \"legend\": {\"tracegroupgap\": 0}, \"margin\": {\"t\": 60}, \"template\": {\"data\": {\"bar\": [{\"error_x\": {\"color\": \"#2a3f5f\"}, \"error_y\": {\"color\": \"#2a3f5f\"}, \"marker\": {\"line\": {\"color\": \"#E5ECF6\", \"width\": 0.5}}, \"type\": \"bar\"}], \"barpolar\": [{\"marker\": {\"line\": {\"color\": \"#E5ECF6\", \"width\": 0.5}}, \"type\": \"barpolar\"}], \"carpet\": [{\"aaxis\": {\"endlinecolor\": \"#2a3f5f\", \"gridcolor\": \"white\", \"linecolor\": \"white\", \"minorgridcolor\": \"white\", \"startlinecolor\": \"#2a3f5f\"}, \"baxis\": {\"endlinecolor\": \"#2a3f5f\", \"gridcolor\": \"white\", \"linecolor\": \"white\", \"minorgridcolor\": \"white\", \"startlinecolor\": \"#2a3f5f\"}, \"type\": \"carpet\"}], \"choropleth\": [{\"colorbar\": {\"outlinewidth\": 0, \"ticks\": \"\"}, \"type\": \"choropleth\"}], \"contour\": [{\"colorbar\": {\"outlinewidth\": 0, \"ticks\": \"\"}, \"colorscale\": [[0.0, \"#0d0887\"], [0.1111111111111111, \"#46039f\"], [0.2222222222222222, \"#7201a8\"], [0.3333333333333333, \"#9c179e\"], [0.4444444444444444, \"#bd3786\"], [0.5555555555555556, \"#d8576b\"], [0.6666666666666666, \"#ed7953\"], [0.7777777777777778, \"#fb9f3a\"], [0.8888888888888888, \"#fdca26\"], [1.0, \"#f0f921\"]], \"type\": \"contour\"}], \"contourcarpet\": [{\"colorbar\": {\"outlinewidth\": 0, \"ticks\": \"\"}, \"type\": \"contourcarpet\"}], \"heatmap\": [{\"colorbar\": {\"outlinewidth\": 0, \"ticks\": \"\"}, \"colorscale\": [[0.0, \"#0d0887\"], [0.1111111111111111, \"#46039f\"], [0.2222222222222222, \"#7201a8\"], [0.3333333333333333, \"#9c179e\"], [0.4444444444444444, \"#bd3786\"], [0.5555555555555556, \"#d8576b\"], [0.6666666666666666, \"#ed7953\"], [0.7777777777777778, \"#fb9f3a\"], [0.8888888888888888, \"#fdca26\"], [1.0, \"#f0f921\"]], \"type\": \"heatmap\"}], \"heatmapgl\": [{\"colorbar\": {\"outlinewidth\": 0, \"ticks\": \"\"}, \"colorscale\": [[0.0, \"#0d0887\"], [0.1111111111111111, \"#46039f\"], [0.2222222222222222, \"#7201a8\"], [0.3333333333333333, \"#9c179e\"], [0.4444444444444444, \"#bd3786\"], [0.5555555555555556, \"#d8576b\"], [0.6666666666666666, \"#ed7953\"], [0.7777777777777778, \"#fb9f3a\"], [0.8888888888888888, \"#fdca26\"], [1.0, \"#f0f921\"]], \"type\": \"heatmapgl\"}], \"histogram\": [{\"marker\": {\"colorbar\": {\"outlinewidth\": 0, \"ticks\": \"\"}}, \"type\": \"histogram\"}], \"histogram2d\": [{\"colorbar\": {\"outlinewidth\": 0, \"ticks\": \"\"}, \"colorscale\": [[0.0, \"#0d0887\"], [0.1111111111111111, \"#46039f\"], [0.2222222222222222, \"#7201a8\"], [0.3333333333333333, \"#9c179e\"], [0.4444444444444444, \"#bd3786\"], [0.5555555555555556, \"#d8576b\"], [0.6666666666666666, \"#ed7953\"], [0.7777777777777778, \"#fb9f3a\"], [0.8888888888888888, \"#fdca26\"], [1.0, \"#f0f921\"]], \"type\": \"histogram2d\"}], \"histogram2dcontour\": [{\"colorbar\": {\"outlinewidth\": 0, \"ticks\": \"\"}, \"colorscale\": [[0.0, \"#0d0887\"], [0.1111111111111111, \"#46039f\"], [0.2222222222222222, \"#7201a8\"], [0.3333333333333333, \"#9c179e\"], [0.4444444444444444, \"#bd3786\"], [0.5555555555555556, \"#d8576b\"], [0.6666666666666666, \"#ed7953\"], [0.7777777777777778, \"#fb9f3a\"], [0.8888888888888888, \"#fdca26\"], [1.0, \"#f0f921\"]], \"type\": \"histogram2dcontour\"}], \"mesh3d\": [{\"colorbar\": {\"outlinewidth\": 0, \"ticks\": \"\"}, \"type\": \"mesh3d\"}], \"parcoords\": [{\"line\": {\"colorbar\": {\"outlinewidth\": 0, \"ticks\": \"\"}}, \"type\": \"parcoords\"}], \"pie\": [{\"automargin\": true, \"type\": \"pie\"}], \"scatter\": [{\"marker\": {\"colorbar\": {\"outlinewidth\": 0, \"ticks\": \"\"}}, \"type\": \"scatter\"}], \"scatter3d\": [{\"line\": {\"colorbar\": {\"outlinewidth\": 0, \"ticks\": \"\"}}, \"marker\": {\"colorbar\": {\"outlinewidth\": 0, \"ticks\": \"\"}}, \"type\": \"scatter3d\"}], \"scattercarpet\": [{\"marker\": {\"colorbar\": {\"outlinewidth\": 0, \"ticks\": \"\"}}, \"type\": \"scattercarpet\"}], \"scattergeo\": [{\"marker\": {\"colorbar\": {\"outlinewidth\": 0, \"ticks\": \"\"}}, \"type\": \"scattergeo\"}], \"scattergl\": [{\"marker\": {\"colorbar\": {\"outlinewidth\": 0, \"ticks\": \"\"}}, \"type\": \"scattergl\"}], \"scattermapbox\": [{\"marker\": {\"colorbar\": {\"outlinewidth\": 0, \"ticks\": \"\"}}, \"type\": \"scattermapbox\"}], \"scatterpolar\": [{\"marker\": {\"colorbar\": {\"outlinewidth\": 0, \"ticks\": \"\"}}, \"type\": \"scatterpolar\"}], \"scatterpolargl\": [{\"marker\": {\"colorbar\": {\"outlinewidth\": 0, \"ticks\": \"\"}}, \"type\": \"scatterpolargl\"}], \"scatterternary\": [{\"marker\": {\"colorbar\": {\"outlinewidth\": 0, \"ticks\": \"\"}}, \"type\": \"scatterternary\"}], \"surface\": [{\"colorbar\": {\"outlinewidth\": 0, \"ticks\": \"\"}, \"colorscale\": [[0.0, \"#0d0887\"], [0.1111111111111111, \"#46039f\"], [0.2222222222222222, \"#7201a8\"], [0.3333333333333333, \"#9c179e\"], [0.4444444444444444, \"#bd3786\"], [0.5555555555555556, \"#d8576b\"], [0.6666666666666666, \"#ed7953\"], [0.7777777777777778, \"#fb9f3a\"], [0.8888888888888888, \"#fdca26\"], [1.0, \"#f0f921\"]], \"type\": \"surface\"}], \"table\": [{\"cells\": {\"fill\": {\"color\": \"#EBF0F8\"}, \"line\": {\"color\": \"white\"}}, \"header\": {\"fill\": {\"color\": \"#C8D4E3\"}, \"line\": {\"color\": \"white\"}}, \"type\": \"table\"}]}, \"layout\": {\"annotationdefaults\": {\"arrowcolor\": \"#2a3f5f\", \"arrowhead\": 0, \"arrowwidth\": 1}, \"autotypenumbers\": \"strict\", \"coloraxis\": {\"colorbar\": {\"outlinewidth\": 0, \"ticks\": \"\"}}, \"colorscale\": {\"diverging\": [[0, \"#8e0152\"], [0.1, \"#c51b7d\"], [0.2, \"#de77ae\"], [0.3, \"#f1b6da\"], [0.4, \"#fde0ef\"], [0.5, \"#f7f7f7\"], [0.6, \"#e6f5d0\"], [0.7, \"#b8e186\"], [0.8, \"#7fbc41\"], [0.9, \"#4d9221\"], [1, \"#276419\"]], \"sequential\": [[0.0, \"#0d0887\"], [0.1111111111111111, \"#46039f\"], [0.2222222222222222, \"#7201a8\"], [0.3333333333333333, \"#9c179e\"], [0.4444444444444444, \"#bd3786\"], [0.5555555555555556, \"#d8576b\"], [0.6666666666666666, \"#ed7953\"], [0.7777777777777778, \"#fb9f3a\"], [0.8888888888888888, \"#fdca26\"], [1.0, \"#f0f921\"]], \"sequentialminus\": [[0.0, \"#0d0887\"], [0.1111111111111111, \"#46039f\"], [0.2222222222222222, \"#7201a8\"], [0.3333333333333333, \"#9c179e\"], [0.4444444444444444, \"#bd3786\"], [0.5555555555555556, \"#d8576b\"], [0.6666666666666666, \"#ed7953\"], [0.7777777777777778, \"#fb9f3a\"], [0.8888888888888888, \"#fdca26\"], [1.0, \"#f0f921\"]]}, \"colorway\": [\"#636efa\", \"#EF553B\", \"#00cc96\", \"#ab63fa\", \"#FFA15A\", \"#19d3f3\", \"#FF6692\", \"#B6E880\", \"#FF97FF\", \"#FECB52\"], \"font\": {\"color\": \"#2a3f5f\"}, \"geo\": {\"bgcolor\": \"white\", \"lakecolor\": \"white\", \"landcolor\": \"#E5ECF6\", \"showlakes\": true, \"showland\": true, \"subunitcolor\": \"white\"}, \"hoverlabel\": {\"align\": \"left\"}, \"hovermode\": \"closest\", \"mapbox\": {\"style\": \"light\"}, \"paper_bgcolor\": \"white\", \"plot_bgcolor\": \"#E5ECF6\", \"polar\": {\"angularaxis\": {\"gridcolor\": \"white\", \"linecolor\": \"white\", \"ticks\": \"\"}, \"bgcolor\": \"#E5ECF6\", \"radialaxis\": {\"gridcolor\": \"white\", \"linecolor\": \"white\", \"ticks\": \"\"}}, \"scene\": {\"xaxis\": {\"backgroundcolor\": \"#E5ECF6\", \"gridcolor\": \"white\", \"gridwidth\": 2, \"linecolor\": \"white\", \"showbackground\": true, \"ticks\": \"\", \"zerolinecolor\": \"white\"}, \"yaxis\": {\"backgroundcolor\": \"#E5ECF6\", \"gridcolor\": \"white\", \"gridwidth\": 2, \"linecolor\": \"white\", \"showbackground\": true, \"ticks\": \"\", \"zerolinecolor\": \"white\"}, \"zaxis\": {\"backgroundcolor\": \"#E5ECF6\", \"gridcolor\": \"white\", \"gridwidth\": 2, \"linecolor\": \"white\", \"showbackground\": true, \"ticks\": \"\", \"zerolinecolor\": \"white\"}}, \"shapedefaults\": {\"line\": {\"color\": \"#2a3f5f\"}}, \"ternary\": {\"aaxis\": {\"gridcolor\": \"white\", \"linecolor\": \"white\", \"ticks\": \"\"}, \"baxis\": {\"gridcolor\": \"white\", \"linecolor\": \"white\", \"ticks\": \"\"}, \"bgcolor\": \"#E5ECF6\", \"caxis\": {\"gridcolor\": \"white\", \"linecolor\": \"white\", \"ticks\": \"\"}}, \"title\": {\"x\": 0.05}, \"xaxis\": {\"automargin\": true, \"gridcolor\": \"white\", \"linecolor\": \"white\", \"ticks\": \"\", \"title\": {\"standoff\": 15}, \"zerolinecolor\": \"white\", \"zerolinewidth\": 2}, \"yaxis\": {\"automargin\": true, \"gridcolor\": \"white\", \"linecolor\": \"white\", \"ticks\": \"\", \"title\": {\"standoff\": 15}, \"zerolinecolor\": \"white\", \"zerolinewidth\": 2}}}},                        {\"responsive\": true}                    ).then(function(){\n",
       "                            \n",
       "var gd = document.getElementById('914f40ab-5c70-4a6a-90d9-f49b247d8c77');\n",
       "var x = new MutationObserver(function (mutations, observer) {{\n",
       "        var display = window.getComputedStyle(gd).display;\n",
       "        if (!display || display === 'none') {{\n",
       "            console.log([gd, 'removed!']);\n",
       "            Plotly.purge(gd);\n",
       "            observer.disconnect();\n",
       "        }}\n",
       "}});\n",
       "\n",
       "// Listen for the removal of the full notebook cells\n",
       "var notebookContainer = gd.closest('#notebook-container');\n",
       "if (notebookContainer) {{\n",
       "    x.observe(notebookContainer, {childList: true});\n",
       "}}\n",
       "\n",
       "// Listen for the clearing of the current output cell\n",
       "var outputEl = gd.closest('.output');\n",
       "if (outputEl) {{\n",
       "    x.observe(outputEl, {childList: true});\n",
       "}}\n",
       "\n",
       "                        })                };                });            </script>        </div>"
      ]
     },
     "metadata": {},
     "output_type": "display_data"
    }
   ],
   "source": [
    "fig"
   ]
  },
  {
   "cell_type": "code",
   "execution_count": null,
   "id": "attached-jefferson",
   "metadata": {},
   "outputs": [],
   "source": [
    "fig.write_image(\"../graphes/CTSCPI.svg\")"
   ]
  }
 ],
 "metadata": {
  "kernelspec": {
   "display_name": "Python 3",
   "language": "python",
   "name": "python3"
  },
  "language_info": {
   "codemirror_mode": {
    "name": "ipython",
    "version": 3
   },
   "file_extension": ".py",
   "mimetype": "text/x-python",
   "name": "python",
   "nbconvert_exporter": "python",
   "pygments_lexer": "ipython3",
   "version": "3.6.8"
  }
 },
 "nbformat": 4,
 "nbformat_minor": 5
}
