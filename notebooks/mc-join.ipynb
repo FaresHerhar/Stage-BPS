{
 "cells": [
  {
   "cell_type": "code",
   "execution_count": 1,
   "id": "viral-diploma",
   "metadata": {},
   "outputs": [],
   "source": [
    "import pandas as pd\n",
    "import numpy as np"
   ]
  },
  {
   "cell_type": "code",
   "execution_count": 2,
   "id": "catholic-wireless",
   "metadata": {},
   "outputs": [],
   "source": [
    "pca = pd.read_csv('cleaned-data/PCA-data.csv', encoding='iso-8859-1', sep='\\t')\n",
    "clients = pd.read_csv('cleaned-data/moral-clients.csv', encoding='iso-8859-1', sep='\\t')"
   ]
  },
  {
   "cell_type": "code",
   "execution_count": 3,
   "id": "employed-grill",
   "metadata": {},
   "outputs": [
    {
     "name": "stdout",
     "output_type": "stream",
     "text": [
      "<class 'pandas.core.frame.DataFrame'>\n",
      "RangeIndex: 570180 entries, 0 to 570179\n",
      "Data columns (total 5 columns):\n",
      " #   Column  Non-Null Count   Dtype  \n",
      "---  ------  --------------   -----  \n",
      " 0   COMAX   570180 non-null  object \n",
      " 1   PCA-1   570180 non-null  float64\n",
      " 2   PCA-2   570180 non-null  float64\n",
      " 3   PCA-3   570180 non-null  float64\n",
      " 4   PCA-4   570180 non-null  float64\n",
      "dtypes: float64(4), object(1)\n",
      "memory usage: 21.8+ MB\n"
     ]
    }
   ],
   "source": [
    "pca.info()"
   ]
  },
  {
   "cell_type": "code",
   "execution_count": 4,
   "id": "widespread-instrument",
   "metadata": {},
   "outputs": [
    {
     "name": "stdout",
     "output_type": "stream",
     "text": [
      "<class 'pandas.core.frame.DataFrame'>\n",
      "RangeIndex: 3342711 entries, 0 to 3342710\n",
      "Data columns (total 3 columns):\n",
      " #   Column  Dtype \n",
      "---  ------  ----- \n",
      " 0   COMAX   object\n",
      " 1   CTPE    int64 \n",
      " 2   CORELB  int64 \n",
      "dtypes: int64(2), object(1)\n",
      "memory usage: 76.5+ MB\n"
     ]
    }
   ],
   "source": [
    "clients.info()"
   ]
  },
  {
   "cell_type": "code",
   "execution_count": 5,
   "id": "color-midnight",
   "metadata": {},
   "outputs": [
    {
     "data": {
      "text/html": [
       "<div>\n",
       "<style scoped>\n",
       "    .dataframe tbody tr th:only-of-type {\n",
       "        vertical-align: middle;\n",
       "    }\n",
       "\n",
       "    .dataframe tbody tr th {\n",
       "        vertical-align: top;\n",
       "    }\n",
       "\n",
       "    .dataframe thead th {\n",
       "        text-align: right;\n",
       "    }\n",
       "</style>\n",
       "<table border=\"1\" class=\"dataframe\">\n",
       "  <thead>\n",
       "    <tr style=\"text-align: right;\">\n",
       "      <th></th>\n",
       "      <th>COMAX</th>\n",
       "      <th>CTPE</th>\n",
       "      <th>CORELB</th>\n",
       "    </tr>\n",
       "  </thead>\n",
       "  <tbody>\n",
       "    <tr>\n",
       "      <th>0</th>\n",
       "      <td>6e3a2b9fa1</td>\n",
       "      <td>1</td>\n",
       "      <td>1</td>\n",
       "    </tr>\n",
       "    <tr>\n",
       "      <th>1</th>\n",
       "      <td>6e3a2b9fa1</td>\n",
       "      <td>1</td>\n",
       "      <td>1</td>\n",
       "    </tr>\n",
       "  </tbody>\n",
       "</table>\n",
       "</div>"
      ],
      "text/plain": [
       "        COMAX  CTPE  CORELB\n",
       "0  6e3a2b9fa1     1       1\n",
       "1  6e3a2b9fa1     1       1"
      ]
     },
     "execution_count": 5,
     "metadata": {},
     "output_type": "execute_result"
    }
   ],
   "source": [
    "clients.head(n=2)"
   ]
  },
  {
   "cell_type": "code",
   "execution_count": 6,
   "id": "valid-rotation",
   "metadata": {},
   "outputs": [],
   "source": [
    "data = pd.merge(clients,pca,on='COMAX',how='left')"
   ]
  },
  {
   "cell_type": "code",
   "execution_count": 7,
   "id": "global-phase",
   "metadata": {},
   "outputs": [
    {
     "name": "stdout",
     "output_type": "stream",
     "text": [
      "<class 'pandas.core.frame.DataFrame'>\n",
      "Int64Index: 3342711 entries, 0 to 3342710\n",
      "Data columns (total 7 columns):\n",
      " #   Column  Dtype  \n",
      "---  ------  -----  \n",
      " 0   COMAX   object \n",
      " 1   CTPE    int64  \n",
      " 2   CORELB  int64  \n",
      " 3   PCA-1   float64\n",
      " 4   PCA-2   float64\n",
      " 5   PCA-3   float64\n",
      " 6   PCA-4   float64\n",
      "dtypes: float64(4), int64(2), object(1)\n",
      "memory usage: 204.0+ MB\n"
     ]
    }
   ],
   "source": [
    "data.info()"
   ]
  },
  {
   "cell_type": "code",
   "execution_count": 8,
   "id": "marine-concern",
   "metadata": {},
   "outputs": [
    {
     "data": {
      "text/html": [
       "<div>\n",
       "<style scoped>\n",
       "    .dataframe tbody tr th:only-of-type {\n",
       "        vertical-align: middle;\n",
       "    }\n",
       "\n",
       "    .dataframe tbody tr th {\n",
       "        vertical-align: top;\n",
       "    }\n",
       "\n",
       "    .dataframe thead th {\n",
       "        text-align: right;\n",
       "    }\n",
       "</style>\n",
       "<table border=\"1\" class=\"dataframe\">\n",
       "  <thead>\n",
       "    <tr style=\"text-align: right;\">\n",
       "      <th></th>\n",
       "      <th>COMAX</th>\n",
       "      <th>CTPE</th>\n",
       "      <th>CORELB</th>\n",
       "      <th>PCA-1</th>\n",
       "      <th>PCA-2</th>\n",
       "      <th>PCA-3</th>\n",
       "      <th>PCA-4</th>\n",
       "    </tr>\n",
       "  </thead>\n",
       "  <tbody>\n",
       "    <tr>\n",
       "      <th>0</th>\n",
       "      <td>6e3a2b9fa1</td>\n",
       "      <td>1</td>\n",
       "      <td>1</td>\n",
       "      <td>-1.619473</td>\n",
       "      <td>0.067995</td>\n",
       "      <td>-0.194275</td>\n",
       "      <td>0.193045</td>\n",
       "    </tr>\n",
       "    <tr>\n",
       "      <th>1</th>\n",
       "      <td>6e3a2b9fa1</td>\n",
       "      <td>1</td>\n",
       "      <td>1</td>\n",
       "      <td>-1.619473</td>\n",
       "      <td>0.067995</td>\n",
       "      <td>-0.194275</td>\n",
       "      <td>0.193045</td>\n",
       "    </tr>\n",
       "    <tr>\n",
       "      <th>2</th>\n",
       "      <td>6e3a2b9fa1</td>\n",
       "      <td>1</td>\n",
       "      <td>1</td>\n",
       "      <td>-1.619473</td>\n",
       "      <td>0.067995</td>\n",
       "      <td>-0.194275</td>\n",
       "      <td>0.193045</td>\n",
       "    </tr>\n",
       "    <tr>\n",
       "      <th>3</th>\n",
       "      <td>6e3a2b9fa1</td>\n",
       "      <td>1</td>\n",
       "      <td>1</td>\n",
       "      <td>-1.619473</td>\n",
       "      <td>0.067995</td>\n",
       "      <td>-0.194275</td>\n",
       "      <td>0.193045</td>\n",
       "    </tr>\n",
       "    <tr>\n",
       "      <th>4</th>\n",
       "      <td>6e3a2b9fa1</td>\n",
       "      <td>1</td>\n",
       "      <td>1</td>\n",
       "      <td>-1.619473</td>\n",
       "      <td>0.067995</td>\n",
       "      <td>-0.194275</td>\n",
       "      <td>0.193045</td>\n",
       "    </tr>\n",
       "    <tr>\n",
       "      <th>...</th>\n",
       "      <td>...</td>\n",
       "      <td>...</td>\n",
       "      <td>...</td>\n",
       "      <td>...</td>\n",
       "      <td>...</td>\n",
       "      <td>...</td>\n",
       "      <td>...</td>\n",
       "    </tr>\n",
       "    <tr>\n",
       "      <th>3342706</th>\n",
       "      <td>2ac6fa94b8</td>\n",
       "      <td>1</td>\n",
       "      <td>1</td>\n",
       "      <td>0.600369</td>\n",
       "      <td>0.572224</td>\n",
       "      <td>0.131148</td>\n",
       "      <td>-1.459051</td>\n",
       "    </tr>\n",
       "    <tr>\n",
       "      <th>3342707</th>\n",
       "      <td>2ac6fa94b8</td>\n",
       "      <td>1</td>\n",
       "      <td>1</td>\n",
       "      <td>0.600369</td>\n",
       "      <td>0.572224</td>\n",
       "      <td>0.131148</td>\n",
       "      <td>-1.459051</td>\n",
       "    </tr>\n",
       "    <tr>\n",
       "      <th>3342708</th>\n",
       "      <td>2ac6fa94b8</td>\n",
       "      <td>1</td>\n",
       "      <td>1</td>\n",
       "      <td>0.600369</td>\n",
       "      <td>0.572224</td>\n",
       "      <td>0.131148</td>\n",
       "      <td>-1.459051</td>\n",
       "    </tr>\n",
       "    <tr>\n",
       "      <th>3342709</th>\n",
       "      <td>2ac6fa94b8</td>\n",
       "      <td>1</td>\n",
       "      <td>1</td>\n",
       "      <td>0.600369</td>\n",
       "      <td>0.572224</td>\n",
       "      <td>0.131148</td>\n",
       "      <td>-1.459051</td>\n",
       "    </tr>\n",
       "    <tr>\n",
       "      <th>3342710</th>\n",
       "      <td>2ac6fa94b8</td>\n",
       "      <td>1</td>\n",
       "      <td>1</td>\n",
       "      <td>0.600369</td>\n",
       "      <td>0.572224</td>\n",
       "      <td>0.131148</td>\n",
       "      <td>-1.459051</td>\n",
       "    </tr>\n",
       "  </tbody>\n",
       "</table>\n",
       "<p>3342711 rows × 7 columns</p>\n",
       "</div>"
      ],
      "text/plain": [
       "              COMAX  CTPE  CORELB     PCA-1     PCA-2     PCA-3     PCA-4\n",
       "0        6e3a2b9fa1     1       1 -1.619473  0.067995 -0.194275  0.193045\n",
       "1        6e3a2b9fa1     1       1 -1.619473  0.067995 -0.194275  0.193045\n",
       "2        6e3a2b9fa1     1       1 -1.619473  0.067995 -0.194275  0.193045\n",
       "3        6e3a2b9fa1     1       1 -1.619473  0.067995 -0.194275  0.193045\n",
       "4        6e3a2b9fa1     1       1 -1.619473  0.067995 -0.194275  0.193045\n",
       "...             ...   ...     ...       ...       ...       ...       ...\n",
       "3342706  2ac6fa94b8     1       1  0.600369  0.572224  0.131148 -1.459051\n",
       "3342707  2ac6fa94b8     1       1  0.600369  0.572224  0.131148 -1.459051\n",
       "3342708  2ac6fa94b8     1       1  0.600369  0.572224  0.131148 -1.459051\n",
       "3342709  2ac6fa94b8     1       1  0.600369  0.572224  0.131148 -1.459051\n",
       "3342710  2ac6fa94b8     1       1  0.600369  0.572224  0.131148 -1.459051\n",
       "\n",
       "[3342711 rows x 7 columns]"
      ]
     },
     "execution_count": 8,
     "metadata": {},
     "output_type": "execute_result"
    }
   ],
   "source": [
    "data"
   ]
  },
  {
   "cell_type": "code",
   "execution_count": 11,
   "id": "closed-package",
   "metadata": {},
   "outputs": [],
   "source": [
    "data = data.dropna()"
   ]
  },
  {
   "cell_type": "code",
   "execution_count": 12,
   "id": "settled-addiction",
   "metadata": {},
   "outputs": [
    {
     "data": {
      "text/plain": [
       "(2745203, 7)"
      ]
     },
     "execution_count": 12,
     "metadata": {},
     "output_type": "execute_result"
    }
   ],
   "source": [
    "data.shape"
   ]
  },
  {
   "cell_type": "code",
   "execution_count": 13,
   "id": "southeast-pound",
   "metadata": {},
   "outputs": [],
   "source": [
    "data.to_csv('final-mc-data.csv', sep='\\t')"
   ]
  },
  {
   "cell_type": "code",
   "execution_count": null,
   "id": "blessed-scenario",
   "metadata": {},
   "outputs": [],
   "source": []
  }
 ],
 "metadata": {
  "kernelspec": {
   "display_name": "Python 3",
   "language": "python",
   "name": "python3"
  },
  "language_info": {
   "codemirror_mode": {
    "name": "ipython",
    "version": 3
   },
   "file_extension": ".py",
   "mimetype": "text/x-python",
   "name": "python",
   "nbconvert_exporter": "python",
   "pygments_lexer": "ipython3",
   "version": "3.8.5"
  }
 },
 "nbformat": 4,
 "nbformat_minor": 5
}
